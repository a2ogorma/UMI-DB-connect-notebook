{
 "cells": [
  {
   "cell_type": "code",
   "execution_count": 15,
   "id": "0034af08-3c10-4153-971c-2bcfde462444",
   "metadata": {},
   "outputs": [],
   "source": [
    "import pymysql\n",
    "import ipywidgets as widgets\n",
    "import pandas as pd\n",
    "import glob\n",
    "import os\n",
    "# Import necessary libraries\n",
    "import ipywidgets as widgets\n",
    "from IPython.display import display, clear_output\n",
    "import pandas as pd\n"
   ]
  },
  {
   "cell_type": "code",
   "execution_count": 55,
   "id": "94b75186-fd67-4b60-a5ed-675220189352",
   "metadata": {},
   "outputs": [
    {
     "data": {
      "application/vnd.jupyter.widget-view+json": {
       "model_id": "9540efbbe94f439baa3d9e980201b194",
       "version_major": 2,
       "version_minor": 0
      },
      "text/plain": [
       "Textarea(value='', description='Username:', placeholder='Username')"
      ]
     },
     "metadata": {},
     "output_type": "display_data"
    },
    {
     "data": {
      "application/vnd.jupyter.widget-view+json": {
       "model_id": "4b8fc439b06b40b5ae8a18de90fa5f43",
       "version_major": 2,
       "version_minor": 0
      },
      "text/plain": [
       "Textarea(value='', description='Password:', placeholder='Password')"
      ]
     },
     "metadata": {},
     "output_type": "display_data"
    }
   ],
   "source": [
    "\n",
    "user_input = widgets.Textarea(\n",
    "    placeholder='Username',\n",
    "    description='Username:',\n",
    "    disabled=False\n",
    ")\n",
    "password_input = widgets.Textarea(\n",
    "    placeholder='Password',\n",
    "    description='Password:',\n",
    "    disabled=False\n",
    ")\n",
    "display(user_input, password_input)"
   ]
  },
  {
   "cell_type": "code",
   "execution_count": 51,
   "id": "c34373c8-ab3b-4790-86cf-37ed8b4f669c",
   "metadata": {},
   "outputs": [
    {
     "name": "stdout",
     "output_type": "stream",
     "text": [
      "\n",
      "\n"
     ]
    }
   ],
   "source": [
    "username1 = user_input.value\n",
    "passwordtxt = password_input.value\n",
    "print(username1)\n",
    "print(passwordtxt)\n",
    "def get_db():\n",
    "    return pymysql.connect(host='umi_db.cobionix.com',\n",
    "                             user=username1,\n",
    "                             password=passwordtxt,\n",
    "                             database='Graphene',\n",
    "                             cursorclass=pymysql.cursors.DictCursor)"
   ]
  },
  {
   "cell_type": "code",
   "execution_count": 54,
   "id": "de6db5e2-7b58-4729-86c1-59429937cc6d",
   "metadata": {
    "tags": []
   },
   "outputs": [
    {
     "data": {
      "application/vnd.jupyter.widget-view+json": {
       "model_id": "cab3f2d865064baa82866c75293c0596",
       "version_major": 2,
       "version_minor": 0
      },
      "text/plain": [
       "HTML(value='\\n### Ability to use advanced search features\\n\\nmodify the statement in sql and cursor.execute ba…"
      ]
     },
     "metadata": {},
     "output_type": "display_data"
    },
    {
     "name": "stdout",
     "output_type": "stream",
     "text": [
      "[('gp', 220), ('gp', 231), ('gp', 232), ('gp', 233), ('gp', 234), ('gp', 235), ('gp', 236), ('gp', 243), ('gp', 244), ('gp', 245), ('gp', 246), ('gp', 247), ('gp', 248), ('gp', 249), ('gp', 250), ('gp', 251), ('gp', 252), ('gp', 253), ('gp', 254), ('gp', 255), ('gp', 256), ('gp', 257), ('gp', 258), ('gp', 259), ('gp', 260), ('gp', 261), ('gp', 262), ('gp', 263), ('gp', 264), ('gp', 265), ('gp', 273), ('gp', 274), ('gp', 275), ('gp', 401), ('gp', 402), ('gp', 403), ('gp', 404), ('gp', 684), ('gp', 690), ('gp', 691), ('gp', 692), ('gp', 696), ('gp', 709), ('gp', 711), ('gp', 713), ('gp', 714), ('gp', 716), ('gp', 719), ('gp', 720), ('gp', 721), ('gp', 722), ('gp', 723), ('gp', 724), ('gp', 727), ('gp', 728), ('gp', 729), ('gp', 730), ('gp', 731), ('gp', 733), ('gp', 734), ('gp', 735), ('gp', 736), ('gp', 737), ('gp', 738), ('gp', 739), ('gp', 740), ('gp', 741), ('gp', 742), ('gp', 743), ('gp', 744), ('gp', 745), ('gp', 748), ('gp', 749), ('gp', 756), ('gp', 757), ('gp', 758), ('gp', 759), ('gp', 760), ('gp', 761), ('gp', 762), ('gp', 763), ('gp', 766), ('gp', 767), ('gp', 768), ('gp', 769), ('gp', 770)]\n"
     ]
    }
   ],
   "source": [
    "instructions = \"\"\"\n",
    "### Ability to use advanced search features\n",
    "\n",
    "modify the statement in sql and cursor.execute based on what the desired filtrations are - in this case its related to identifying attrition mill materials\n",
    "\"\"\"\n",
    "\n",
    "display(widgets.HTML(instructions))\n",
    "connection = get_db()\n",
    "with connection.cursor() as cursor:\n",
    "    sql = \"SELECT * FROM Graphene.FullViewGrapheneBatch WHERE `processingTool`=%s\"\n",
    "    cursor.execute(sql, ('SD1Attrition Mill',))\n",
    "    result = cursor.fetchall()\n",
    "    \n",
    "sample_list = [('gp',row['ID']) for row in result]\n",
    "print(sample_list)"
   ]
  },
  {
   "cell_type": "code",
   "execution_count": 19,
   "id": "c18d1c3c-10f7-4bc5-93e6-56cf0d71777b",
   "metadata": {},
   "outputs": [],
   "source": [
    "# Specify the file path for Excel export\n",
    "excel_file_path = \"C:/Users/AidanO'Gorman/OneDrive - Universal Matter/Shared Documents/Technology/Prod Dev - TG Processing/Milling/AttritionMillData.xlsx\"\n",
    "\n",
    "# Export to Excel\n",
    "#with pd.ExcelWriter(excel_file_path) as writer:\n",
    "#    sort_df.to_excel(writer, sheet_name='Tests', index=False)\n",
    "#    files_df.to_excel(writer, sheet_name='Files', index=False)"
   ]
  },
  {
   "cell_type": "code",
   "execution_count": 20,
   "id": "0dad4819-f993-4c03-a140-46be49d1c376",
   "metadata": {
    "tags": []
   },
   "outputs": [
    {
     "data": {
      "application/vnd.jupyter.widget-view+json": {
       "model_id": "05197f6c23ee4e659d678ab32ed97b9b",
       "version_major": 2,
       "version_minor": 0
      },
      "text/plain": [
       "HTML(value=\"\\n### Interactive Batch Data Viewer\\n\\nThis notebook allows you to select a material type and a ba…"
      ]
     },
     "metadata": {},
     "output_type": "display_data"
    },
    {
     "data": {
      "application/vnd.jupyter.widget-view+json": {
       "model_id": "447126b90fb849fcba3b8837c516382d",
       "version_major": 2,
       "version_minor": 0
      },
      "text/plain": [
       "Dropdown(description='Material Type:', options=('gp', 'fp', 'f', 'd', 'fv'), value='gp')"
      ]
     },
     "metadata": {},
     "output_type": "display_data"
    },
    {
     "data": {
      "application/vnd.jupyter.widget-view+json": {
       "model_id": "a39a3f963d234a29a7683007468d725a",
       "version_major": 2,
       "version_minor": 0
      },
      "text/plain": [
       "IntText(value=1, description='Batch ID:')"
      ]
     },
     "metadata": {},
     "output_type": "display_data"
    },
    {
     "data": {
      "application/vnd.jupyter.widget-view+json": {
       "model_id": "1300cc27bf734877a0f9d86e11fcb0ac",
       "version_major": 2,
       "version_minor": 0
      },
      "text/plain": [
       "Button(button_style='success', description='Fetch One', style=ButtonStyle())"
      ]
     },
     "metadata": {},
     "output_type": "display_data"
    },
    {
     "data": {
      "application/vnd.jupyter.widget-view+json": {
       "model_id": "b34daafe2bc849999c2f97bbb57382bb",
       "version_major": 2,
       "version_minor": 0
      },
      "text/plain": [
       "Button(button_style='success', description='Fetch Tree', style=ButtonStyle())"
      ]
     },
     "metadata": {},
     "output_type": "display_data"
    },
    {
     "data": {
      "application/vnd.jupyter.widget-view+json": {
       "model_id": "edd6e791063742a9b504c6bc367a0d87",
       "version_major": 2,
       "version_minor": 0
      },
      "text/plain": [
       "Textarea(value='', description='Batch IDs:', placeholder='Input multiple batches separated by a comma')"
      ]
     },
     "metadata": {},
     "output_type": "display_data"
    },
    {
     "data": {
      "application/vnd.jupyter.widget-view+json": {
       "model_id": "03dbe238c8034780b0b8a2aa17754c3b",
       "version_major": 2,
       "version_minor": 0
      },
      "text/plain": [
       "Button(button_style='warning', description='Fetch Multiple', style=ButtonStyle())"
      ]
     },
     "metadata": {},
     "output_type": "display_data"
    },
    {
     "data": {
      "application/vnd.jupyter.widget-view+json": {
       "model_id": "a43494aa748c4441a397daf3e63223b9",
       "version_major": 2,
       "version_minor": 0
      },
      "text/plain": [
       "Output()"
      ]
     },
     "metadata": {},
     "output_type": "display_data"
    },
    {
     "data": {
      "application/vnd.jupyter.widget-view+json": {
       "model_id": "6febccf470114a118340862cc721e72c",
       "version_major": 2,
       "version_minor": 0
      },
      "text/plain": [
       "Button(button_style='info', description='Export to Excel', style=ButtonStyle())"
      ]
     },
     "metadata": {},
     "output_type": "display_data"
    }
   ],
   "source": [
    "pd.set_option('display.max_rows', 10)\n",
    "pd.set_option('display.max_columns', 30)\n",
    "# Define the available material types and their corresponding batch information\n",
    "material_types = [\"gp\", \"fp\", \"f\", \"d\", \"fv\"]\n",
    "# Create widgets\n",
    "material_type_dropdown = widgets.Dropdown(\n",
    "    options=material_types,\n",
    "    description='Material Type:'\n",
    ")\n",
    "\n",
    "batch_id_input = widgets.IntText(\n",
    "    value=1,\n",
    "    description='Batch ID:'\n",
    ")\n",
    "batchMultiple_input = widgets.Textarea(\n",
    "    placeholder='Input multiple batches separated by a comma',\n",
    "    description='Batch IDs:',\n",
    "    disabled=False\n",
    ")\n",
    "output_box = widgets.Output()\n",
    "\n",
    "# Define functions to handle interaction\n",
    "def fetch_data(material_type, batch_id):\n",
    "    with output_box:\n",
    "        clear_output()\n",
    "        ids = batch_id\n",
    "        with connection.cursor() as cursor:\n",
    "            match material_type:\n",
    "                case \"gp\":\n",
    "                    sql = \"SELECT * FROM Graphene.FullViewGrapheneBatch WHERE ID=%s\"\n",
    "                case \"fp\":\n",
    "                    sql = \"SELECT * FROM Graphene.FullViewFeedstockInternalBatch WHERE ID=%s\"\n",
    "                case \"f\":\n",
    "                    sql = \"SELECT * FROM Graphene.FullViewFlashProcess WHERE ID=%s\"\n",
    "                case \"d\":\n",
    "                    sql = \"SELECT * FROM Graphene.FullViewDispersionBatch WHERE ID=%s\"\n",
    "                case \"fv\":\n",
    "                    sql = \"SELECT * FROM Graphene.FullViewVendorBatch WHERE ID=%s\" #not made yet I dont think\n",
    "            cursor.execute(sql, ids)  # Use the loop variable 'ids' here\n",
    "            result = cursor.fetchall()\n",
    "        df = pd.DataFrame(result)\n",
    "        \n",
    "        # Display the combined DataFrame.\n",
    "        print(f\"Material Type: {material_type}\")\n",
    "        print(f\"Batch ID: {batch_id}\")\n",
    "        print(\"Batch Information:\")\n",
    "        display(df)\n",
    "        \n",
    "def fetch_dataMultiple(sample_list):\n",
    "    with output_box:\n",
    "        clear_output()\n",
    "        dataframe_list = []\n",
    "        for samples in sample_list:\n",
    "            material_type = samples[0]\n",
    "            batch_id = samples[1]\n",
    "            ids = batch_id\n",
    "            with connection.cursor() as cursor:\n",
    "                match material_type:\n",
    "                    case \"gp\":\n",
    "                        sql = \"SELECT * FROM Graphene.FullViewGrapheneBatch WHERE ID=%s\"\n",
    "                    case \"fp\":\n",
    "                        sql = \"SELECT * FROM Graphene.FullViewFeedstockInternalBatch WHERE ID=%s\"\n",
    "                    case \"f\":\n",
    "                        sql = \"SELECT * FROM Graphene.FullViewFlashProcess WHERE ID=%s\"\n",
    "                    case \"d\":\n",
    "                        sql = \"SELECT * FROM Graphene.FullViewDispersionBatch WHERE ID=%s\"\n",
    "                    case \"fv\":\n",
    "                        sql = \"SELECT * FROM Graphene.FullViewVendorBatch WHERE ID=%s\" #not made yet I dont think\n",
    "                cursor.execute(sql, ids)  # Use the loop variable 'ids' here\n",
    "                result = cursor.fetchall()\n",
    "            df = pd.DataFrame(result)\n",
    "            df['Material Type'] = material_type\n",
    "            dataframe_list.append(df)\n",
    "        # Display the combined DataFrame.\n",
    "        combined_df = pd.concat(dataframe_list, ignore_index=True)\n",
    "        clear_output()\n",
    "        display(combined_df)\n",
    "# Create interactive elements\n",
    "fetch_button = widgets.Button(\n",
    "    description='Fetch One',\n",
    "    button_style='success'\n",
    ")\n",
    "\n",
    "fetchTree_button = widgets.Button(\n",
    "    description='Fetch Tree',\n",
    "    button_style='success'\n",
    ")\n",
    "\n",
    "fetchMultiple_button = widgets.Button(\n",
    "    description='Fetch Multiple',\n",
    "    button_style='warning'\n",
    ")\n",
    "\n",
    "def fetch_button_clicked(b):\n",
    "    fetch_data(material_type_dropdown.value, batch_id_input.value)\n",
    "\n",
    "def fetchTree_button_clicked(b):\n",
    "    #lookup sample\n",
    "    batchID = concat(material_type_dropdown.value,\"-\",batch_id_input.value)\n",
    "    with connection.cursor() as cursor:\n",
    "        match material_type:\n",
    "            case \"gp\":\n",
    "                sql = \"SELECT trees FROM Graphene.FullViewGrapheneBatch WHERE ID=%s\"\n",
    "            case \"fp\":\n",
    "                sql = \"SELECT trees FROM Graphene.FullViewFeedstockInternalBatch WHERE ID=%s\"\n",
    "            case \"f\":\n",
    "                sql = \"SELECT trees FROM Graphene.FullViewFlashProcess WHERE ID=%s\"\n",
    "            case \"d\":\n",
    "                sql = \"SELECT trees FROM Graphene.FullViewDispersionBatch WHERE ID=%s\"\n",
    "            case \"fv\":\n",
    "                sql = \"SELECT trees FROM Graphene.FullViewVendorBatch WHERE ID=%s\" #not made yet I dont think\n",
    "        cursor.execute(sql, batch_id_input.value)  # Use the loop variable 'ids' here\n",
    "        result = cursor.fetchall()\n",
    "    input(result)\n",
    "    samples = generate_sample_list(result)\n",
    "    sample_list = []\n",
    "    for sample in samples:\n",
    "        material_type, batch_id = sample.split(\"-\")  # Split by hyphen\n",
    "        sample_list.append((material_type, batch_id))  # Store in a list of tuples\n",
    "    print(sample_list)\n",
    "    display(sample_list)\n",
    "    fetch_dataMultiple(sample_list)    \n",
    "    \n",
    "def fetchMultiple_button_clicked(b):\n",
    "    data_string = batchMultiple_input.value\n",
    "    sample_list = []\n",
    "    samples = data_string.split(\", \")  # Split by comma and space\n",
    "\n",
    "    for sample in samples:\n",
    "        material_type, batch_id = sample.split(\"-\")  # Split by hyphen\n",
    "        sample_list.append((material_type, batch_id))  # Store in a list of tuples\n",
    "    \n",
    "    fetch_dataMultiple(sample_list)\n",
    "    \n",
    "fetch_button.on_click(fetch_button_clicked)\n",
    "fetchMultiple_button.on_click(fetchMultiple_button_clicked)\n",
    "fetchTree_button.on_click(fetchTree_button_clicked)\n",
    "export_button = widgets.Button(description='Export to Excel', button_style='info')\n",
    "\n",
    "# Function to handle export button click\n",
    "def export_to_excel(b):\n",
    "    with output_box:\n",
    "        clear_output()\n",
    "        if not combined_df.empty:\n",
    "            export_path = \"C:/Users/AidanO'Gorman/OneDrive - Universal Matter/combined_data.xlsx\"\n",
    "            combined_df.to_excel(export_path, index=False)\n",
    "            print(f\"Data exported to {export_path}\")\n",
    "        else:\n",
    "            print(\"No data to export.\")\n",
    "\n",
    "def generate_sample_list(input_string):\n",
    "    sample_list = []\n",
    "    \n",
    "    segments = input_string.split(\" / \")\n",
    "    for segment in segments:\n",
    "        parts = segment.split(\"-\")\n",
    "        if len(parts) == 2:\n",
    "            material_type, batch_id = parts\n",
    "            sample_list.append((material_type, batch_id))\n",
    "    \n",
    "    return sample_list\n",
    "\n",
    "# Attach the export function to the button's click event\n",
    "export_button.on_click(export_to_excel)\n",
    "# Display widgets and instructions\n",
    "instructions = \"\"\"\n",
    "### Interactive Batch Data Viewer\n",
    "\n",
    "This notebook allows you to select a material type and a batch ID to retrieve relevant batch information.\n",
    "Simply select the material type from the dropdown, enter the batch ID, and click the 'Fetch Data' button to view the details.\n",
    "\"\"\"\n",
    "\n",
    "display(widgets.HTML(instructions))\n",
    "display(material_type_dropdown, batch_id_input, fetch_button, fetchTree_button, batchMultiple_input, fetchMultiple_button, output_box, export_button)\n",
    "\n",
    "# Create a DataFrame\n",
    "#df = pd.DataFrame(data)\n",
    "\n",
    "#pd.set_option('display.max_rows', None)\n",
    "#pd.set_option('display.max_columns', None)\n",
    "\n",
    "# Display the DataFrame"
   ]
  },
  {
   "cell_type": "code",
   "execution_count": 21,
   "id": "39dbc2f0-d758-45bb-80e5-36cc859257c4",
   "metadata": {},
   "outputs": [
    {
     "name": "stdout",
     "output_type": "stream",
     "text": [
      "C:/Users/AidanO'Gorman/OneDrive - Universal Matter/Shared Documents/Technology/Prod Dev - TG Characterization\\**\\*gp-('gp', 220)**\n",
      "C:/Users/AidanO'Gorman/OneDrive - Universal Matter/Shared Documents/Technology/Prod Dev - TG Characterization\\**\\*gp-('gp', 231)**\n",
      "C:/Users/AidanO'Gorman/OneDrive - Universal Matter/Shared Documents/Technology/Prod Dev - TG Characterization\\**\\*gp-('gp', 232)**\n",
      "C:/Users/AidanO'Gorman/OneDrive - Universal Matter/Shared Documents/Technology/Prod Dev - TG Characterization\\**\\*gp-('gp', 233)**\n",
      "C:/Users/AidanO'Gorman/OneDrive - Universal Matter/Shared Documents/Technology/Prod Dev - TG Characterization\\**\\*gp-('gp', 234)**\n",
      "C:/Users/AidanO'Gorman/OneDrive - Universal Matter/Shared Documents/Technology/Prod Dev - TG Characterization\\**\\*gp-('gp', 235)**\n",
      "C:/Users/AidanO'Gorman/OneDrive - Universal Matter/Shared Documents/Technology/Prod Dev - TG Characterization\\**\\*gp-('gp', 236)**\n",
      "C:/Users/AidanO'Gorman/OneDrive - Universal Matter/Shared Documents/Technology/Prod Dev - TG Characterization\\**\\*gp-('gp', 243)**\n",
      "C:/Users/AidanO'Gorman/OneDrive - Universal Matter/Shared Documents/Technology/Prod Dev - TG Characterization\\**\\*gp-('gp', 244)**\n",
      "C:/Users/AidanO'Gorman/OneDrive - Universal Matter/Shared Documents/Technology/Prod Dev - TG Characterization\\**\\*gp-('gp', 245)**\n",
      "C:/Users/AidanO'Gorman/OneDrive - Universal Matter/Shared Documents/Technology/Prod Dev - TG Characterization\\**\\*gp-('gp', 246)**\n",
      "C:/Users/AidanO'Gorman/OneDrive - Universal Matter/Shared Documents/Technology/Prod Dev - TG Characterization\\**\\*gp-('gp', 247)**\n",
      "C:/Users/AidanO'Gorman/OneDrive - Universal Matter/Shared Documents/Technology/Prod Dev - TG Characterization\\**\\*gp-('gp', 248)**\n",
      "C:/Users/AidanO'Gorman/OneDrive - Universal Matter/Shared Documents/Technology/Prod Dev - TG Characterization\\**\\*gp-('gp', 249)**\n",
      "C:/Users/AidanO'Gorman/OneDrive - Universal Matter/Shared Documents/Technology/Prod Dev - TG Characterization\\**\\*gp-('gp', 250)**\n",
      "C:/Users/AidanO'Gorman/OneDrive - Universal Matter/Shared Documents/Technology/Prod Dev - TG Characterization\\**\\*gp-('gp', 251)**\n",
      "C:/Users/AidanO'Gorman/OneDrive - Universal Matter/Shared Documents/Technology/Prod Dev - TG Characterization\\**\\*gp-('gp', 252)**\n",
      "C:/Users/AidanO'Gorman/OneDrive - Universal Matter/Shared Documents/Technology/Prod Dev - TG Characterization\\**\\*gp-('gp', 253)**\n",
      "C:/Users/AidanO'Gorman/OneDrive - Universal Matter/Shared Documents/Technology/Prod Dev - TG Characterization\\**\\*gp-('gp', 254)**\n",
      "C:/Users/AidanO'Gorman/OneDrive - Universal Matter/Shared Documents/Technology/Prod Dev - TG Characterization\\**\\*gp-('gp', 255)**\n",
      "C:/Users/AidanO'Gorman/OneDrive - Universal Matter/Shared Documents/Technology/Prod Dev - TG Characterization\\**\\*gp-('gp', 256)**\n",
      "C:/Users/AidanO'Gorman/OneDrive - Universal Matter/Shared Documents/Technology/Prod Dev - TG Characterization\\**\\*gp-('gp', 257)**\n",
      "C:/Users/AidanO'Gorman/OneDrive - Universal Matter/Shared Documents/Technology/Prod Dev - TG Characterization\\**\\*gp-('gp', 258)**\n",
      "C:/Users/AidanO'Gorman/OneDrive - Universal Matter/Shared Documents/Technology/Prod Dev - TG Characterization\\**\\*gp-('gp', 259)**\n",
      "C:/Users/AidanO'Gorman/OneDrive - Universal Matter/Shared Documents/Technology/Prod Dev - TG Characterization\\**\\*gp-('gp', 260)**\n",
      "C:/Users/AidanO'Gorman/OneDrive - Universal Matter/Shared Documents/Technology/Prod Dev - TG Characterization\\**\\*gp-('gp', 261)**\n",
      "C:/Users/AidanO'Gorman/OneDrive - Universal Matter/Shared Documents/Technology/Prod Dev - TG Characterization\\**\\*gp-('gp', 262)**\n",
      "C:/Users/AidanO'Gorman/OneDrive - Universal Matter/Shared Documents/Technology/Prod Dev - TG Characterization\\**\\*gp-('gp', 263)**\n",
      "C:/Users/AidanO'Gorman/OneDrive - Universal Matter/Shared Documents/Technology/Prod Dev - TG Characterization\\**\\*gp-('gp', 264)**\n",
      "C:/Users/AidanO'Gorman/OneDrive - Universal Matter/Shared Documents/Technology/Prod Dev - TG Characterization\\**\\*gp-('gp', 265)**\n",
      "C:/Users/AidanO'Gorman/OneDrive - Universal Matter/Shared Documents/Technology/Prod Dev - TG Characterization\\**\\*gp-('gp', 273)**\n",
      "C:/Users/AidanO'Gorman/OneDrive - Universal Matter/Shared Documents/Technology/Prod Dev - TG Characterization\\**\\*gp-('gp', 274)**\n",
      "C:/Users/AidanO'Gorman/OneDrive - Universal Matter/Shared Documents/Technology/Prod Dev - TG Characterization\\**\\*gp-('gp', 275)**\n",
      "C:/Users/AidanO'Gorman/OneDrive - Universal Matter/Shared Documents/Technology/Prod Dev - TG Characterization\\**\\*gp-('gp', 401)**\n",
      "C:/Users/AidanO'Gorman/OneDrive - Universal Matter/Shared Documents/Technology/Prod Dev - TG Characterization\\**\\*gp-('gp', 402)**\n",
      "C:/Users/AidanO'Gorman/OneDrive - Universal Matter/Shared Documents/Technology/Prod Dev - TG Characterization\\**\\*gp-('gp', 403)**\n",
      "C:/Users/AidanO'Gorman/OneDrive - Universal Matter/Shared Documents/Technology/Prod Dev - TG Characterization\\**\\*gp-('gp', 404)**\n",
      "C:/Users/AidanO'Gorman/OneDrive - Universal Matter/Shared Documents/Technology/Prod Dev - TG Characterization\\**\\*gp-('gp', 684)**\n",
      "C:/Users/AidanO'Gorman/OneDrive - Universal Matter/Shared Documents/Technology/Prod Dev - TG Characterization\\**\\*gp-('gp', 690)**\n",
      "C:/Users/AidanO'Gorman/OneDrive - Universal Matter/Shared Documents/Technology/Prod Dev - TG Characterization\\**\\*gp-('gp', 691)**\n",
      "C:/Users/AidanO'Gorman/OneDrive - Universal Matter/Shared Documents/Technology/Prod Dev - TG Characterization\\**\\*gp-('gp', 692)**\n",
      "C:/Users/AidanO'Gorman/OneDrive - Universal Matter/Shared Documents/Technology/Prod Dev - TG Characterization\\**\\*gp-('gp', 696)**\n",
      "C:/Users/AidanO'Gorman/OneDrive - Universal Matter/Shared Documents/Technology/Prod Dev - TG Characterization\\**\\*gp-('gp', 709)**\n",
      "C:/Users/AidanO'Gorman/OneDrive - Universal Matter/Shared Documents/Technology/Prod Dev - TG Characterization\\**\\*gp-('gp', 711)**\n",
      "C:/Users/AidanO'Gorman/OneDrive - Universal Matter/Shared Documents/Technology/Prod Dev - TG Characterization\\**\\*gp-('gp', 713)**\n",
      "C:/Users/AidanO'Gorman/OneDrive - Universal Matter/Shared Documents/Technology/Prod Dev - TG Characterization\\**\\*gp-('gp', 714)**\n",
      "C:/Users/AidanO'Gorman/OneDrive - Universal Matter/Shared Documents/Technology/Prod Dev - TG Characterization\\**\\*gp-('gp', 716)**\n",
      "C:/Users/AidanO'Gorman/OneDrive - Universal Matter/Shared Documents/Technology/Prod Dev - TG Characterization\\**\\*gp-('gp', 719)**\n",
      "C:/Users/AidanO'Gorman/OneDrive - Universal Matter/Shared Documents/Technology/Prod Dev - TG Characterization\\**\\*gp-('gp', 720)**\n",
      "C:/Users/AidanO'Gorman/OneDrive - Universal Matter/Shared Documents/Technology/Prod Dev - TG Characterization\\**\\*gp-('gp', 721)**\n",
      "C:/Users/AidanO'Gorman/OneDrive - Universal Matter/Shared Documents/Technology/Prod Dev - TG Characterization\\**\\*gp-('gp', 722)**\n",
      "C:/Users/AidanO'Gorman/OneDrive - Universal Matter/Shared Documents/Technology/Prod Dev - TG Characterization\\**\\*gp-('gp', 723)**\n",
      "C:/Users/AidanO'Gorman/OneDrive - Universal Matter/Shared Documents/Technology/Prod Dev - TG Characterization\\**\\*gp-('gp', 724)**\n",
      "C:/Users/AidanO'Gorman/OneDrive - Universal Matter/Shared Documents/Technology/Prod Dev - TG Characterization\\**\\*gp-('gp', 727)**\n",
      "C:/Users/AidanO'Gorman/OneDrive - Universal Matter/Shared Documents/Technology/Prod Dev - TG Characterization\\**\\*gp-('gp', 728)**\n",
      "C:/Users/AidanO'Gorman/OneDrive - Universal Matter/Shared Documents/Technology/Prod Dev - TG Characterization\\**\\*gp-('gp', 729)**\n",
      "C:/Users/AidanO'Gorman/OneDrive - Universal Matter/Shared Documents/Technology/Prod Dev - TG Characterization\\**\\*gp-('gp', 730)**\n",
      "C:/Users/AidanO'Gorman/OneDrive - Universal Matter/Shared Documents/Technology/Prod Dev - TG Characterization\\**\\*gp-('gp', 731)**\n",
      "C:/Users/AidanO'Gorman/OneDrive - Universal Matter/Shared Documents/Technology/Prod Dev - TG Characterization\\**\\*gp-('gp', 733)**\n",
      "C:/Users/AidanO'Gorman/OneDrive - Universal Matter/Shared Documents/Technology/Prod Dev - TG Characterization\\**\\*gp-('gp', 734)**\n",
      "C:/Users/AidanO'Gorman/OneDrive - Universal Matter/Shared Documents/Technology/Prod Dev - TG Characterization\\**\\*gp-('gp', 735)**\n",
      "C:/Users/AidanO'Gorman/OneDrive - Universal Matter/Shared Documents/Technology/Prod Dev - TG Characterization\\**\\*gp-('gp', 736)**\n",
      "C:/Users/AidanO'Gorman/OneDrive - Universal Matter/Shared Documents/Technology/Prod Dev - TG Characterization\\**\\*gp-('gp', 737)**\n",
      "C:/Users/AidanO'Gorman/OneDrive - Universal Matter/Shared Documents/Technology/Prod Dev - TG Characterization\\**\\*gp-('gp', 738)**\n",
      "C:/Users/AidanO'Gorman/OneDrive - Universal Matter/Shared Documents/Technology/Prod Dev - TG Characterization\\**\\*gp-('gp', 739)**\n",
      "C:/Users/AidanO'Gorman/OneDrive - Universal Matter/Shared Documents/Technology/Prod Dev - TG Characterization\\**\\*gp-('gp', 740)**\n",
      "C:/Users/AidanO'Gorman/OneDrive - Universal Matter/Shared Documents/Technology/Prod Dev - TG Characterization\\**\\*gp-('gp', 741)**\n",
      "C:/Users/AidanO'Gorman/OneDrive - Universal Matter/Shared Documents/Technology/Prod Dev - TG Characterization\\**\\*gp-('gp', 742)**\n",
      "C:/Users/AidanO'Gorman/OneDrive - Universal Matter/Shared Documents/Technology/Prod Dev - TG Characterization\\**\\*gp-('gp', 743)**\n",
      "C:/Users/AidanO'Gorman/OneDrive - Universal Matter/Shared Documents/Technology/Prod Dev - TG Characterization\\**\\*gp-('gp', 744)**\n",
      "C:/Users/AidanO'Gorman/OneDrive - Universal Matter/Shared Documents/Technology/Prod Dev - TG Characterization\\**\\*gp-('gp', 745)**\n",
      "C:/Users/AidanO'Gorman/OneDrive - Universal Matter/Shared Documents/Technology/Prod Dev - TG Characterization\\**\\*gp-('gp', 748)**\n",
      "C:/Users/AidanO'Gorman/OneDrive - Universal Matter/Shared Documents/Technology/Prod Dev - TG Characterization\\**\\*gp-('gp', 749)**\n",
      "C:/Users/AidanO'Gorman/OneDrive - Universal Matter/Shared Documents/Technology/Prod Dev - TG Characterization\\**\\*gp-('gp', 756)**\n",
      "C:/Users/AidanO'Gorman/OneDrive - Universal Matter/Shared Documents/Technology/Prod Dev - TG Characterization\\**\\*gp-('gp', 757)**\n",
      "C:/Users/AidanO'Gorman/OneDrive - Universal Matter/Shared Documents/Technology/Prod Dev - TG Characterization\\**\\*gp-('gp', 758)**\n",
      "C:/Users/AidanO'Gorman/OneDrive - Universal Matter/Shared Documents/Technology/Prod Dev - TG Characterization\\**\\*gp-('gp', 759)**\n",
      "C:/Users/AidanO'Gorman/OneDrive - Universal Matter/Shared Documents/Technology/Prod Dev - TG Characterization\\**\\*gp-('gp', 760)**\n",
      "C:/Users/AidanO'Gorman/OneDrive - Universal Matter/Shared Documents/Technology/Prod Dev - TG Characterization\\**\\*gp-('gp', 761)**\n",
      "C:/Users/AidanO'Gorman/OneDrive - Universal Matter/Shared Documents/Technology/Prod Dev - TG Characterization\\**\\*gp-('gp', 762)**\n",
      "C:/Users/AidanO'Gorman/OneDrive - Universal Matter/Shared Documents/Technology/Prod Dev - TG Characterization\\**\\*gp-('gp', 763)**\n",
      "C:/Users/AidanO'Gorman/OneDrive - Universal Matter/Shared Documents/Technology/Prod Dev - TG Characterization\\**\\*gp-('gp', 766)**\n",
      "C:/Users/AidanO'Gorman/OneDrive - Universal Matter/Shared Documents/Technology/Prod Dev - TG Characterization\\**\\*gp-('gp', 767)**\n",
      "C:/Users/AidanO'Gorman/OneDrive - Universal Matter/Shared Documents/Technology/Prod Dev - TG Characterization\\**\\*gp-('gp', 768)**\n",
      "C:/Users/AidanO'Gorman/OneDrive - Universal Matter/Shared Documents/Technology/Prod Dev - TG Characterization\\**\\*gp-('gp', 769)**\n",
      "C:/Users/AidanO'Gorman/OneDrive - Universal Matter/Shared Documents/Technology/Prod Dev - TG Characterization\\**\\*gp-('gp', 770)**\n"
     ]
    },
    {
     "ename": "KeyError",
     "evalue": "'sampleID'",
     "output_type": "error",
     "traceback": [
      "\u001b[1;31m---------------------------------------------------------------------------\u001b[0m",
      "\u001b[1;31mKeyError\u001b[0m                                  Traceback (most recent call last)",
      "Cell \u001b[1;32mIn [21], line 27\u001b[0m\n\u001b[0;32m     24\u001b[0m files_df \u001b[38;5;241m=\u001b[39m pd\u001b[38;5;241m.\u001b[39mDataFrame(dataFile_list, columns\u001b[38;5;241m=\u001b[39m[\u001b[38;5;124m'\u001b[39m\u001b[38;5;124mID\u001b[39m\u001b[38;5;124m'\u001b[39m,\u001b[38;5;124m'\u001b[39m\u001b[38;5;124msubfolder\u001b[39m\u001b[38;5;124m'\u001b[39m,\u001b[38;5;124m'\u001b[39m\u001b[38;5;124mfilename\u001b[39m\u001b[38;5;124m'\u001b[39m])\n\u001b[0;32m     26\u001b[0m combined_df \u001b[38;5;241m=\u001b[39m pd\u001b[38;5;241m.\u001b[39mconcat(dataframe_list, ignore_index\u001b[38;5;241m=\u001b[39m\u001b[38;5;28;01mTrue\u001b[39;00m)\n\u001b[1;32m---> 27\u001b[0m sort_df \u001b[38;5;241m=\u001b[39m combined_df\u001b[38;5;241m.\u001b[39msort_values(by\u001b[38;5;241m=\u001b[39m[\u001b[38;5;124m'\u001b[39m\u001b[38;5;124msampleID\u001b[39m\u001b[38;5;124m'\u001b[39m,\u001b[38;5;124m'\u001b[39m\u001b[38;5;124mtestType\u001b[39m\u001b[38;5;124m'\u001b[39m])\n\u001b[0;32m     28\u001b[0m \u001b[38;5;66;03m# Display the combined DataFrame.\u001b[39;00m\n\u001b[0;32m     29\u001b[0m \u001b[38;5;28mprint\u001b[39m(sort_df)\n",
      "File \u001b[1;32m~\\AppData\\Local\\Programs\\Python\\Python310\\lib\\site-packages\\pandas\\util\\_decorators.py:331\u001b[0m, in \u001b[0;36mdeprecate_nonkeyword_arguments.<locals>.decorate.<locals>.wrapper\u001b[1;34m(*args, **kwargs)\u001b[0m\n\u001b[0;32m    325\u001b[0m \u001b[38;5;28;01mif\u001b[39;00m \u001b[38;5;28mlen\u001b[39m(args) \u001b[38;5;241m>\u001b[39m num_allow_args:\n\u001b[0;32m    326\u001b[0m     warnings\u001b[38;5;241m.\u001b[39mwarn(\n\u001b[0;32m    327\u001b[0m         msg\u001b[38;5;241m.\u001b[39mformat(arguments\u001b[38;5;241m=\u001b[39m_format_argument_list(allow_args)),\n\u001b[0;32m    328\u001b[0m         \u001b[38;5;167;01mFutureWarning\u001b[39;00m,\n\u001b[0;32m    329\u001b[0m         stacklevel\u001b[38;5;241m=\u001b[39mfind_stack_level(),\n\u001b[0;32m    330\u001b[0m     )\n\u001b[1;32m--> 331\u001b[0m \u001b[38;5;28;01mreturn\u001b[39;00m func(\u001b[38;5;241m*\u001b[39margs, \u001b[38;5;241m*\u001b[39m\u001b[38;5;241m*\u001b[39mkwargs)\n",
      "File \u001b[1;32m~\\AppData\\Local\\Programs\\Python\\Python310\\lib\\site-packages\\pandas\\core\\frame.py:6894\u001b[0m, in \u001b[0;36mDataFrame.sort_values\u001b[1;34m(self, by, axis, ascending, inplace, kind, na_position, ignore_index, key)\u001b[0m\n\u001b[0;32m   6888\u001b[0m     \u001b[38;5;28;01mraise\u001b[39;00m \u001b[38;5;167;01mValueError\u001b[39;00m(\n\u001b[0;32m   6889\u001b[0m         \u001b[38;5;124mf\u001b[39m\u001b[38;5;124m\"\u001b[39m\u001b[38;5;124mLength of ascending (\u001b[39m\u001b[38;5;132;01m{\u001b[39;00m\u001b[38;5;28mlen\u001b[39m(ascending)\u001b[38;5;132;01m}\u001b[39;00m\u001b[38;5;124m)\u001b[39m\u001b[38;5;124m\"\u001b[39m  \u001b[38;5;66;03m# type: ignore[arg-type]\u001b[39;00m\n\u001b[0;32m   6890\u001b[0m         \u001b[38;5;124mf\u001b[39m\u001b[38;5;124m\"\u001b[39m\u001b[38;5;124m != length of by (\u001b[39m\u001b[38;5;132;01m{\u001b[39;00m\u001b[38;5;28mlen\u001b[39m(by)\u001b[38;5;132;01m}\u001b[39;00m\u001b[38;5;124m)\u001b[39m\u001b[38;5;124m\"\u001b[39m\n\u001b[0;32m   6891\u001b[0m     )\n\u001b[0;32m   6892\u001b[0m \u001b[38;5;28;01mif\u001b[39;00m \u001b[38;5;28mlen\u001b[39m(by) \u001b[38;5;241m>\u001b[39m \u001b[38;5;241m1\u001b[39m:\n\u001b[1;32m-> 6894\u001b[0m     keys \u001b[38;5;241m=\u001b[39m [\u001b[38;5;28mself\u001b[39m\u001b[38;5;241m.\u001b[39m_get_label_or_level_values(x, axis\u001b[38;5;241m=\u001b[39maxis) \u001b[38;5;28;01mfor\u001b[39;00m x \u001b[38;5;129;01min\u001b[39;00m by]\n\u001b[0;32m   6896\u001b[0m     \u001b[38;5;66;03m# need to rewrap columns in Series to apply key function\u001b[39;00m\n\u001b[0;32m   6897\u001b[0m     \u001b[38;5;28;01mif\u001b[39;00m key \u001b[38;5;129;01mis\u001b[39;00m \u001b[38;5;129;01mnot\u001b[39;00m \u001b[38;5;28;01mNone\u001b[39;00m:\n\u001b[0;32m   6898\u001b[0m         \u001b[38;5;66;03m# error: List comprehension has incompatible type List[Series];\u001b[39;00m\n\u001b[0;32m   6899\u001b[0m         \u001b[38;5;66;03m# expected List[ndarray]\u001b[39;00m\n",
      "File \u001b[1;32m~\\AppData\\Local\\Programs\\Python\\Python310\\lib\\site-packages\\pandas\\core\\frame.py:6894\u001b[0m, in \u001b[0;36m<listcomp>\u001b[1;34m(.0)\u001b[0m\n\u001b[0;32m   6888\u001b[0m     \u001b[38;5;28;01mraise\u001b[39;00m \u001b[38;5;167;01mValueError\u001b[39;00m(\n\u001b[0;32m   6889\u001b[0m         \u001b[38;5;124mf\u001b[39m\u001b[38;5;124m\"\u001b[39m\u001b[38;5;124mLength of ascending (\u001b[39m\u001b[38;5;132;01m{\u001b[39;00m\u001b[38;5;28mlen\u001b[39m(ascending)\u001b[38;5;132;01m}\u001b[39;00m\u001b[38;5;124m)\u001b[39m\u001b[38;5;124m\"\u001b[39m  \u001b[38;5;66;03m# type: ignore[arg-type]\u001b[39;00m\n\u001b[0;32m   6890\u001b[0m         \u001b[38;5;124mf\u001b[39m\u001b[38;5;124m\"\u001b[39m\u001b[38;5;124m != length of by (\u001b[39m\u001b[38;5;132;01m{\u001b[39;00m\u001b[38;5;28mlen\u001b[39m(by)\u001b[38;5;132;01m}\u001b[39;00m\u001b[38;5;124m)\u001b[39m\u001b[38;5;124m\"\u001b[39m\n\u001b[0;32m   6891\u001b[0m     )\n\u001b[0;32m   6892\u001b[0m \u001b[38;5;28;01mif\u001b[39;00m \u001b[38;5;28mlen\u001b[39m(by) \u001b[38;5;241m>\u001b[39m \u001b[38;5;241m1\u001b[39m:\n\u001b[1;32m-> 6894\u001b[0m     keys \u001b[38;5;241m=\u001b[39m [\u001b[38;5;28;43mself\u001b[39;49m\u001b[38;5;241;43m.\u001b[39;49m\u001b[43m_get_label_or_level_values\u001b[49m\u001b[43m(\u001b[49m\u001b[43mx\u001b[49m\u001b[43m,\u001b[49m\u001b[43m \u001b[49m\u001b[43maxis\u001b[49m\u001b[38;5;241;43m=\u001b[39;49m\u001b[43maxis\u001b[49m\u001b[43m)\u001b[49m \u001b[38;5;28;01mfor\u001b[39;00m x \u001b[38;5;129;01min\u001b[39;00m by]\n\u001b[0;32m   6896\u001b[0m     \u001b[38;5;66;03m# need to rewrap columns in Series to apply key function\u001b[39;00m\n\u001b[0;32m   6897\u001b[0m     \u001b[38;5;28;01mif\u001b[39;00m key \u001b[38;5;129;01mis\u001b[39;00m \u001b[38;5;129;01mnot\u001b[39;00m \u001b[38;5;28;01mNone\u001b[39;00m:\n\u001b[0;32m   6898\u001b[0m         \u001b[38;5;66;03m# error: List comprehension has incompatible type List[Series];\u001b[39;00m\n\u001b[0;32m   6899\u001b[0m         \u001b[38;5;66;03m# expected List[ndarray]\u001b[39;00m\n",
      "File \u001b[1;32m~\\AppData\\Local\\Programs\\Python\\Python310\\lib\\site-packages\\pandas\\core\\generic.py:1850\u001b[0m, in \u001b[0;36mNDFrame._get_label_or_level_values\u001b[1;34m(self, key, axis)\u001b[0m\n\u001b[0;32m   1844\u001b[0m     values \u001b[38;5;241m=\u001b[39m (\n\u001b[0;32m   1845\u001b[0m         \u001b[38;5;28mself\u001b[39m\u001b[38;5;241m.\u001b[39maxes[axis]\n\u001b[0;32m   1846\u001b[0m         \u001b[38;5;241m.\u001b[39mget_level_values(key)  \u001b[38;5;66;03m# type: ignore[assignment]\u001b[39;00m\n\u001b[0;32m   1847\u001b[0m         \u001b[38;5;241m.\u001b[39m_values\n\u001b[0;32m   1848\u001b[0m     )\n\u001b[0;32m   1849\u001b[0m \u001b[38;5;28;01melse\u001b[39;00m:\n\u001b[1;32m-> 1850\u001b[0m     \u001b[38;5;28;01mraise\u001b[39;00m \u001b[38;5;167;01mKeyError\u001b[39;00m(key)\n\u001b[0;32m   1852\u001b[0m \u001b[38;5;66;03m# Check for duplicates\u001b[39;00m\n\u001b[0;32m   1853\u001b[0m \u001b[38;5;28;01mif\u001b[39;00m values\u001b[38;5;241m.\u001b[39mndim \u001b[38;5;241m>\u001b[39m \u001b[38;5;241m1\u001b[39m:\n",
      "\u001b[1;31mKeyError\u001b[0m: 'sampleID'"
     ]
    }
   ],
   "source": [
    "#get test data based on these IDs - for all of the data and associated files\n",
    "dataframe_list = []\n",
    "dataFile_list = []\n",
    "for ids in sample_list:\n",
    "    idfull = str(str(\"gp-\")+str(ids))\n",
    "    with connection.cursor() as cursor:\n",
    "        sql = \"SELECT * FROM Graphene.analysisView WHERE `sampleID`=CONVERT(%s USING utf8)\"\n",
    "        cursor.execute(sql, (idfull,) )  # Use the loop variable 'ids' here\n",
    "        result = cursor.fetchall()\n",
    "        df = pd.DataFrame(result)\n",
    "        dataframe_list.append(df)\n",
    "        \n",
    "    techDir = \"C:/Users/AidanO'Gorman/OneDrive - Universal Matter/Shared Documents/Technology/Prod Dev - TG Characterization\"\n",
    "    searchstring = os.path.join(techDir,\"**\",f\"*{idfull}**\")\n",
    "    print(searchstring)\n",
    "    #fileList = glob.glob(searchstring,recursive=True)\n",
    "    #for filePath in fileList:\n",
    "    # Split the path into directory and filename\n",
    "    #    directory, filename = os.path.split(filePath)\n",
    "    #    subfolder = directory.rsplit(\"Characterization\", 1)[1]\n",
    "    #    fileData = [idfull, subfolder, filename]\n",
    "    #    dataFile_list.append(fileData)\n",
    "# Concatenate all DataFrames into a single DataFrame.\n",
    "#files_df = pd.DataFrame(dataFile_list, columns=['ID','subfolder','filename'])\n",
    "\n",
    "combined_df = pd.concat(dataframe_list, ignore_index=True)\n",
    "sort_df = combined_df.sort_values(by=['sampleID','testType'])\n",
    "# Display the combined DataFrame.\n",
    "print(sort_df)\n",
    "#print(files_df)\n",
    "\n",
    "# Specify the file path for Excel export\n",
    "#excel_file_path = \"C:/Users/AidanO'Gorman/OneDrive - Universal Matter/Shared Documents/Technology/Prod Dev - TG Processing/Milling/AttritionMillData.xlsx\"\n",
    "\n",
    "# Export to Excel\n",
    "#with pd.ExcelWriter(excel_file_path) as writer:\n",
    "#    sort_df.to_excel(writer, sheet_name='Tests', index=False)\n",
    "#    files_df.to_excel(writer, sheet_name='Files', index=False)"
   ]
  },
  {
   "cell_type": "code",
   "execution_count": 22,
   "id": "f7ecb205-d5b4-47ae-b713-e6c7e3463b96",
   "metadata": {},
   "outputs": [
    {
     "name": "stdout",
     "output_type": "stream",
     "text": [
      "gp-('gp', 770)\n",
      "C:/Users/AidanO'Gorman/OneDrive - Universal Matter/Shared Documents/Technology/Prod Dev - TG Characterization\\**\\*gp-('gp', 770)**\n",
      "gp-220\n",
      "C:/Users/AidanO'Gorman/OneDrive - Universal Matter/Shared Documents/Technology/Prod Dev - TG Characterization\\**\\*gp-220**\n",
      "gp-231\n",
      "C:/Users/AidanO'Gorman/OneDrive - Universal Matter/Shared Documents/Technology/Prod Dev - TG Characterization\\**\\*gp-231**\n",
      "gp-232\n",
      "C:/Users/AidanO'Gorman/OneDrive - Universal Matter/Shared Documents/Technology/Prod Dev - TG Characterization\\**\\*gp-232**\n",
      "gp-233\n",
      "C:/Users/AidanO'Gorman/OneDrive - Universal Matter/Shared Documents/Technology/Prod Dev - TG Characterization\\**\\*gp-233**\n",
      "gp-234\n",
      "C:/Users/AidanO'Gorman/OneDrive - Universal Matter/Shared Documents/Technology/Prod Dev - TG Characterization\\**\\*gp-234**\n",
      "gp-235\n",
      "C:/Users/AidanO'Gorman/OneDrive - Universal Matter/Shared Documents/Technology/Prod Dev - TG Characterization\\**\\*gp-235**\n",
      "gp-236\n",
      "C:/Users/AidanO'Gorman/OneDrive - Universal Matter/Shared Documents/Technology/Prod Dev - TG Characterization\\**\\*gp-236**\n",
      "gp-243\n",
      "C:/Users/AidanO'Gorman/OneDrive - Universal Matter/Shared Documents/Technology/Prod Dev - TG Characterization\\**\\*gp-243**\n",
      "gp-244\n",
      "C:/Users/AidanO'Gorman/OneDrive - Universal Matter/Shared Documents/Technology/Prod Dev - TG Characterization\\**\\*gp-244**\n",
      "gp-245\n",
      "C:/Users/AidanO'Gorman/OneDrive - Universal Matter/Shared Documents/Technology/Prod Dev - TG Characterization\\**\\*gp-245**\n",
      "gp-246\n",
      "C:/Users/AidanO'Gorman/OneDrive - Universal Matter/Shared Documents/Technology/Prod Dev - TG Characterization\\**\\*gp-246**\n",
      "gp-247\n",
      "C:/Users/AidanO'Gorman/OneDrive - Universal Matter/Shared Documents/Technology/Prod Dev - TG Characterization\\**\\*gp-247**\n",
      "gp-248\n",
      "C:/Users/AidanO'Gorman/OneDrive - Universal Matter/Shared Documents/Technology/Prod Dev - TG Characterization\\**\\*gp-248**\n",
      "gp-249\n",
      "C:/Users/AidanO'Gorman/OneDrive - Universal Matter/Shared Documents/Technology/Prod Dev - TG Characterization\\**\\*gp-249**\n",
      "gp-250\n",
      "C:/Users/AidanO'Gorman/OneDrive - Universal Matter/Shared Documents/Technology/Prod Dev - TG Characterization\\**\\*gp-250**\n",
      "gp-251\n",
      "C:/Users/AidanO'Gorman/OneDrive - Universal Matter/Shared Documents/Technology/Prod Dev - TG Characterization\\**\\*gp-251**\n",
      "gp-252\n",
      "C:/Users/AidanO'Gorman/OneDrive - Universal Matter/Shared Documents/Technology/Prod Dev - TG Characterization\\**\\*gp-252**\n",
      "gp-253\n",
      "C:/Users/AidanO'Gorman/OneDrive - Universal Matter/Shared Documents/Technology/Prod Dev - TG Characterization\\**\\*gp-253**\n",
      "gp-254\n",
      "C:/Users/AidanO'Gorman/OneDrive - Universal Matter/Shared Documents/Technology/Prod Dev - TG Characterization\\**\\*gp-254**\n",
      "gp-255\n",
      "C:/Users/AidanO'Gorman/OneDrive - Universal Matter/Shared Documents/Technology/Prod Dev - TG Characterization\\**\\*gp-255**\n",
      "gp-256\n",
      "C:/Users/AidanO'Gorman/OneDrive - Universal Matter/Shared Documents/Technology/Prod Dev - TG Characterization\\**\\*gp-256**\n",
      "gp-257\n",
      "C:/Users/AidanO'Gorman/OneDrive - Universal Matter/Shared Documents/Technology/Prod Dev - TG Characterization\\**\\*gp-257**\n",
      "gp-258\n",
      "C:/Users/AidanO'Gorman/OneDrive - Universal Matter/Shared Documents/Technology/Prod Dev - TG Characterization\\**\\*gp-258**\n",
      "gp-259\n",
      "C:/Users/AidanO'Gorman/OneDrive - Universal Matter/Shared Documents/Technology/Prod Dev - TG Characterization\\**\\*gp-259**\n",
      "gp-260\n",
      "C:/Users/AidanO'Gorman/OneDrive - Universal Matter/Shared Documents/Technology/Prod Dev - TG Characterization\\**\\*gp-260**\n",
      "gp-261\n",
      "C:/Users/AidanO'Gorman/OneDrive - Universal Matter/Shared Documents/Technology/Prod Dev - TG Characterization\\**\\*gp-261**\n",
      "gp-262\n",
      "C:/Users/AidanO'Gorman/OneDrive - Universal Matter/Shared Documents/Technology/Prod Dev - TG Characterization\\**\\*gp-262**\n",
      "gp-263\n",
      "C:/Users/AidanO'Gorman/OneDrive - Universal Matter/Shared Documents/Technology/Prod Dev - TG Characterization\\**\\*gp-263**\n",
      "gp-264\n",
      "C:/Users/AidanO'Gorman/OneDrive - Universal Matter/Shared Documents/Technology/Prod Dev - TG Characterization\\**\\*gp-264**\n",
      "gp-265\n",
      "C:/Users/AidanO'Gorman/OneDrive - Universal Matter/Shared Documents/Technology/Prod Dev - TG Characterization\\**\\*gp-265**\n",
      "gp-273\n",
      "C:/Users/AidanO'Gorman/OneDrive - Universal Matter/Shared Documents/Technology/Prod Dev - TG Characterization\\**\\*gp-273**\n",
      "gp-274\n",
      "C:/Users/AidanO'Gorman/OneDrive - Universal Matter/Shared Documents/Technology/Prod Dev - TG Characterization\\**\\*gp-274**\n",
      "gp-275\n",
      "C:/Users/AidanO'Gorman/OneDrive - Universal Matter/Shared Documents/Technology/Prod Dev - TG Characterization\\**\\*gp-275**\n",
      "gp-401\n",
      "C:/Users/AidanO'Gorman/OneDrive - Universal Matter/Shared Documents/Technology/Prod Dev - TG Characterization\\**\\*gp-401**\n",
      "gp-402\n",
      "C:/Users/AidanO'Gorman/OneDrive - Universal Matter/Shared Documents/Technology/Prod Dev - TG Characterization\\**\\*gp-402**\n",
      "gp-403\n",
      "C:/Users/AidanO'Gorman/OneDrive - Universal Matter/Shared Documents/Technology/Prod Dev - TG Characterization\\**\\*gp-403**\n",
      "gp-404\n",
      "C:/Users/AidanO'Gorman/OneDrive - Universal Matter/Shared Documents/Technology/Prod Dev - TG Characterization\\**\\*gp-404**\n",
      "gp-684\n",
      "C:/Users/AidanO'Gorman/OneDrive - Universal Matter/Shared Documents/Technology/Prod Dev - TG Characterization\\**\\*gp-684**\n",
      "gp-690\n",
      "C:/Users/AidanO'Gorman/OneDrive - Universal Matter/Shared Documents/Technology/Prod Dev - TG Characterization\\**\\*gp-690**\n",
      "gp-691\n",
      "C:/Users/AidanO'Gorman/OneDrive - Universal Matter/Shared Documents/Technology/Prod Dev - TG Characterization\\**\\*gp-691**\n",
      "gp-692\n",
      "C:/Users/AidanO'Gorman/OneDrive - Universal Matter/Shared Documents/Technology/Prod Dev - TG Characterization\\**\\*gp-692**\n",
      "gp-696\n",
      "C:/Users/AidanO'Gorman/OneDrive - Universal Matter/Shared Documents/Technology/Prod Dev - TG Characterization\\**\\*gp-696**\n",
      "gp-709\n",
      "C:/Users/AidanO'Gorman/OneDrive - Universal Matter/Shared Documents/Technology/Prod Dev - TG Characterization\\**\\*gp-709**\n",
      "gp-711\n",
      "C:/Users/AidanO'Gorman/OneDrive - Universal Matter/Shared Documents/Technology/Prod Dev - TG Characterization\\**\\*gp-711**\n",
      "gp-713\n",
      "C:/Users/AidanO'Gorman/OneDrive - Universal Matter/Shared Documents/Technology/Prod Dev - TG Characterization\\**\\*gp-713**\n",
      "gp-714\n",
      "C:/Users/AidanO'Gorman/OneDrive - Universal Matter/Shared Documents/Technology/Prod Dev - TG Characterization\\**\\*gp-714**\n",
      "gp-716\n",
      "C:/Users/AidanO'Gorman/OneDrive - Universal Matter/Shared Documents/Technology/Prod Dev - TG Characterization\\**\\*gp-716**\n",
      "gp-719\n",
      "C:/Users/AidanO'Gorman/OneDrive - Universal Matter/Shared Documents/Technology/Prod Dev - TG Characterization\\**\\*gp-719**\n",
      "gp-720\n",
      "C:/Users/AidanO'Gorman/OneDrive - Universal Matter/Shared Documents/Technology/Prod Dev - TG Characterization\\**\\*gp-720**\n",
      "gp-721\n",
      "C:/Users/AidanO'Gorman/OneDrive - Universal Matter/Shared Documents/Technology/Prod Dev - TG Characterization\\**\\*gp-721**\n",
      "gp-722\n",
      "C:/Users/AidanO'Gorman/OneDrive - Universal Matter/Shared Documents/Technology/Prod Dev - TG Characterization\\**\\*gp-722**\n",
      "gp-723\n",
      "C:/Users/AidanO'Gorman/OneDrive - Universal Matter/Shared Documents/Technology/Prod Dev - TG Characterization\\**\\*gp-723**\n",
      "gp-724\n",
      "C:/Users/AidanO'Gorman/OneDrive - Universal Matter/Shared Documents/Technology/Prod Dev - TG Characterization\\**\\*gp-724**\n",
      "gp-727\n",
      "C:/Users/AidanO'Gorman/OneDrive - Universal Matter/Shared Documents/Technology/Prod Dev - TG Characterization\\**\\*gp-727**\n",
      "gp-728\n",
      "C:/Users/AidanO'Gorman/OneDrive - Universal Matter/Shared Documents/Technology/Prod Dev - TG Characterization\\**\\*gp-728**\n",
      "gp-729\n",
      "C:/Users/AidanO'Gorman/OneDrive - Universal Matter/Shared Documents/Technology/Prod Dev - TG Characterization\\**\\*gp-729**\n",
      "gp-730\n",
      "C:/Users/AidanO'Gorman/OneDrive - Universal Matter/Shared Documents/Technology/Prod Dev - TG Characterization\\**\\*gp-730**\n",
      "gp-731\n",
      "C:/Users/AidanO'Gorman/OneDrive - Universal Matter/Shared Documents/Technology/Prod Dev - TG Characterization\\**\\*gp-731**\n",
      "gp-733\n",
      "C:/Users/AidanO'Gorman/OneDrive - Universal Matter/Shared Documents/Technology/Prod Dev - TG Characterization\\**\\*gp-733**\n",
      "gp-734\n",
      "C:/Users/AidanO'Gorman/OneDrive - Universal Matter/Shared Documents/Technology/Prod Dev - TG Characterization\\**\\*gp-734**\n",
      "gp-735\n",
      "C:/Users/AidanO'Gorman/OneDrive - Universal Matter/Shared Documents/Technology/Prod Dev - TG Characterization\\**\\*gp-735**\n",
      "gp-736\n",
      "C:/Users/AidanO'Gorman/OneDrive - Universal Matter/Shared Documents/Technology/Prod Dev - TG Characterization\\**\\*gp-736**\n",
      "gp-737\n",
      "C:/Users/AidanO'Gorman/OneDrive - Universal Matter/Shared Documents/Technology/Prod Dev - TG Characterization\\**\\*gp-737**\n",
      "gp-738\n",
      "C:/Users/AidanO'Gorman/OneDrive - Universal Matter/Shared Documents/Technology/Prod Dev - TG Characterization\\**\\*gp-738**\n",
      "gp-739\n",
      "C:/Users/AidanO'Gorman/OneDrive - Universal Matter/Shared Documents/Technology/Prod Dev - TG Characterization\\**\\*gp-739**\n",
      "gp-740\n",
      "C:/Users/AidanO'Gorman/OneDrive - Universal Matter/Shared Documents/Technology/Prod Dev - TG Characterization\\**\\*gp-740**\n",
      "gp-741\n",
      "C:/Users/AidanO'Gorman/OneDrive - Universal Matter/Shared Documents/Technology/Prod Dev - TG Characterization\\**\\*gp-741**\n",
      "gp-742\n",
      "C:/Users/AidanO'Gorman/OneDrive - Universal Matter/Shared Documents/Technology/Prod Dev - TG Characterization\\**\\*gp-742**\n",
      "gp-743\n",
      "C:/Users/AidanO'Gorman/OneDrive - Universal Matter/Shared Documents/Technology/Prod Dev - TG Characterization\\**\\*gp-743**\n",
      "gp-744\n",
      "C:/Users/AidanO'Gorman/OneDrive - Universal Matter/Shared Documents/Technology/Prod Dev - TG Characterization\\**\\*gp-744**\n",
      "gp-745\n",
      "C:/Users/AidanO'Gorman/OneDrive - Universal Matter/Shared Documents/Technology/Prod Dev - TG Characterization\\**\\*gp-745**\n",
      "gp-748\n",
      "C:/Users/AidanO'Gorman/OneDrive - Universal Matter/Shared Documents/Technology/Prod Dev - TG Characterization\\**\\*gp-748**\n",
      "gp-749\n",
      "C:/Users/AidanO'Gorman/OneDrive - Universal Matter/Shared Documents/Technology/Prod Dev - TG Characterization\\**\\*gp-749**\n",
      "gp-756\n",
      "C:/Users/AidanO'Gorman/OneDrive - Universal Matter/Shared Documents/Technology/Prod Dev - TG Characterization\\**\\*gp-756**\n",
      "gp-757\n",
      "C:/Users/AidanO'Gorman/OneDrive - Universal Matter/Shared Documents/Technology/Prod Dev - TG Characterization\\**\\*gp-757**\n",
      "gp-758\n",
      "C:/Users/AidanO'Gorman/OneDrive - Universal Matter/Shared Documents/Technology/Prod Dev - TG Characterization\\**\\*gp-758**\n",
      "gp-759\n",
      "C:/Users/AidanO'Gorman/OneDrive - Universal Matter/Shared Documents/Technology/Prod Dev - TG Characterization\\**\\*gp-759**\n",
      "gp-760\n",
      "C:/Users/AidanO'Gorman/OneDrive - Universal Matter/Shared Documents/Technology/Prod Dev - TG Characterization\\**\\*gp-760**\n",
      "gp-761\n",
      "C:/Users/AidanO'Gorman/OneDrive - Universal Matter/Shared Documents/Technology/Prod Dev - TG Characterization\\**\\*gp-761**\n",
      "gp-762\n",
      "C:/Users/AidanO'Gorman/OneDrive - Universal Matter/Shared Documents/Technology/Prod Dev - TG Characterization\\**\\*gp-762**\n",
      "gp-763\n",
      "C:/Users/AidanO'Gorman/OneDrive - Universal Matter/Shared Documents/Technology/Prod Dev - TG Characterization\\**\\*gp-763**\n",
      "gp-766\n",
      "C:/Users/AidanO'Gorman/OneDrive - Universal Matter/Shared Documents/Technology/Prod Dev - TG Characterization\\**\\*gp-766**\n",
      "gp-767\n",
      "C:/Users/AidanO'Gorman/OneDrive - Universal Matter/Shared Documents/Technology/Prod Dev - TG Characterization\\**\\*gp-767**\n",
      "gp-768\n",
      "C:/Users/AidanO'Gorman/OneDrive - Universal Matter/Shared Documents/Technology/Prod Dev - TG Characterization\\**\\*gp-768**\n",
      "gp-769\n",
      "C:/Users/AidanO'Gorman/OneDrive - Universal Matter/Shared Documents/Technology/Prod Dev - TG Characterization\\**\\*gp-769**\n"
     ]
    },
    {
     "data": {
      "text/html": [
       "<div>\n",
       "<style scoped>\n",
       "    .dataframe tbody tr th:only-of-type {\n",
       "        vertical-align: middle;\n",
       "    }\n",
       "\n",
       "    .dataframe tbody tr th {\n",
       "        vertical-align: top;\n",
       "    }\n",
       "\n",
       "    .dataframe thead th {\n",
       "        text-align: right;\n",
       "    }\n",
       "</style>\n",
       "<table border=\"1\" class=\"dataframe\">\n",
       "  <thead>\n",
       "    <tr style=\"text-align: right;\">\n",
       "      <th></th>\n",
       "      <th>ID</th>\n",
       "      <th>Name</th>\n",
       "      <th>massUsed</th>\n",
       "      <th>usedUp?</th>\n",
       "      <th>rCreationDateTime</th>\n",
       "      <th>rModificationDateTime</th>\n",
       "      <th>operatorName</th>\n",
       "      <th>operatorEmail</th>\n",
       "      <th>notes</th>\n",
       "      <th>feedstockName</th>\n",
       "      <th>trees</th>\n",
       "      <th>processingTool</th>\n",
       "      <th>processingInfo</th>\n",
       "      <th>BET</th>\n",
       "      <th>microporeVol</th>\n",
       "      <th>microporeArea</th>\n",
       "      <th>D/G</th>\n",
       "      <th>2D/G</th>\n",
       "      <th>CT</th>\n",
       "      <th>dT</th>\n",
       "      <th>Residue (%)</th>\n",
       "      <th>MV</th>\n",
       "      <th>MN</th>\n",
       "      <th>D99</th>\n",
       "      <th>Material Type</th>\n",
       "    </tr>\n",
       "  </thead>\n",
       "  <tbody>\n",
       "    <tr>\n",
       "      <th>0</th>\n",
       "      <td>220</td>\n",
       "      <td>I14</td>\n",
       "      <td>0.000</td>\n",
       "      <td>0</td>\n",
       "      <td>2023-02-13 19:29:53</td>\n",
       "      <td>2023-02-13 19:29:53</td>\n",
       "      <td>Aidan O'Gorman</td>\n",
       "      <td>aidano@universalmatter.com</td>\n",
       "      <td></td>\n",
       "      <td>Metcoke</td>\n",
       "      <td>gp-220 / f-16 / fp-15 / fv-10</td>\n",
       "      <td>SD1Attrition Mill</td>\n",
       "      <td>Milling Speed: 0.000 [RPM], Duration: 30.000 [...</td>\n",
       "      <td>None</td>\n",
       "      <td>None</td>\n",
       "      <td>None</td>\n",
       "      <td>None</td>\n",
       "      <td>None</td>\n",
       "      <td>None</td>\n",
       "      <td>None</td>\n",
       "      <td>None</td>\n",
       "      <td>None</td>\n",
       "      <td>None</td>\n",
       "      <td>None</td>\n",
       "      <td>gp</td>\n",
       "    </tr>\n",
       "    <tr>\n",
       "      <th>1</th>\n",
       "      <td>231</td>\n",
       "      <td>I25</td>\n",
       "      <td>0.000</td>\n",
       "      <td>0</td>\n",
       "      <td>2023-02-13 19:29:56</td>\n",
       "      <td>2023-02-13 19:29:56</td>\n",
       "      <td>Aidan O'Gorman</td>\n",
       "      <td>aidano@universalmatter.com</td>\n",
       "      <td></td>\n",
       "      <td>CPC</td>\n",
       "      <td>gp-231 / f-57 / fp-50 / fv-11</td>\n",
       "      <td>SD1Attrition Mill</td>\n",
       "      <td>Milling Speed: 350.000 [RPM], Duration: 10.000...</td>\n",
       "      <td>None</td>\n",
       "      <td>None</td>\n",
       "      <td>None</td>\n",
       "      <td>None</td>\n",
       "      <td>None</td>\n",
       "      <td>None</td>\n",
       "      <td>None</td>\n",
       "      <td>None</td>\n",
       "      <td>None</td>\n",
       "      <td>None</td>\n",
       "      <td>None</td>\n",
       "      <td>gp</td>\n",
       "    </tr>\n",
       "    <tr>\n",
       "      <th>2</th>\n",
       "      <td>232</td>\n",
       "      <td>I26</td>\n",
       "      <td>0.000</td>\n",
       "      <td>0</td>\n",
       "      <td>2023-02-13 19:29:57</td>\n",
       "      <td>2023-02-13 19:29:57</td>\n",
       "      <td>Aidan O'Gorman</td>\n",
       "      <td>aidano@universalmatter.com</td>\n",
       "      <td></td>\n",
       "      <td>CPC</td>\n",
       "      <td>gp-232 / f-57 / fp-50 / fv-11</td>\n",
       "      <td>SD1Attrition Mill</td>\n",
       "      <td>Milling Speed: 350.000 [RPM], Duration: 20.000...</td>\n",
       "      <td>None</td>\n",
       "      <td>None</td>\n",
       "      <td>None</td>\n",
       "      <td>None</td>\n",
       "      <td>None</td>\n",
       "      <td>None</td>\n",
       "      <td>None</td>\n",
       "      <td>None</td>\n",
       "      <td>None</td>\n",
       "      <td>None</td>\n",
       "      <td>None</td>\n",
       "      <td>gp</td>\n",
       "    </tr>\n",
       "    <tr>\n",
       "      <th>3</th>\n",
       "      <td>233</td>\n",
       "      <td>I27</td>\n",
       "      <td>0.000</td>\n",
       "      <td>0</td>\n",
       "      <td>2023-02-13 19:29:57</td>\n",
       "      <td>2023-02-13 19:29:57</td>\n",
       "      <td>Aidan O'Gorman</td>\n",
       "      <td>aidano@universalmatter.com</td>\n",
       "      <td></td>\n",
       "      <td>CPC</td>\n",
       "      <td>gp-233 / f-57 / fp-50 / fv-11</td>\n",
       "      <td>SD1Attrition Mill</td>\n",
       "      <td>Milling Speed: 350.000 [RPM], Duration: 30.000...</td>\n",
       "      <td>None</td>\n",
       "      <td>None</td>\n",
       "      <td>None</td>\n",
       "      <td>None</td>\n",
       "      <td>None</td>\n",
       "      <td>None</td>\n",
       "      <td>None</td>\n",
       "      <td>None</td>\n",
       "      <td>None</td>\n",
       "      <td>None</td>\n",
       "      <td>None</td>\n",
       "      <td>gp</td>\n",
       "    </tr>\n",
       "    <tr>\n",
       "      <th>4</th>\n",
       "      <td>234</td>\n",
       "      <td>I28</td>\n",
       "      <td>0.000</td>\n",
       "      <td>0</td>\n",
       "      <td>2023-02-13 19:29:57</td>\n",
       "      <td>2023-02-13 19:29:57</td>\n",
       "      <td>Aidan O'Gorman</td>\n",
       "      <td>aidano@universalmatter.com</td>\n",
       "      <td></td>\n",
       "      <td>CPC</td>\n",
       "      <td>gp-234 / f-57 / fp-50 / fv-11</td>\n",
       "      <td>SD1Attrition Mill</td>\n",
       "      <td>Milling Speed: 350.000 [RPM], Duration: 40.000...</td>\n",
       "      <td>None</td>\n",
       "      <td>None</td>\n",
       "      <td>None</td>\n",
       "      <td>None</td>\n",
       "      <td>None</td>\n",
       "      <td>None</td>\n",
       "      <td>None</td>\n",
       "      <td>None</td>\n",
       "      <td>3.940</td>\n",
       "      <td>1.262</td>\n",
       "      <td>11.450</td>\n",
       "      <td>gp</td>\n",
       "    </tr>\n",
       "    <tr>\n",
       "      <th>...</th>\n",
       "      <td>...</td>\n",
       "      <td>...</td>\n",
       "      <td>...</td>\n",
       "      <td>...</td>\n",
       "      <td>...</td>\n",
       "      <td>...</td>\n",
       "      <td>...</td>\n",
       "      <td>...</td>\n",
       "      <td>...</td>\n",
       "      <td>...</td>\n",
       "      <td>...</td>\n",
       "      <td>...</td>\n",
       "      <td>...</td>\n",
       "      <td>...</td>\n",
       "      <td>...</td>\n",
       "      <td>...</td>\n",
       "      <td>...</td>\n",
       "      <td>...</td>\n",
       "      <td>...</td>\n",
       "      <td>...</td>\n",
       "      <td>...</td>\n",
       "      <td>...</td>\n",
       "      <td>...</td>\n",
       "      <td>...</td>\n",
       "      <td>...</td>\n",
       "    </tr>\n",
       "    <tr>\n",
       "      <th>81</th>\n",
       "      <td>766</td>\n",
       "      <td>SD1 Run 54 - C7060 - 425g</td>\n",
       "      <td>0.000</td>\n",
       "      <td>0</td>\n",
       "      <td>2023-08-08 16:20:35</td>\n",
       "      <td>2023-08-08 16:20:35</td>\n",
       "      <td>Aidan O'Gorman</td>\n",
       "      <td>aidano@universalmatter.com</td>\n",
       "      <td></td>\n",
       "      <td>C7060U</td>\n",
       "      <td>gp-766 / f-778 / f-777 / f-776 / f-774 / fp-41...</td>\n",
       "      <td>SD1Attrition Mill</td>\n",
       "      <td>Milling Speed: 500.000 [RPM], Duration: 180.00...</td>\n",
       "      <td>None</td>\n",
       "      <td>None</td>\n",
       "      <td>None</td>\n",
       "      <td>None</td>\n",
       "      <td>None</td>\n",
       "      <td>677.594</td>\n",
       "      <td>206.826</td>\n",
       "      <td>0.838</td>\n",
       "      <td>None</td>\n",
       "      <td>None</td>\n",
       "      <td>None</td>\n",
       "      <td>gp</td>\n",
       "    </tr>\n",
       "    <tr>\n",
       "      <th>82</th>\n",
       "      <td>767</td>\n",
       "      <td>SD1 HSSA Mix - C7060</td>\n",
       "      <td>0.000</td>\n",
       "      <td>0</td>\n",
       "      <td>2023-08-08 16:47:09</td>\n",
       "      <td>2023-08-08 16:47:09</td>\n",
       "      <td>Aidan O'Gorman</td>\n",
       "      <td>aidano@universalmatter.com</td>\n",
       "      <td>for Coperion</td>\n",
       "      <td>C7060U</td>\n",
       "      <td>gp-767 / gp-756 / f-773 / f-772 / f-771 / f-77...</td>\n",
       "      <td>SD1Attrition Mill</td>\n",
       "      <td>Milling Speed:  [RPM], Duration:  [Minutes], M...</td>\n",
       "      <td>None</td>\n",
       "      <td>None</td>\n",
       "      <td>None</td>\n",
       "      <td>1.107</td>\n",
       "      <td>0.382</td>\n",
       "      <td>697.981</td>\n",
       "      <td>212.997</td>\n",
       "      <td>1.127</td>\n",
       "      <td>None</td>\n",
       "      <td>None</td>\n",
       "      <td>None</td>\n",
       "      <td>gp</td>\n",
       "    </tr>\n",
       "    <tr>\n",
       "      <th>83</th>\n",
       "      <td>768</td>\n",
       "      <td>SD1 Run 55 - C7060</td>\n",
       "      <td>0.000</td>\n",
       "      <td>0</td>\n",
       "      <td>2023-08-09 00:51:34</td>\n",
       "      <td>2023-08-09 00:51:34</td>\n",
       "      <td>Aidan O'Gorman</td>\n",
       "      <td>aidano@universalmatter.com</td>\n",
       "      <td>for Coperion</td>\n",
       "      <td>C7060U</td>\n",
       "      <td>gp-768 / f-778 / f-777 / f-776 / f-774 / fp-41...</td>\n",
       "      <td>SD1Attrition Mill</td>\n",
       "      <td>Milling Speed: 0.000 [RPM], Duration: 0.000 [M...</td>\n",
       "      <td>None</td>\n",
       "      <td>None</td>\n",
       "      <td>None</td>\n",
       "      <td>None</td>\n",
       "      <td>None</td>\n",
       "      <td>None</td>\n",
       "      <td>None</td>\n",
       "      <td>None</td>\n",
       "      <td>None</td>\n",
       "      <td>None</td>\n",
       "      <td>None</td>\n",
       "      <td>gp</td>\n",
       "    </tr>\n",
       "    <tr>\n",
       "      <th>84</th>\n",
       "      <td>769</td>\n",
       "      <td>SD1 Run 56 - C7060</td>\n",
       "      <td>0.000</td>\n",
       "      <td>0</td>\n",
       "      <td>2023-08-09 00:52:26</td>\n",
       "      <td>2023-08-09 00:52:26</td>\n",
       "      <td>Aidan O'Gorman</td>\n",
       "      <td>aidano@universalmatter.com</td>\n",
       "      <td>for Coperion</td>\n",
       "      <td>C7060U</td>\n",
       "      <td>gp-769 / f-778 / f-777 / f-776 / f-774 / fp-41...</td>\n",
       "      <td>SD1Attrition Mill</td>\n",
       "      <td>Milling Speed: 0.000 [RPM], Duration: 0.000 [M...</td>\n",
       "      <td>None</td>\n",
       "      <td>None</td>\n",
       "      <td>None</td>\n",
       "      <td>None</td>\n",
       "      <td>None</td>\n",
       "      <td>674.845</td>\n",
       "      <td>345.092</td>\n",
       "      <td>1.016</td>\n",
       "      <td>None</td>\n",
       "      <td>None</td>\n",
       "      <td>None</td>\n",
       "      <td>gp</td>\n",
       "    </tr>\n",
       "    <tr>\n",
       "      <th>85</th>\n",
       "      <td>770</td>\n",
       "      <td>SD1 HSSA mix 2 - C7060</td>\n",
       "      <td>0.000</td>\n",
       "      <td>0</td>\n",
       "      <td>2023-08-09 01:20:45</td>\n",
       "      <td>2023-08-09 01:20:45</td>\n",
       "      <td>Aidan O'Gorman</td>\n",
       "      <td>aidano@universalmatter.com</td>\n",
       "      <td>for Coperion</td>\n",
       "      <td>C7060U</td>\n",
       "      <td>gp-770 / gp-759 / f-773 / f-772 / f-771 / f-77...</td>\n",
       "      <td>SD1Attrition Mill</td>\n",
       "      <td>Milling Speed: 0.000 [RPM], Duration: 0.000 [M...</td>\n",
       "      <td>None</td>\n",
       "      <td>None</td>\n",
       "      <td>None</td>\n",
       "      <td>1.182</td>\n",
       "      <td>0.385</td>\n",
       "      <td>687.139</td>\n",
       "      <td>191.160</td>\n",
       "      <td>0.838</td>\n",
       "      <td>None</td>\n",
       "      <td>None</td>\n",
       "      <td>None</td>\n",
       "      <td>gp</td>\n",
       "    </tr>\n",
       "  </tbody>\n",
       "</table>\n",
       "<p>86 rows × 25 columns</p>\n",
       "</div>"
      ],
      "text/plain": [
       "     ID                       Name massUsed  usedUp?   rCreationDateTime  \\\n",
       "0   220                        I14    0.000        0 2023-02-13 19:29:53   \n",
       "1   231                        I25    0.000        0 2023-02-13 19:29:56   \n",
       "2   232                        I26    0.000        0 2023-02-13 19:29:57   \n",
       "3   233                        I27    0.000        0 2023-02-13 19:29:57   \n",
       "4   234                        I28    0.000        0 2023-02-13 19:29:57   \n",
       "..  ...                        ...      ...      ...                 ...   \n",
       "81  766  SD1 Run 54 - C7060 - 425g    0.000        0 2023-08-08 16:20:35   \n",
       "82  767       SD1 HSSA Mix - C7060    0.000        0 2023-08-08 16:47:09   \n",
       "83  768         SD1 Run 55 - C7060    0.000        0 2023-08-09 00:51:34   \n",
       "84  769         SD1 Run 56 - C7060    0.000        0 2023-08-09 00:52:26   \n",
       "85  770     SD1 HSSA mix 2 - C7060    0.000        0 2023-08-09 01:20:45   \n",
       "\n",
       "   rModificationDateTime    operatorName               operatorEmail  \\\n",
       "0    2023-02-13 19:29:53  Aidan O'Gorman  aidano@universalmatter.com   \n",
       "1    2023-02-13 19:29:56  Aidan O'Gorman  aidano@universalmatter.com   \n",
       "2    2023-02-13 19:29:57  Aidan O'Gorman  aidano@universalmatter.com   \n",
       "3    2023-02-13 19:29:57  Aidan O'Gorman  aidano@universalmatter.com   \n",
       "4    2023-02-13 19:29:57  Aidan O'Gorman  aidano@universalmatter.com   \n",
       "..                   ...             ...                         ...   \n",
       "81   2023-08-08 16:20:35  Aidan O'Gorman  aidano@universalmatter.com   \n",
       "82   2023-08-08 16:47:09  Aidan O'Gorman  aidano@universalmatter.com   \n",
       "83   2023-08-09 00:51:34  Aidan O'Gorman  aidano@universalmatter.com   \n",
       "84   2023-08-09 00:52:26  Aidan O'Gorman  aidano@universalmatter.com   \n",
       "85   2023-08-09 01:20:45  Aidan O'Gorman  aidano@universalmatter.com   \n",
       "\n",
       "           notes feedstockName  \\\n",
       "0                      Metcoke   \n",
       "1                          CPC   \n",
       "2                          CPC   \n",
       "3                          CPC   \n",
       "4                          CPC   \n",
       "..           ...           ...   \n",
       "81                      C7060U   \n",
       "82  for Coperion        C7060U   \n",
       "83  for Coperion        C7060U   \n",
       "84  for Coperion        C7060U   \n",
       "85  for Coperion        C7060U   \n",
       "\n",
       "                                                trees     processingTool  \\\n",
       "0                       gp-220 / f-16 / fp-15 / fv-10  SD1Attrition Mill   \n",
       "1                       gp-231 / f-57 / fp-50 / fv-11  SD1Attrition Mill   \n",
       "2                       gp-232 / f-57 / fp-50 / fv-11  SD1Attrition Mill   \n",
       "3                       gp-233 / f-57 / fp-50 / fv-11  SD1Attrition Mill   \n",
       "4                       gp-234 / f-57 / fp-50 / fv-11  SD1Attrition Mill   \n",
       "..                                                ...                ...   \n",
       "81  gp-766 / f-778 / f-777 / f-776 / f-774 / fp-41...  SD1Attrition Mill   \n",
       "82  gp-767 / gp-756 / f-773 / f-772 / f-771 / f-77...  SD1Attrition Mill   \n",
       "83  gp-768 / f-778 / f-777 / f-776 / f-774 / fp-41...  SD1Attrition Mill   \n",
       "84  gp-769 / f-778 / f-777 / f-776 / f-774 / fp-41...  SD1Attrition Mill   \n",
       "85  gp-770 / gp-759 / f-773 / f-772 / f-771 / f-77...  SD1Attrition Mill   \n",
       "\n",
       "                                       processingInfo   BET microporeVol  \\\n",
       "0   Milling Speed: 0.000 [RPM], Duration: 30.000 [...  None         None   \n",
       "1   Milling Speed: 350.000 [RPM], Duration: 10.000...  None         None   \n",
       "2   Milling Speed: 350.000 [RPM], Duration: 20.000...  None         None   \n",
       "3   Milling Speed: 350.000 [RPM], Duration: 30.000...  None         None   \n",
       "4   Milling Speed: 350.000 [RPM], Duration: 40.000...  None         None   \n",
       "..                                                ...   ...          ...   \n",
       "81  Milling Speed: 500.000 [RPM], Duration: 180.00...  None         None   \n",
       "82  Milling Speed:  [RPM], Duration:  [Minutes], M...  None         None   \n",
       "83  Milling Speed: 0.000 [RPM], Duration: 0.000 [M...  None         None   \n",
       "84  Milling Speed: 0.000 [RPM], Duration: 0.000 [M...  None         None   \n",
       "85  Milling Speed: 0.000 [RPM], Duration: 0.000 [M...  None         None   \n",
       "\n",
       "   microporeArea    D/G   2D/G       CT       dT Residue (%)     MV     MN  \\\n",
       "0           None   None   None     None     None        None   None   None   \n",
       "1           None   None   None     None     None        None   None   None   \n",
       "2           None   None   None     None     None        None   None   None   \n",
       "3           None   None   None     None     None        None   None   None   \n",
       "4           None   None   None     None     None        None  3.940  1.262   \n",
       "..           ...    ...    ...      ...      ...         ...    ...    ...   \n",
       "81          None   None   None  677.594  206.826       0.838   None   None   \n",
       "82          None  1.107  0.382  697.981  212.997       1.127   None   None   \n",
       "83          None   None   None     None     None        None   None   None   \n",
       "84          None   None   None  674.845  345.092       1.016   None   None   \n",
       "85          None  1.182  0.385  687.139  191.160       0.838   None   None   \n",
       "\n",
       "       D99 Material Type  \n",
       "0     None            gp  \n",
       "1     None            gp  \n",
       "2     None            gp  \n",
       "3     None            gp  \n",
       "4   11.450            gp  \n",
       "..     ...           ...  \n",
       "81    None            gp  \n",
       "82    None            gp  \n",
       "83    None            gp  \n",
       "84    None            gp  \n",
       "85    None            gp  \n",
       "\n",
       "[86 rows x 25 columns]"
      ]
     },
     "metadata": {},
     "output_type": "display_data"
    },
    {
     "data": {
      "text/html": [
       "<div>\n",
       "<style scoped>\n",
       "    .dataframe tbody tr th:only-of-type {\n",
       "        vertical-align: middle;\n",
       "    }\n",
       "\n",
       "    .dataframe tbody tr th {\n",
       "        vertical-align: top;\n",
       "    }\n",
       "\n",
       "    .dataframe thead th {\n",
       "        text-align: right;\n",
       "    }\n",
       "</style>\n",
       "<table border=\"1\" class=\"dataframe\">\n",
       "  <thead>\n",
       "    <tr style=\"text-align: right;\">\n",
       "      <th></th>\n",
       "      <th>ID</th>\n",
       "      <th>subfolder</th>\n",
       "      <th>filename</th>\n",
       "    </tr>\n",
       "  </thead>\n",
       "  <tbody>\n",
       "    <tr>\n",
       "      <th>0</th>\n",
       "      <td>gp-234</td>\n",
       "      <td>\\PSA\\PSADump</td>\n",
       "      <td>gp-234-psa-t6~k6.6-211018-SD-1-40min_1_11_2022...</td>\n",
       "    </tr>\n",
       "    <tr>\n",
       "      <th>1</th>\n",
       "      <td>gp-234</td>\n",
       "      <td>\\PSA\\PSADump</td>\n",
       "      <td>gp-234-psa-t6~k6.6-211018-SD-1-40min_1_11_2022...</td>\n",
       "    </tr>\n",
       "    <tr>\n",
       "      <th>2</th>\n",
       "      <td>gp-234</td>\n",
       "      <td>\\PSA\\PSADump</td>\n",
       "      <td>gp-234-psa-t6~k6.6-211018-SD-1-40min_1_11_2022...</td>\n",
       "    </tr>\n",
       "    <tr>\n",
       "      <th>3</th>\n",
       "      <td>gp-234</td>\n",
       "      <td>\\PSA\\PSADump</td>\n",
       "      <td>gp-234-psa-t6~k6.6-211018-SD-1-40min_1_11_2022...</td>\n",
       "    </tr>\n",
       "    <tr>\n",
       "      <th>4</th>\n",
       "      <td>gp-234</td>\n",
       "      <td>\\PSA\\PSADump</td>\n",
       "      <td>gp-234-psa-t6~SD1-I274-N990-260g-30min_22_3_20...</td>\n",
       "    </tr>\n",
       "    <tr>\n",
       "      <th>...</th>\n",
       "      <td>...</td>\n",
       "      <td>...</td>\n",
       "      <td>...</td>\n",
       "    </tr>\n",
       "    <tr>\n",
       "      <th>795</th>\n",
       "      <td>gp-766</td>\n",
       "      <td>\\TGA\\TGADump</td>\n",
       "      <td>gp-766-tga-t4~C7060-SD1.001</td>\n",
       "    </tr>\n",
       "    <tr>\n",
       "      <th>796</th>\n",
       "      <td>gp-767</td>\n",
       "      <td>\\AFM MIC</td>\n",
       "      <td>gp-767</td>\n",
       "    </tr>\n",
       "    <tr>\n",
       "      <th>797</th>\n",
       "      <td>gp-767</td>\n",
       "      <td>\\Raman\\RamanDump</td>\n",
       "      <td>gp-767-raman-t1~SD1mix C7060 HSSA.map</td>\n",
       "    </tr>\n",
       "    <tr>\n",
       "      <th>798</th>\n",
       "      <td>gp-767</td>\n",
       "      <td>\\TGA\\TGADump</td>\n",
       "      <td>gp-767-tga-t4~C7060-SD1 mix.001</td>\n",
       "    </tr>\n",
       "    <tr>\n",
       "      <th>799</th>\n",
       "      <td>gp-769</td>\n",
       "      <td>\\TGA\\TGADump</td>\n",
       "      <td>gp-769-tga-t4~C7060-SD1.001</td>\n",
       "    </tr>\n",
       "  </tbody>\n",
       "</table>\n",
       "<p>800 rows × 3 columns</p>\n",
       "</div>"
      ],
      "text/plain": [
       "         ID         subfolder  \\\n",
       "0    gp-234      \\PSA\\PSADump   \n",
       "1    gp-234      \\PSA\\PSADump   \n",
       "2    gp-234      \\PSA\\PSADump   \n",
       "3    gp-234      \\PSA\\PSADump   \n",
       "4    gp-234      \\PSA\\PSADump   \n",
       "..      ...               ...   \n",
       "795  gp-766      \\TGA\\TGADump   \n",
       "796  gp-767          \\AFM MIC   \n",
       "797  gp-767  \\Raman\\RamanDump   \n",
       "798  gp-767      \\TGA\\TGADump   \n",
       "799  gp-769      \\TGA\\TGADump   \n",
       "\n",
       "                                              filename  \n",
       "0    gp-234-psa-t6~k6.6-211018-SD-1-40min_1_11_2022...  \n",
       "1    gp-234-psa-t6~k6.6-211018-SD-1-40min_1_11_2022...  \n",
       "2    gp-234-psa-t6~k6.6-211018-SD-1-40min_1_11_2022...  \n",
       "3    gp-234-psa-t6~k6.6-211018-SD-1-40min_1_11_2022...  \n",
       "4    gp-234-psa-t6~SD1-I274-N990-260g-30min_22_3_20...  \n",
       "..                                                 ...  \n",
       "795                        gp-766-tga-t4~C7060-SD1.001  \n",
       "796                                             gp-767  \n",
       "797              gp-767-raman-t1~SD1mix C7060 HSSA.map  \n",
       "798                    gp-767-tga-t4~C7060-SD1 mix.001  \n",
       "799                        gp-769-tga-t4~C7060-SD1.001  \n",
       "\n",
       "[800 rows x 3 columns]"
      ]
     },
     "metadata": {},
     "output_type": "display_data"
    },
    {
     "data": {
      "text/html": [
       "<div>\n",
       "<style scoped>\n",
       "    .dataframe tbody tr th:only-of-type {\n",
       "        vertical-align: middle;\n",
       "    }\n",
       "\n",
       "    .dataframe tbody tr th {\n",
       "        vertical-align: top;\n",
       "    }\n",
       "\n",
       "    .dataframe thead th {\n",
       "        text-align: right;\n",
       "    }\n",
       "</style>\n",
       "<table border=\"1\" class=\"dataframe\">\n",
       "  <thead>\n",
       "    <tr style=\"text-align: right;\">\n",
       "      <th></th>\n",
       "      <th>sampleID</th>\n",
       "      <th>testType</th>\n",
       "      <th>parameter1</th>\n",
       "      <th>parameter2</th>\n",
       "      <th>parameter3</th>\n",
       "      <th>note</th>\n",
       "      <th>Valid?</th>\n",
       "      <th>rCreationDateTime</th>\n",
       "      <th>rModificationDateTime</th>\n",
       "    </tr>\n",
       "  </thead>\n",
       "  <tbody>\n",
       "    <tr>\n",
       "      <th>0</th>\n",
       "      <td>gp-234</td>\n",
       "      <td>PSA</td>\n",
       "      <td>3.940</td>\n",
       "      <td>1.262</td>\n",
       "      <td>11.450</td>\n",
       "      <td>None</td>\n",
       "      <td>1</td>\n",
       "      <td>2023-03-24 20:38:03</td>\n",
       "      <td>2023-03-24 20:38:03</td>\n",
       "    </tr>\n",
       "    <tr>\n",
       "      <th>1</th>\n",
       "      <td>gp-234</td>\n",
       "      <td>PSA</td>\n",
       "      <td>4.060</td>\n",
       "      <td>1.331</td>\n",
       "      <td>13.370</td>\n",
       "      <td>None</td>\n",
       "      <td>1</td>\n",
       "      <td>2023-03-24 20:38:03</td>\n",
       "      <td>2023-03-24 20:38:03</td>\n",
       "    </tr>\n",
       "    <tr>\n",
       "      <th>2</th>\n",
       "      <td>gp-234</td>\n",
       "      <td>PSA</td>\n",
       "      <td>14.700</td>\n",
       "      <td>0.981</td>\n",
       "      <td>56.610</td>\n",
       "      <td>None</td>\n",
       "      <td>1</td>\n",
       "      <td>2023-03-24 20:38:03</td>\n",
       "      <td>2023-03-24 20:38:03</td>\n",
       "    </tr>\n",
       "    <tr>\n",
       "      <th>3</th>\n",
       "      <td>gp-234</td>\n",
       "      <td>PSA</td>\n",
       "      <td>14.350</td>\n",
       "      <td>1.411</td>\n",
       "      <td>64.780</td>\n",
       "      <td>None</td>\n",
       "      <td>1</td>\n",
       "      <td>2023-03-24 20:38:03</td>\n",
       "      <td>2023-03-24 20:38:03</td>\n",
       "    </tr>\n",
       "    <tr>\n",
       "      <th>4</th>\n",
       "      <td>gp-234</td>\n",
       "      <td>PSA</td>\n",
       "      <td>13.500</td>\n",
       "      <td>0.984</td>\n",
       "      <td>53.870</td>\n",
       "      <td>None</td>\n",
       "      <td>1</td>\n",
       "      <td>2023-03-24 20:38:03</td>\n",
       "      <td>2023-03-24 20:38:03</td>\n",
       "    </tr>\n",
       "    <tr>\n",
       "      <th>...</th>\n",
       "      <td>...</td>\n",
       "      <td>...</td>\n",
       "      <td>...</td>\n",
       "      <td>...</td>\n",
       "      <td>...</td>\n",
       "      <td>...</td>\n",
       "      <td>...</td>\n",
       "      <td>...</td>\n",
       "      <td>...</td>\n",
       "    </tr>\n",
       "    <tr>\n",
       "      <th>488</th>\n",
       "      <td>gp-760</td>\n",
       "      <td>BET</td>\n",
       "      <td>418.364</td>\n",
       "      <td>0.053</td>\n",
       "      <td>110.944</td>\n",
       "      <td>SD1run50-C7060.TXT</td>\n",
       "      <td>1</td>\n",
       "      <td>2023-08-04 12:35:52</td>\n",
       "      <td>2023-08-04 12:35:52</td>\n",
       "    </tr>\n",
       "    <tr>\n",
       "      <th>489</th>\n",
       "      <td>gp-766</td>\n",
       "      <td>TGA</td>\n",
       "      <td>677.594</td>\n",
       "      <td>206.826</td>\n",
       "      <td>0.838</td>\n",
       "      <td>C7060-SD1.001</td>\n",
       "      <td>1</td>\n",
       "      <td>2023-08-12 12:36:03</td>\n",
       "      <td>2023-08-12 12:36:03</td>\n",
       "    </tr>\n",
       "    <tr>\n",
       "      <th>491</th>\n",
       "      <td>gp-767</td>\n",
       "      <td>RAMAN</td>\n",
       "      <td>1.107</td>\n",
       "      <td>0.382</td>\n",
       "      <td>None</td>\n",
       "      <td>SD1mix C7060 HSSA.map</td>\n",
       "      <td>1</td>\n",
       "      <td>2023-08-11 12:35:48</td>\n",
       "      <td>2023-08-11 12:35:48</td>\n",
       "    </tr>\n",
       "    <tr>\n",
       "      <th>490</th>\n",
       "      <td>gp-767</td>\n",
       "      <td>TGA</td>\n",
       "      <td>697.981</td>\n",
       "      <td>212.997</td>\n",
       "      <td>1.127</td>\n",
       "      <td>C7060-SD1 mix.001</td>\n",
       "      <td>1</td>\n",
       "      <td>2023-08-12 12:36:04</td>\n",
       "      <td>2023-08-12 12:36:04</td>\n",
       "    </tr>\n",
       "    <tr>\n",
       "      <th>492</th>\n",
       "      <td>gp-769</td>\n",
       "      <td>TGA</td>\n",
       "      <td>674.845</td>\n",
       "      <td>345.092</td>\n",
       "      <td>1.016</td>\n",
       "      <td>C7060-SD1.001</td>\n",
       "      <td>1</td>\n",
       "      <td>2023-08-11 12:35:57</td>\n",
       "      <td>2023-08-11 12:35:57</td>\n",
       "    </tr>\n",
       "  </tbody>\n",
       "</table>\n",
       "<p>493 rows × 9 columns</p>\n",
       "</div>"
      ],
      "text/plain": [
       "    sampleID testType parameter1 parameter2 parameter3                   note  \\\n",
       "0     gp-234      PSA      3.940      1.262     11.450                   None   \n",
       "1     gp-234      PSA      4.060      1.331     13.370                   None   \n",
       "2     gp-234      PSA     14.700      0.981     56.610                   None   \n",
       "3     gp-234      PSA     14.350      1.411     64.780                   None   \n",
       "4     gp-234      PSA     13.500      0.984     53.870                   None   \n",
       "..       ...      ...        ...        ...        ...                    ...   \n",
       "488   gp-760      BET    418.364      0.053    110.944     SD1run50-C7060.TXT   \n",
       "489   gp-766      TGA    677.594    206.826      0.838          C7060-SD1.001   \n",
       "491   gp-767    RAMAN      1.107      0.382       None  SD1mix C7060 HSSA.map   \n",
       "490   gp-767      TGA    697.981    212.997      1.127      C7060-SD1 mix.001   \n",
       "492   gp-769      TGA    674.845    345.092      1.016          C7060-SD1.001   \n",
       "\n",
       "     Valid?   rCreationDateTime rModificationDateTime  \n",
       "0         1 2023-03-24 20:38:03   2023-03-24 20:38:03  \n",
       "1         1 2023-03-24 20:38:03   2023-03-24 20:38:03  \n",
       "2         1 2023-03-24 20:38:03   2023-03-24 20:38:03  \n",
       "3         1 2023-03-24 20:38:03   2023-03-24 20:38:03  \n",
       "4         1 2023-03-24 20:38:03   2023-03-24 20:38:03  \n",
       "..      ...                 ...                   ...  \n",
       "488       1 2023-08-04 12:35:52   2023-08-04 12:35:52  \n",
       "489       1 2023-08-12 12:36:03   2023-08-12 12:36:03  \n",
       "491       1 2023-08-11 12:35:48   2023-08-11 12:35:48  \n",
       "490       1 2023-08-12 12:36:04   2023-08-12 12:36:04  \n",
       "492       1 2023-08-11 12:35:57   2023-08-11 12:35:57  \n",
       "\n",
       "[493 rows x 9 columns]"
      ]
     },
     "metadata": {},
     "output_type": "display_data"
    }
   ],
   "source": [
    "#FIX here TO INCLUDE ANY TYPE OF SAMPLE\n",
    "\n",
    "\n",
    "#get test data based on these IDs - for all of the data and associated files\n",
    "dataframe_list = []\n",
    "testframe_list = []\n",
    "dataFile_list = []\n",
    "for samples in sample_list:\n",
    "    material_type = samples[0]\n",
    "    batch_id = samples[1]\n",
    "    idfull = str(material_type+\"-\"+str(ids))\n",
    "    print(idfull)\n",
    "    ids = batch_id\n",
    "    with connection.cursor() as cursor:\n",
    "        match material_type:\n",
    "            case \"gp\":\n",
    "                sql = \"SELECT * FROM Graphene.FullViewGrapheneBatch WHERE ID=%s\"\n",
    "            case \"fp\":\n",
    "                sql = \"SELECT * FROM Graphene.FullViewFeedstockInternalBatch WHERE ID=%s\"\n",
    "            case \"f\":\n",
    "                sql = \"SELECT * FROM Graphene.FullViewFlashProcess WHERE ID=%s\"\n",
    "            case \"d\":\n",
    "                sql = \"SELECT * FROM Graphene.FullViewDispersionBatch WHERE ID=%s\"\n",
    "            case \"fv\":\n",
    "                sql = \"SELECT * FROM Graphene.FullViewVendorBatch WHERE ID=%s\" #not made yet I dont think\n",
    "        cursor.execute(sql, ids)  # Use the loop variable 'ids' here\n",
    "        result = cursor.fetchall()\n",
    "    df = pd.DataFrame(result)\n",
    "    df['Material Type'] = material_type\n",
    "    dataframe_list.append(df)\n",
    "    with connection.cursor() as cursor:\n",
    "        sql = \"SELECT * FROM Graphene.analysisView WHERE `sampleID`=CONVERT(%s USING utf8)\"\n",
    "        cursor.execute(sql, (idfull,) )  # Use the loop variable 'ids' here\n",
    "        result = cursor.fetchall()\n",
    "        df = pd.DataFrame(result)\n",
    "        testframe_list.append(df)\n",
    "    techDir = \"C:/Users/AidanO'Gorman/OneDrive - Universal Matter/Shared Documents/Technology/Prod Dev - TG Characterization\"\n",
    "    searchstring = os.path.join(techDir,\"**\",f\"*{idfull}**\")\n",
    "    print(searchstring)\n",
    "    fileList = glob.glob(searchstring,recursive=True)\n",
    "    for filePath in fileList:\n",
    "    # Split the path into directory and filename\n",
    "        directory, filename = os.path.split(filePath)\n",
    "        subfolder = directory.rsplit(\"Characterization\", 1)[1]\n",
    "        fileData = [idfull, subfolder, filename]\n",
    "        dataFile_list.append(fileData)\n",
    "files_df = pd.DataFrame(dataFile_list, columns=['ID','subfolder','filename'])\n",
    "combined_df = pd.concat(testframe_list, ignore_index=True)\n",
    "sort_df = combined_df.sort_values(by=['sampleID','testType'])\n",
    "combined_dataframe = pd.concat(dataframe_list, ignore_index=True)\n",
    "display(combined_dataframe)\n",
    "display(files_df)\n",
    "display(sort_df)"
   ]
  },
  {
   "cell_type": "code",
   "execution_count": null,
   "id": "e1e997f7-4a97-4233-9e66-53d7e559fae7",
   "metadata": {},
   "outputs": [],
   "source": [
    "# Export to Excel\n",
    "#with pd.ExcelWriter(excel_file_path) as writer:\n",
    "#    sort_df.to_excel(writer, sheet_name='Tests', index=False)\n",
    "#    files_df.to_excel(writer, sheet_name='Files', index=False)\n",
    "#    combined_dataframe.to_excel(writer, sheet_name='Batch results', index=False)"
   ]
  },
  {
   "cell_type": "code",
   "execution_count": null,
   "id": "dbb80772-5548-464a-84e7-85921613f6c5",
   "metadata": {},
   "outputs": [],
   "source": []
  }
 ],
 "metadata": {
  "kernelspec": {
   "display_name": "Python 3 (ipykernel)",
   "language": "python",
   "name": "python3"
  },
  "language_info": {
   "codemirror_mode": {
    "name": "ipython",
    "version": 3
   },
   "file_extension": ".py",
   "mimetype": "text/x-python",
   "name": "python",
   "nbconvert_exporter": "python",
   "pygments_lexer": "ipython3",
   "version": "3.10.10"
  },
  "widgets": {
   "application/vnd.jupyter.widget-state+json": {
    "state": {
     "02f81b00de84470390e2133874ee41ed": {
      "model_module": "@jupyter-widgets/base",
      "model_module_version": "2.0.0",
      "model_name": "LayoutModel",
      "state": {}
     },
     "03dbe238c8034780b0b8a2aa17754c3b": {
      "model_module": "@jupyter-widgets/controls",
      "model_module_version": "2.0.0",
      "model_name": "ButtonModel",
      "state": {
       "button_style": "warning",
       "description": "Fetch Multiple",
       "layout": "IPY_MODEL_1dcacf06d6e944c482f12590747f35b6",
       "style": "IPY_MODEL_29868ef082f04377ae1b2ac4411d9efb",
       "tooltip": null
      }
     },
     "049d67c644a44ae8b768b9bcabdcb9a2": {
      "model_module": "@jupyter-widgets/controls",
      "model_module_version": "2.0.0",
      "model_name": "HTMLModel",
      "state": {
       "layout": "IPY_MODEL_69c8f678da6549368116acfe3f689277",
       "style": "IPY_MODEL_a548cb346a0d43aa9a147b13596c882c",
       "value": "\n### Ability to use advanced search features\n\nmodify the statement in sql and cursor.execute based on what the desired filtrations are - in this case its related to identifying attrition mill materials\n"
      }
     },
     "05197f6c23ee4e659d678ab32ed97b9b": {
      "model_module": "@jupyter-widgets/controls",
      "model_module_version": "2.0.0",
      "model_name": "HTMLModel",
      "state": {
       "layout": "IPY_MODEL_d6bbb1f6d04c4767840af657c66a3a5f",
       "style": "IPY_MODEL_4f6262cce7cb48bd8df57adefd84807a",
       "value": "\n### Interactive Batch Data Viewer\n\nThis notebook allows you to select a material type and a batch ID to retrieve relevant batch information.\nSimply select the material type from the dropdown, enter the batch ID, and click the 'Fetch Data' button to view the details.\n"
      }
     },
     "05682292dc4d40ef8147c6b398e4791c": {
      "model_module": "@jupyter-widgets/base",
      "model_module_version": "2.0.0",
      "model_name": "LayoutModel",
      "state": {}
     },
     "08bfba507f5341d2a750c59c58f737fc": {
      "model_module": "@jupyter-widgets/output",
      "model_module_version": "1.0.0",
      "model_name": "OutputModel",
      "state": {
       "layout": "IPY_MODEL_4b5aba847f194b57b485b7b0db007e09"
      }
     },
     "0946f90ff2fe42a3ac75ee8878c0c4c0": {
      "model_module": "@jupyter-widgets/base",
      "model_module_version": "2.0.0",
      "model_name": "LayoutModel",
      "state": {}
     },
     "09b292da546849f58f9b792fddead339": {
      "model_module": "@jupyter-widgets/controls",
      "model_module_version": "2.0.0",
      "model_name": "DescriptionStyleModel",
      "state": {
       "description_width": ""
      }
     },
     "0a4c789dac5644b89308441fe7a11467": {
      "model_module": "@jupyter-widgets/controls",
      "model_module_version": "2.0.0",
      "model_name": "DescriptionStyleModel",
      "state": {
       "description_width": ""
      }
     },
     "0a76b4383c6c430289421adca314e192": {
      "model_module": "@jupyter-widgets/base",
      "model_module_version": "2.0.0",
      "model_name": "LayoutModel",
      "state": {}
     },
     "0b9bc54379a74e8dbc30e3b04328c9f7": {
      "model_module": "@jupyter-widgets/controls",
      "model_module_version": "2.0.0",
      "model_name": "ButtonStyleModel",
      "state": {
       "font_family": null,
       "font_size": null,
       "font_style": null,
       "font_variant": null,
       "font_weight": null,
       "text_color": null,
       "text_decoration": null
      }
     },
     "0c4845aab1684749bdbcc28a399bebf5": {
      "model_module": "@jupyter-widgets/base",
      "model_module_version": "2.0.0",
      "model_name": "LayoutModel",
      "state": {}
     },
     "0c84ceba8f624f29baa42358fbcc82ac": {
      "model_module": "@jupyter-widgets/controls",
      "model_module_version": "2.0.0",
      "model_name": "TextareaModel",
      "state": {
       "description": "Username:",
       "layout": "IPY_MODEL_7f2ab92a1a604cc1ba81d118d36e623e",
       "placeholder": "Username",
       "style": "IPY_MODEL_4cd00e5bb69d49ca8c849fcc2a754e54",
       "value": "UMIstaff"
      }
     },
     "0e25159ed3444658bf679e0324a2665c": {
      "model_module": "@jupyter-widgets/controls",
      "model_module_version": "2.0.0",
      "model_name": "HTMLModel",
      "state": {
       "layout": "IPY_MODEL_b33e4890c4624d3982104ec0c531c491",
       "style": "IPY_MODEL_995ca56ca0c44ff4bba80ac89019b1c2",
       "value": "\n### Ability to use advanced search features\n\nmodify the statement in sql and cursor.execute based on what the desired filtrations are - in this case its related to identifying attrition mill materials\n"
      }
     },
     "0ebb55634b41464280bc6cfd5936eabe": {
      "model_module": "@jupyter-widgets/controls",
      "model_module_version": "2.0.0",
      "model_name": "ButtonModel",
      "state": {
       "button_style": "info",
       "description": "Export to Excel",
       "layout": "IPY_MODEL_d3c87cc74a4d411f865ae4769e2acaff",
       "style": "IPY_MODEL_ad88e1ff7ba841b9982102565ec83a3b",
       "tooltip": null
      }
     },
     "0f0229bcc05e4f00859e44f0b81e7a40": {
      "model_module": "@jupyter-widgets/base",
      "model_module_version": "2.0.0",
      "model_name": "LayoutModel",
      "state": {}
     },
     "0f74a6274ba94a7497cbc1ffddf0f264": {
      "model_module": "@jupyter-widgets/base",
      "model_module_version": "2.0.0",
      "model_name": "LayoutModel",
      "state": {}
     },
     "11592b3f912e49b0ac100191eeef4a97": {
      "model_module": "@jupyter-widgets/base",
      "model_module_version": "2.0.0",
      "model_name": "LayoutModel",
      "state": {}
     },
     "11b65fd14a174cae8d51807ed2c1ce23": {
      "model_module": "@jupyter-widgets/controls",
      "model_module_version": "2.0.0",
      "model_name": "HTMLModel",
      "state": {
       "layout": "IPY_MODEL_7853fe39cb77414d9a8e83aeb5d02d6e",
       "style": "IPY_MODEL_360b036169a442cb999489d5eae37992",
       "value": "\n### Ability to use advanced search features\n\nmodify the statement in sql and cursor.execute based on what the desired filtrations are - in this case its related to identifying attrition mill materials\n"
      }
     },
     "1300cc27bf734877a0f9d86e11fcb0ac": {
      "model_module": "@jupyter-widgets/controls",
      "model_module_version": "2.0.0",
      "model_name": "ButtonModel",
      "state": {
       "button_style": "success",
       "description": "Fetch One",
       "layout": "IPY_MODEL_149d2c212f464109b45667f82862dfdc",
       "style": "IPY_MODEL_86f439f7ed5f44a68c0c4fb9201a0364",
       "tooltip": null
      }
     },
     "1314c612bb8e41b68cfb78cdcbe3384e": {
      "model_module": "@jupyter-widgets/base",
      "model_module_version": "2.0.0",
      "model_name": "LayoutModel",
      "state": {}
     },
     "14087cfde4e84c2fa21ed7be2f0081a8": {
      "model_module": "@jupyter-widgets/controls",
      "model_module_version": "2.0.0",
      "model_name": "TextStyleModel",
      "state": {
       "description_width": "",
       "font_size": null,
       "text_color": null
      }
     },
     "149d2c212f464109b45667f82862dfdc": {
      "model_module": "@jupyter-widgets/base",
      "model_module_version": "2.0.0",
      "model_name": "LayoutModel",
      "state": {}
     },
     "14d0f49c313947e0a7461b5e1ee2ef5f": {
      "model_module": "@jupyter-widgets/controls",
      "model_module_version": "2.0.0",
      "model_name": "ButtonStyleModel",
      "state": {
       "font_family": null,
       "font_size": null,
       "font_style": null,
       "font_variant": null,
       "font_weight": null,
       "text_color": null,
       "text_decoration": null
      }
     },
     "18102f363f6543e8a50d70d9397fa870": {
      "model_module": "@jupyter-widgets/base",
      "model_module_version": "2.0.0",
      "model_name": "LayoutModel",
      "state": {}
     },
     "18817bc6c93e44e39932cc8a4697807f": {
      "model_module": "@jupyter-widgets/base",
      "model_module_version": "2.0.0",
      "model_name": "LayoutModel",
      "state": {}
     },
     "18b192638892438bb248c8a7bd17eab6": {
      "model_module": "@jupyter-widgets/base",
      "model_module_version": "2.0.0",
      "model_name": "LayoutModel",
      "state": {}
     },
     "19da63bdafd64e608ebca7a26befe7a5": {
      "model_module": "@jupyter-widgets/controls",
      "model_module_version": "2.0.0",
      "model_name": "TextareaModel",
      "state": {
       "description": "Username:",
       "layout": "IPY_MODEL_83efe3c25f7e44dea7966a10feaa3fd3",
       "placeholder": "Username",
       "style": "IPY_MODEL_a60c5508cf2d484d9406511fd4863bac",
       "value": "UMIstaff"
      }
     },
     "19ef0ab4193f4301887ca1daac4ebabf": {
      "model_module": "@jupyter-widgets/controls",
      "model_module_version": "2.0.0",
      "model_name": "HTMLStyleModel",
      "state": {
       "description_width": "",
       "font_size": null,
       "text_color": null
      }
     },
     "1ade2525c093411d8ebb010de31e3683": {
      "model_module": "@jupyter-widgets/base",
      "model_module_version": "2.0.0",
      "model_name": "LayoutModel",
      "state": {}
     },
     "1be5acf8fbfd4631832a5a9b2861575e": {
      "model_module": "@jupyter-widgets/controls",
      "model_module_version": "2.0.0",
      "model_name": "TextStyleModel",
      "state": {
       "description_width": "",
       "font_size": null,
       "text_color": null
      }
     },
     "1bf0d44f76b44c9fab8fbac29e18421e": {
      "model_module": "@jupyter-widgets/controls",
      "model_module_version": "2.0.0",
      "model_name": "TextStyleModel",
      "state": {
       "description_width": "",
       "font_size": null,
       "text_color": null
      }
     },
     "1dcacf06d6e944c482f12590747f35b6": {
      "model_module": "@jupyter-widgets/base",
      "model_module_version": "2.0.0",
      "model_name": "LayoutModel",
      "state": {}
     },
     "1e69a198e0884e688f541626f8b80deb": {
      "model_module": "@jupyter-widgets/base",
      "model_module_version": "2.0.0",
      "model_name": "LayoutModel",
      "state": {}
     },
     "2078b30f4d7f44f497b849fea251af38": {
      "model_module": "@jupyter-widgets/controls",
      "model_module_version": "2.0.0",
      "model_name": "DropdownModel",
      "state": {
       "_options_labels": [
        "gp",
        "fp",
        "f",
        "d",
        "fv"
       ],
       "description": "Material Type:",
       "index": 0,
       "layout": "IPY_MODEL_bf68f41467fd48248e93e00bb8533639",
       "style": "IPY_MODEL_383db8b20d2d4f4b81921a3bf586e4bc"
      }
     },
     "2176945d877b4d90a06387870b9745c8": {
      "model_module": "@jupyter-widgets/controls",
      "model_module_version": "2.0.0",
      "model_name": "TextareaModel",
      "state": {
       "description": "Username:",
       "layout": "IPY_MODEL_3c99b67ef09a4c808e7d3783296737ea",
       "placeholder": "Username",
       "style": "IPY_MODEL_39428e524a2049b7960eb615d394b40f",
       "value": "UMIstaff"
      }
     },
     "218bb3fa05f14be9ab12f47d333bf403": {
      "model_module": "@jupyter-widgets/base",
      "model_module_version": "2.0.0",
      "model_name": "LayoutModel",
      "state": {}
     },
     "229fa17e04c2418b955dbb559f6c2cb8": {
      "model_module": "@jupyter-widgets/controls",
      "model_module_version": "2.0.0",
      "model_name": "TextStyleModel",
      "state": {
       "description_width": "",
       "font_size": null,
       "text_color": null
      }
     },
     "23cb146fc3494e9891878965460be098": {
      "model_module": "@jupyter-widgets/controls",
      "model_module_version": "2.0.0",
      "model_name": "TextStyleModel",
      "state": {
       "description_width": "",
       "font_size": null,
       "text_color": null
      }
     },
     "25576fb67a584599a50a5bfb3a05289a": {
      "model_module": "@jupyter-widgets/controls",
      "model_module_version": "2.0.0",
      "model_name": "ButtonModel",
      "state": {
       "button_style": "success",
       "description": "Fetch Tree",
       "layout": "IPY_MODEL_0f0229bcc05e4f00859e44f0b81e7a40",
       "style": "IPY_MODEL_96922abe5cc34d8ea4e7cd01048655b5",
       "tooltip": null
      }
     },
     "26675ac341304074b9adb9e9c4706a31": {
      "model_module": "@jupyter-widgets/controls",
      "model_module_version": "2.0.0",
      "model_name": "ButtonStyleModel",
      "state": {
       "font_family": null,
       "font_size": null,
       "font_style": null,
       "font_variant": null,
       "font_weight": null,
       "text_color": null,
       "text_decoration": null
      }
     },
     "27cb74c4ea0a41748722a67870452dce": {
      "model_module": "@jupyter-widgets/base",
      "model_module_version": "2.0.0",
      "model_name": "LayoutModel",
      "state": {}
     },
     "28bbda3640cf4befa6c442fcf735d0bb": {
      "model_module": "@jupyter-widgets/controls",
      "model_module_version": "2.0.0",
      "model_name": "ButtonStyleModel",
      "state": {
       "font_family": null,
       "font_size": null,
       "font_style": null,
       "font_variant": null,
       "font_weight": null,
       "text_color": null,
       "text_decoration": null
      }
     },
     "29868ef082f04377ae1b2ac4411d9efb": {
      "model_module": "@jupyter-widgets/controls",
      "model_module_version": "2.0.0",
      "model_name": "ButtonStyleModel",
      "state": {
       "font_family": null,
       "font_size": null,
       "font_style": null,
       "font_variant": null,
       "font_weight": null,
       "text_color": null,
       "text_decoration": null
      }
     },
     "2a7b1e99f7774d11b9ea3efacab29c3b": {
      "model_module": "@jupyter-widgets/controls",
      "model_module_version": "2.0.0",
      "model_name": "TextareaModel",
      "state": {
       "description": "Password:",
       "layout": "IPY_MODEL_aa8ac55b62e5474887d66e495a22582d",
       "placeholder": "Password",
       "style": "IPY_MODEL_874ca2b8261c4668a8103b8dfc24b119",
       "value": "'GrapheneIsEverything!1'"
      }
     },
     "2bfc22b0d74e4eebaa357dd7c8b073b4": {
      "model_module": "@jupyter-widgets/base",
      "model_module_version": "2.0.0",
      "model_name": "LayoutModel",
      "state": {}
     },
     "305cfa1f17b946b4a76144843b18cd74": {
      "model_module": "@jupyter-widgets/controls",
      "model_module_version": "2.0.0",
      "model_name": "TextStyleModel",
      "state": {
       "description_width": "",
       "font_size": null,
       "text_color": null
      }
     },
     "307c909ec7db4857b771e363a6a426e3": {
      "model_module": "@jupyter-widgets/controls",
      "model_module_version": "2.0.0",
      "model_name": "HTMLStyleModel",
      "state": {
       "description_width": "",
       "font_size": null,
       "text_color": null
      }
     },
     "315afd76501b4005b36785ad6eb8ff88": {
      "model_module": "@jupyter-widgets/controls",
      "model_module_version": "2.0.0",
      "model_name": "ButtonModel",
      "state": {
       "button_style": "success",
       "description": "Fetch Tree",
       "layout": "IPY_MODEL_0f74a6274ba94a7497cbc1ffddf0f264",
       "style": "IPY_MODEL_6f174889088a4b719f6f1065449d51b8",
       "tooltip": null
      }
     },
     "3171f274f9d4451992baaaf7e701aae8": {
      "model_module": "@jupyter-widgets/controls",
      "model_module_version": "2.0.0",
      "model_name": "HTMLModel",
      "state": {
       "layout": "IPY_MODEL_99e7d6e20b58477f9123de70a25286e0",
       "style": "IPY_MODEL_d0da8ae505f1470887abf23d7ec8daad",
       "value": "\n### Ability to use advanced search features\n\nmodify the statement in sql and cursor.execute based on what the desired filtrations are - in this case its related to identifying attrition mill materials\n"
      }
     },
     "3384966238494411b4d21ff7bcf0e5a6": {
      "model_module": "@jupyter-widgets/controls",
      "model_module_version": "2.0.0",
      "model_name": "ButtonStyleModel",
      "state": {
       "font_family": null,
       "font_size": null,
       "font_style": null,
       "font_variant": null,
       "font_weight": null,
       "text_color": null,
       "text_decoration": null
      }
     },
     "348ea75238384fe28b8218eea06558f4": {
      "model_module": "@jupyter-widgets/controls",
      "model_module_version": "2.0.0",
      "model_name": "TextStyleModel",
      "state": {
       "description_width": "",
       "font_size": null,
       "text_color": null
      }
     },
     "360b036169a442cb999489d5eae37992": {
      "model_module": "@jupyter-widgets/controls",
      "model_module_version": "2.0.0",
      "model_name": "HTMLStyleModel",
      "state": {
       "description_width": "",
       "font_size": null,
       "text_color": null
      }
     },
     "360da68576e34b7a942fbdb3ce483452": {
      "model_module": "@jupyter-widgets/base",
      "model_module_version": "2.0.0",
      "model_name": "LayoutModel",
      "state": {}
     },
     "36ef2e39f75a41a8b76bf60e845adfff": {
      "model_module": "@jupyter-widgets/controls",
      "model_module_version": "2.0.0",
      "model_name": "HTMLStyleModel",
      "state": {
       "description_width": "",
       "font_size": null,
       "text_color": null
      }
     },
     "37205658721549c2a47e637cccca6864": {
      "model_module": "@jupyter-widgets/controls",
      "model_module_version": "2.0.0",
      "model_name": "TextareaModel",
      "state": {
       "description": "Username:",
       "layout": "IPY_MODEL_3b85a0bdf1344c298c5cb634c4087c2e",
       "placeholder": "Username",
       "style": "IPY_MODEL_51354dfe475a412db1ec1b4ff8d088ee"
      }
     },
     "383db8b20d2d4f4b81921a3bf586e4bc": {
      "model_module": "@jupyter-widgets/controls",
      "model_module_version": "2.0.0",
      "model_name": "DescriptionStyleModel",
      "state": {
       "description_width": ""
      }
     },
     "39428e524a2049b7960eb615d394b40f": {
      "model_module": "@jupyter-widgets/controls",
      "model_module_version": "2.0.0",
      "model_name": "TextStyleModel",
      "state": {
       "description_width": "",
       "font_size": null,
       "text_color": null
      }
     },
     "39e04a8b176c4742a9a1220444725ea3": {
      "model_module": "@jupyter-widgets/base",
      "model_module_version": "2.0.0",
      "model_name": "LayoutModel",
      "state": {}
     },
     "3ac2aced50464113a77ab7c089b0ac4b": {
      "model_module": "@jupyter-widgets/controls",
      "model_module_version": "2.0.0",
      "model_name": "DescriptionStyleModel",
      "state": {
       "description_width": ""
      }
     },
     "3b85a0bdf1344c298c5cb634c4087c2e": {
      "model_module": "@jupyter-widgets/base",
      "model_module_version": "2.0.0",
      "model_name": "LayoutModel",
      "state": {}
     },
     "3c1689ecba7b4660be5f9843e7558098": {
      "model_module": "@jupyter-widgets/controls",
      "model_module_version": "2.0.0",
      "model_name": "ButtonStyleModel",
      "state": {
       "font_family": null,
       "font_size": null,
       "font_style": null,
       "font_variant": null,
       "font_weight": null,
       "text_color": null,
       "text_decoration": null
      }
     },
     "3c37efbf193449929a2313d38ae3f8ef": {
      "model_module": "@jupyter-widgets/controls",
      "model_module_version": "2.0.0",
      "model_name": "TextStyleModel",
      "state": {
       "description_width": "",
       "font_size": null,
       "text_color": null
      }
     },
     "3c99b67ef09a4c808e7d3783296737ea": {
      "model_module": "@jupyter-widgets/base",
      "model_module_version": "2.0.0",
      "model_name": "LayoutModel",
      "state": {}
     },
     "3d901860ab324bbd8a1e60374bf0d721": {
      "model_module": "@jupyter-widgets/controls",
      "model_module_version": "2.0.0",
      "model_name": "HTMLStyleModel",
      "state": {
       "description_width": "",
       "font_size": null,
       "text_color": null
      }
     },
     "3f750a289c5b4f709277f5ab82494c41": {
      "model_module": "@jupyter-widgets/base",
      "model_module_version": "2.0.0",
      "model_name": "LayoutModel",
      "state": {}
     },
     "40cf17d169a54177a09d28e5d457033e": {
      "model_module": "@jupyter-widgets/controls",
      "model_module_version": "2.0.0",
      "model_name": "ButtonStyleModel",
      "state": {
       "font_family": null,
       "font_size": null,
       "font_style": null,
       "font_variant": null,
       "font_weight": null,
       "text_color": null,
       "text_decoration": null
      }
     },
     "41692b018bf841e3947353d85e62485e": {
      "model_module": "@jupyter-widgets/controls",
      "model_module_version": "2.0.0",
      "model_name": "HTMLModel",
      "state": {
       "layout": "IPY_MODEL_83255519358a46568c302dd916d36a1d",
       "style": "IPY_MODEL_aabdcdac99ae4096aa19c5cb8d43e662",
       "value": "\n### Ability to use advanced search features\n\nmodify the statement in sql and cursor.execute based on what the desired filtrations are - in this case its related to identifying attrition mill materials\n"
      }
     },
     "41ad2dff236846099b615f0a627c31b2": {
      "model_module": "@jupyter-widgets/controls",
      "model_module_version": "2.0.0",
      "model_name": "TextareaModel",
      "state": {
       "description": "Batch IDs:",
       "layout": "IPY_MODEL_868636bd590148d4b6126f0de47ef757",
       "placeholder": "Input multiple batches separated by a comma",
       "style": "IPY_MODEL_23cb146fc3494e9891878965460be098"
      }
     },
     "447126b90fb849fcba3b8837c516382d": {
      "model_module": "@jupyter-widgets/controls",
      "model_module_version": "2.0.0",
      "model_name": "DropdownModel",
      "state": {
       "_options_labels": [
        "gp",
        "fp",
        "f",
        "d",
        "fv"
       ],
       "description": "Material Type:",
       "index": 0,
       "layout": "IPY_MODEL_d06c8bf838b94feebb067021abf40b7c",
       "style": "IPY_MODEL_3ac2aced50464113a77ab7c089b0ac4b"
      }
     },
     "450f8a085a804b2ea49d9a8a91069096": {
      "model_module": "@jupyter-widgets/controls",
      "model_module_version": "2.0.0",
      "model_name": "TextareaModel",
      "state": {
       "description": "Username:",
       "layout": "IPY_MODEL_9c3e72ba83164a278b0a1a455f879b38",
       "placeholder": "Username",
       "style": "IPY_MODEL_dc380a5904c24f4f9843ecc2c8ff0d66"
      }
     },
     "455818de87a249af92855602adb49547": {
      "model_module": "@jupyter-widgets/base",
      "model_module_version": "2.0.0",
      "model_name": "LayoutModel",
      "state": {}
     },
     "455f72528ae44c36a1ce150609bb48c1": {
      "model_module": "@jupyter-widgets/controls",
      "model_module_version": "2.0.0",
      "model_name": "ButtonStyleModel",
      "state": {
       "font_family": null,
       "font_size": null,
       "font_style": null,
       "font_variant": null,
       "font_weight": null,
       "text_color": null,
       "text_decoration": null
      }
     },
     "4572fdfb757e422f955db635bc8e0449": {
      "model_module": "@jupyter-widgets/controls",
      "model_module_version": "2.0.0",
      "model_name": "TextareaModel",
      "state": {
       "description": "Batch IDs:",
       "layout": "IPY_MODEL_a0882ff1961c4e6da6dcb3b077e0ff40",
       "placeholder": "Input multiple batches separated by a comma",
       "style": "IPY_MODEL_9ff9553f0c6e46a0b59d3d18dec44fc2"
      }
     },
     "45a5d7d42c014b3ca4660cd755cf3d81": {
      "model_module": "@jupyter-widgets/base",
      "model_module_version": "2.0.0",
      "model_name": "LayoutModel",
      "state": {}
     },
     "45f98fe2245045ab824faa110f26d470": {
      "model_module": "@jupyter-widgets/base",
      "model_module_version": "2.0.0",
      "model_name": "LayoutModel",
      "state": {}
     },
     "46129aac3a6c4788826aa09d6f454477": {
      "model_module": "@jupyter-widgets/controls",
      "model_module_version": "2.0.0",
      "model_name": "TextStyleModel",
      "state": {
       "description_width": "",
       "font_size": null,
       "text_color": null
      }
     },
     "4a05acb5e5a643db9e1b5d73637507a3": {
      "model_module": "@jupyter-widgets/controls",
      "model_module_version": "2.0.0",
      "model_name": "ButtonStyleModel",
      "state": {
       "font_family": null,
       "font_size": null,
       "font_style": null,
       "font_variant": null,
       "font_weight": null,
       "text_color": null,
       "text_decoration": null
      }
     },
     "4a285a11a4274ccc9607aba71172d674": {
      "model_module": "@jupyter-widgets/controls",
      "model_module_version": "2.0.0",
      "model_name": "TextStyleModel",
      "state": {
       "description_width": "",
       "font_size": null,
       "text_color": null
      }
     },
     "4aa95dc8b56d4a7ca7ec5426585e2157": {
      "model_module": "@jupyter-widgets/base",
      "model_module_version": "2.0.0",
      "model_name": "LayoutModel",
      "state": {}
     },
     "4b5aba847f194b57b485b7b0db007e09": {
      "model_module": "@jupyter-widgets/base",
      "model_module_version": "2.0.0",
      "model_name": "LayoutModel",
      "state": {}
     },
     "4b8fc439b06b40b5ae8a18de90fa5f43": {
      "model_module": "@jupyter-widgets/controls",
      "model_module_version": "2.0.0",
      "model_name": "TextareaModel",
      "state": {
       "description": "Password:",
       "layout": "IPY_MODEL_360da68576e34b7a942fbdb3ce483452",
       "placeholder": "Password",
       "style": "IPY_MODEL_fccbe38d32e54366a0df1c1fec7982b2"
      }
     },
     "4cd00e5bb69d49ca8c849fcc2a754e54": {
      "model_module": "@jupyter-widgets/controls",
      "model_module_version": "2.0.0",
      "model_name": "TextStyleModel",
      "state": {
       "description_width": "",
       "font_size": null,
       "text_color": null
      }
     },
     "4d43a2b44f5b4b06b953336527c5c1cf": {
      "model_module": "@jupyter-widgets/controls",
      "model_module_version": "2.0.0",
      "model_name": "ButtonStyleModel",
      "state": {
       "font_family": null,
       "font_size": null,
       "font_style": null,
       "font_variant": null,
       "font_weight": null,
       "text_color": null,
       "text_decoration": null
      }
     },
     "4d682935bbbe44da8a0aea2c06b47f74": {
      "model_module": "@jupyter-widgets/controls",
      "model_module_version": "2.0.0",
      "model_name": "IntTextModel",
      "state": {
       "description": "Batch ID:",
       "layout": "IPY_MODEL_aa6046dd286a4826ac848ba725ba0989",
       "step": 1,
       "style": "IPY_MODEL_6f7c05d11c3c4e20ab6289631a753cf7",
       "value": 1
      }
     },
     "4e988ab0c1464af2ba885f05fec82390": {
      "model_module": "@jupyter-widgets/controls",
      "model_module_version": "2.0.0",
      "model_name": "TextStyleModel",
      "state": {
       "description_width": "",
       "font_size": null,
       "text_color": null
      }
     },
     "4f6262cce7cb48bd8df57adefd84807a": {
      "model_module": "@jupyter-widgets/controls",
      "model_module_version": "2.0.0",
      "model_name": "HTMLStyleModel",
      "state": {
       "description_width": "",
       "font_size": null,
       "text_color": null
      }
     },
     "5064e6ef3c544f55a18701f968582fa0": {
      "model_module": "@jupyter-widgets/base",
      "model_module_version": "2.0.0",
      "model_name": "LayoutModel",
      "state": {}
     },
     "50f2d352faf84b759097e6e7a5df2206": {
      "model_module": "@jupyter-widgets/controls",
      "model_module_version": "2.0.0",
      "model_name": "TextareaModel",
      "state": {
       "description": "Password:",
       "layout": "IPY_MODEL_b61373db53834ce8bba7c345f706db81",
       "placeholder": "Password",
       "style": "IPY_MODEL_d37ba93083284a098ee9038512c9437c",
       "value": "GrapheneIsEverything!1"
      }
     },
     "5115d64a376b4b358fdaaf46dca74ce5": {
      "model_module": "@jupyter-widgets/controls",
      "model_module_version": "2.0.0",
      "model_name": "TextareaModel",
      "state": {
       "description": "Password:",
       "layout": "IPY_MODEL_ed986fc0382d42c4a9de25942e787539",
       "placeholder": "Password",
       "style": "IPY_MODEL_14087cfde4e84c2fa21ed7be2f0081a8"
      }
     },
     "51354dfe475a412db1ec1b4ff8d088ee": {
      "model_module": "@jupyter-widgets/controls",
      "model_module_version": "2.0.0",
      "model_name": "TextStyleModel",
      "state": {
       "description_width": "",
       "font_size": null,
       "text_color": null
      }
     },
     "516f5ceeb6184d0aacfebd446b21ecfd": {
      "model_module": "@jupyter-widgets/controls",
      "model_module_version": "2.0.0",
      "model_name": "ButtonModel",
      "state": {
       "button_style": "success",
       "description": "Fetch Tree",
       "layout": "IPY_MODEL_71258b77186a4cab91c8198b7cc2329b",
       "style": "IPY_MODEL_8f7f03513a2844989a18993cba5f30b2",
       "tooltip": null
      }
     },
     "53fee02186ed4f2296496ad2621fc119": {
      "model_module": "@jupyter-widgets/controls",
      "model_module_version": "2.0.0",
      "model_name": "ButtonModel",
      "state": {
       "button_style": "success",
       "description": "Fetch Tree",
       "layout": "IPY_MODEL_542fb40341ed40d58d982349ea10a255",
       "style": "IPY_MODEL_b622af8684b44427b54e5a9f5970ba10",
       "tooltip": null
      }
     },
     "542fb40341ed40d58d982349ea10a255": {
      "model_module": "@jupyter-widgets/base",
      "model_module_version": "2.0.0",
      "model_name": "LayoutModel",
      "state": {}
     },
     "55006ed897ee4752a290902f7b368962": {
      "model_module": "@jupyter-widgets/controls",
      "model_module_version": "2.0.0",
      "model_name": "ButtonStyleModel",
      "state": {
       "font_family": null,
       "font_size": null,
       "font_style": null,
       "font_variant": null,
       "font_weight": null,
       "text_color": null,
       "text_decoration": null
      }
     },
     "566ea8284a1f4c1399bdd43e8bc9aaa5": {
      "model_module": "@jupyter-widgets/controls",
      "model_module_version": "2.0.0",
      "model_name": "TextStyleModel",
      "state": {
       "description_width": "",
       "font_size": null,
       "text_color": null
      }
     },
     "57003442c2214c659e369237cbabd6d7": {
      "model_module": "@jupyter-widgets/controls",
      "model_module_version": "2.0.0",
      "model_name": "TextStyleModel",
      "state": {
       "description_width": "",
       "font_size": null,
       "text_color": null
      }
     },
     "57ef2b7b430f467590a6d34acd4efe45": {
      "model_module": "@jupyter-widgets/controls",
      "model_module_version": "2.0.0",
      "model_name": "TextareaModel",
      "state": {
       "description": "Username:",
       "layout": "IPY_MODEL_8bc2e89daa9242619a6b577117cfdf40",
       "placeholder": "Username",
       "style": "IPY_MODEL_7998677305994857903bd3aaeeec2e37"
      }
     },
     "586164c66bb6487184ca8c5ff48d99ff": {
      "model_module": "@jupyter-widgets/base",
      "model_module_version": "2.0.0",
      "model_name": "LayoutModel",
      "state": {}
     },
     "5a1e2d3a24a6430594f12559a4281bf1": {
      "model_module": "@jupyter-widgets/controls",
      "model_module_version": "2.0.0",
      "model_name": "TextareaModel",
      "state": {
       "description": "Username:",
       "layout": "IPY_MODEL_63af20f98ca94f908c5fbae1a061bbc7",
       "placeholder": "Username",
       "style": "IPY_MODEL_1be5acf8fbfd4631832a5a9b2861575e"
      }
     },
     "5ca6d5fe0f5a4a68b1ae14ffe07d372e": {
      "model_module": "@jupyter-widgets/controls",
      "model_module_version": "2.0.0",
      "model_name": "ButtonStyleModel",
      "state": {
       "font_family": null,
       "font_size": null,
       "font_style": null,
       "font_variant": null,
       "font_weight": null,
       "text_color": null,
       "text_decoration": null
      }
     },
     "5ef9f04b8fb3413c837d0c11df33df0d": {
      "model_module": "@jupyter-widgets/base",
      "model_module_version": "2.0.0",
      "model_name": "LayoutModel",
      "state": {}
     },
     "5efb8c6bafd14854b5b50e56281e1d53": {
      "model_module": "@jupyter-widgets/controls",
      "model_module_version": "2.0.0",
      "model_name": "TextareaModel",
      "state": {
       "description": "Username:",
       "layout": "IPY_MODEL_cf317c016bf04a43bceee566d43b8fd2",
       "placeholder": "Username",
       "style": "IPY_MODEL_811ad7b940674aac8f929906a54f8613",
       "value": "UMIstaff"
      }
     },
     "60b95ac77abb4fa3ab82de58ebce874d": {
      "model_module": "@jupyter-widgets/controls",
      "model_module_version": "2.0.0",
      "model_name": "DropdownModel",
      "state": {
       "_options_labels": [
        "gp",
        "fp",
        "f",
        "d",
        "fv"
       ],
       "description": "Material Type:",
       "index": 0,
       "layout": "IPY_MODEL_218bb3fa05f14be9ab12f47d333bf403",
       "style": "IPY_MODEL_0a4c789dac5644b89308441fe7a11467"
      }
     },
     "63683097fe3c4f40849ce5c58b990b09": {
      "model_module": "@jupyter-widgets/controls",
      "model_module_version": "2.0.0",
      "model_name": "TextareaModel",
      "state": {
       "description": "Username:",
       "layout": "IPY_MODEL_bea3a5e39b214a0984f35e4681a8f0a0",
       "placeholder": "Username",
       "style": "IPY_MODEL_229fa17e04c2418b955dbb559f6c2cb8"
      }
     },
     "6381e87fb18b4b109e3f64b210b5e227": {
      "model_module": "@jupyter-widgets/controls",
      "model_module_version": "2.0.0",
      "model_name": "ButtonStyleModel",
      "state": {
       "font_family": null,
       "font_size": null,
       "font_style": null,
       "font_variant": null,
       "font_weight": null,
       "text_color": null,
       "text_decoration": null
      }
     },
     "63af20f98ca94f908c5fbae1a061bbc7": {
      "model_module": "@jupyter-widgets/base",
      "model_module_version": "2.0.0",
      "model_name": "LayoutModel",
      "state": {}
     },
     "641384ed914e4d808542aadbed4822eb": {
      "model_module": "@jupyter-widgets/controls",
      "model_module_version": "2.0.0",
      "model_name": "ButtonStyleModel",
      "state": {
       "font_family": null,
       "font_size": null,
       "font_style": null,
       "font_variant": null,
       "font_weight": null,
       "text_color": null,
       "text_decoration": null
      }
     },
     "641b5b6f997f4639a3bff451dc44492c": {
      "model_module": "@jupyter-widgets/base",
      "model_module_version": "2.0.0",
      "model_name": "LayoutModel",
      "state": {}
     },
     "664c7db2e40f493a98f432a5f0521a87": {
      "model_module": "@jupyter-widgets/controls",
      "model_module_version": "2.0.0",
      "model_name": "ButtonModel",
      "state": {
       "button_style": "success",
       "description": "Fetch Tree",
       "layout": "IPY_MODEL_5064e6ef3c544f55a18701f968582fa0",
       "style": "IPY_MODEL_40cf17d169a54177a09d28e5d457033e",
       "tooltip": null
      }
     },
     "66eeb1bc6de843a090c764348197fb61": {
      "model_module": "@jupyter-widgets/base",
      "model_module_version": "2.0.0",
      "model_name": "LayoutModel",
      "state": {}
     },
     "67f47ba9023e4a7aad66011f7311aaf2": {
      "model_module": "@jupyter-widgets/controls",
      "model_module_version": "2.0.0",
      "model_name": "ButtonModel",
      "state": {
       "button_style": "success",
       "description": "Fetch Tree",
       "layout": "IPY_MODEL_45a5d7d42c014b3ca4660cd755cf3d81",
       "style": "IPY_MODEL_55006ed897ee4752a290902f7b368962",
       "tooltip": null
      }
     },
     "6807fa782ef3493ea8fc8ed08c83f625": {
      "model_module": "@jupyter-widgets/base",
      "model_module_version": "2.0.0",
      "model_name": "LayoutModel",
      "state": {}
     },
     "6908ca29c8c546e4bab044ef8a6da795": {
      "model_module": "@jupyter-widgets/controls",
      "model_module_version": "2.0.0",
      "model_name": "ButtonStyleModel",
      "state": {
       "font_family": null,
       "font_size": null,
       "font_style": null,
       "font_variant": null,
       "font_weight": null,
       "text_color": null,
       "text_decoration": null
      }
     },
     "6969910c96664c8fb3852830e1747233": {
      "model_module": "@jupyter-widgets/controls",
      "model_module_version": "2.0.0",
      "model_name": "TextareaModel",
      "state": {
       "description": "Username:",
       "layout": "IPY_MODEL_66eeb1bc6de843a090c764348197fb61",
       "placeholder": "Username",
       "style": "IPY_MODEL_7da38f6599eb425793c47c70fc4b6da0",
       "value": "UMIstaff"
      }
     },
     "69c8f678da6549368116acfe3f689277": {
      "model_module": "@jupyter-widgets/base",
      "model_module_version": "2.0.0",
      "model_name": "LayoutModel",
      "state": {}
     },
     "6c7ffb95a8cb437c9ce6278ea1109113": {
      "model_module": "@jupyter-widgets/controls",
      "model_module_version": "2.0.0",
      "model_name": "HTMLModel",
      "state": {
       "layout": "IPY_MODEL_18b192638892438bb248c8a7bd17eab6",
       "style": "IPY_MODEL_307c909ec7db4857b771e363a6a426e3",
       "value": "\n### Ability to use advanced search features\n\nmodify the statement in sql and cursor.execute based on what the desired filtrations are - in this case its related to identifying attrition mill materials\n"
      }
     },
     "6f174889088a4b719f6f1065449d51b8": {
      "model_module": "@jupyter-widgets/controls",
      "model_module_version": "2.0.0",
      "model_name": "ButtonStyleModel",
      "state": {
       "font_family": null,
       "font_size": null,
       "font_style": null,
       "font_variant": null,
       "font_weight": null,
       "text_color": null,
       "text_decoration": null
      }
     },
     "6f7c05d11c3c4e20ab6289631a753cf7": {
      "model_module": "@jupyter-widgets/controls",
      "model_module_version": "2.0.0",
      "model_name": "DescriptionStyleModel",
      "state": {
       "description_width": ""
      }
     },
     "6fa3842c184e4733af728a15cccfdc6e": {
      "model_module": "@jupyter-widgets/controls",
      "model_module_version": "2.0.0",
      "model_name": "TextareaModel",
      "state": {
       "description": "Username:",
       "layout": "IPY_MODEL_0946f90ff2fe42a3ac75ee8878c0c4c0",
       "placeholder": "Username",
       "style": "IPY_MODEL_f593ffb3105f47d69eb3dd733d0dda16"
      }
     },
     "6febccf470114a118340862cc721e72c": {
      "model_module": "@jupyter-widgets/controls",
      "model_module_version": "2.0.0",
      "model_name": "ButtonModel",
      "state": {
       "button_style": "info",
       "description": "Export to Excel",
       "layout": "IPY_MODEL_90648f6344c24b1589bce3703a36b246",
       "style": "IPY_MODEL_87347cd99a284c909be55e14337b1f5d",
       "tooltip": null
      }
     },
     "70d7f78877ab4eeaa24e23f972a15686": {
      "model_module": "@jupyter-widgets/controls",
      "model_module_version": "2.0.0",
      "model_name": "TextStyleModel",
      "state": {
       "description_width": "",
       "font_size": null,
       "text_color": null
      }
     },
     "71258b77186a4cab91c8198b7cc2329b": {
      "model_module": "@jupyter-widgets/base",
      "model_module_version": "2.0.0",
      "model_name": "LayoutModel",
      "state": {}
     },
     "72122ac30ca04a62a3bac30086d890ec": {
      "model_module": "@jupyter-widgets/controls",
      "model_module_version": "2.0.0",
      "model_name": "ButtonModel",
      "state": {
       "button_style": "success",
       "description": "Fetch Tree",
       "layout": "IPY_MODEL_dd42f05cf8204d1db43682df42d3adc0",
       "style": "IPY_MODEL_b81a1aecef23493a833992971a8be046",
       "tooltip": null
      }
     },
     "72a8066b7a224df291cde0fdf80c5918": {
      "model_module": "@jupyter-widgets/base",
      "model_module_version": "2.0.0",
      "model_name": "LayoutModel",
      "state": {}
     },
     "7402af57b7ce42caa92d7a314e9c2479": {
      "model_module": "@jupyter-widgets/controls",
      "model_module_version": "2.0.0",
      "model_name": "ButtonStyleModel",
      "state": {
       "font_family": null,
       "font_size": null,
       "font_style": null,
       "font_variant": null,
       "font_weight": null,
       "text_color": null,
       "text_decoration": null
      }
     },
     "74a978153c044ce1b0513cd4251f95ca": {
      "model_module": "@jupyter-widgets/controls",
      "model_module_version": "2.0.0",
      "model_name": "IntTextModel",
      "state": {
       "description": "Batch ID:",
       "layout": "IPY_MODEL_ec8dcbd02d414e50aa82b0722496c6b3",
       "step": 1,
       "style": "IPY_MODEL_9620426b2c244e6ab03225297919f5f4",
       "value": 1
      }
     },
     "752281775cda43c4bae70881760ee6c7": {
      "model_module": "@jupyter-widgets/controls",
      "model_module_version": "2.0.0",
      "model_name": "ButtonStyleModel",
      "state": {
       "font_family": null,
       "font_size": null,
       "font_style": null,
       "font_variant": null,
       "font_weight": null,
       "text_color": null,
       "text_decoration": null
      }
     },
     "7627d1bd640a4621851a39bbfbb4f91d": {
      "model_module": "@jupyter-widgets/controls",
      "model_module_version": "2.0.0",
      "model_name": "ButtonModel",
      "state": {
       "button_style": "info",
       "description": "Export to Excel",
       "layout": "IPY_MODEL_2bfc22b0d74e4eebaa357dd7c8b073b4",
       "style": "IPY_MODEL_6381e87fb18b4b109e3f64b210b5e227",
       "tooltip": null
      }
     },
     "768bf3290b9d4e678600e2621bc66664": {
      "model_module": "@jupyter-widgets/controls",
      "model_module_version": "2.0.0",
      "model_name": "HTMLModel",
      "state": {
       "layout": "IPY_MODEL_5ef9f04b8fb3413c837d0c11df33df0d",
       "style": "IPY_MODEL_19ef0ab4193f4301887ca1daac4ebabf",
       "value": "\n### Interactive Batch Data Viewer\n\nThis notebook allows you to select a material type and a batch ID to retrieve relevant batch information.\nSimply select the material type from the dropdown, enter the batch ID, and click the 'Fetch Data' button to view the details.\n"
      }
     },
     "7736317a469c4a8782a90a7a9ae30638": {
      "model_module": "@jupyter-widgets/controls",
      "model_module_version": "2.0.0",
      "model_name": "TextStyleModel",
      "state": {
       "description_width": "",
       "font_size": null,
       "text_color": null
      }
     },
     "7853fe39cb77414d9a8e83aeb5d02d6e": {
      "model_module": "@jupyter-widgets/base",
      "model_module_version": "2.0.0",
      "model_name": "LayoutModel",
      "state": {}
     },
     "7998677305994857903bd3aaeeec2e37": {
      "model_module": "@jupyter-widgets/controls",
      "model_module_version": "2.0.0",
      "model_name": "TextStyleModel",
      "state": {
       "description_width": "",
       "font_size": null,
       "text_color": null
      }
     },
     "79dfc3c862dd4ae5b035a420a3cc86ab": {
      "model_module": "@jupyter-widgets/controls",
      "model_module_version": "2.0.0",
      "model_name": "ButtonModel",
      "state": {
       "button_style": "warning",
       "description": "Fetch Multiple",
       "layout": "IPY_MODEL_641b5b6f997f4639a3bff451dc44492c",
       "style": "IPY_MODEL_0b9bc54379a74e8dbc30e3b04328c9f7",
       "tooltip": null
      }
     },
     "79eea1ff8375443bb439a267a08814b9": {
      "model_module": "@jupyter-widgets/base",
      "model_module_version": "2.0.0",
      "model_name": "LayoutModel",
      "state": {}
     },
     "7a20b255fbd447cab696472ffe8acd16": {
      "model_module": "@jupyter-widgets/base",
      "model_module_version": "2.0.0",
      "model_name": "LayoutModel",
      "state": {}
     },
     "7b308fe1389c455db03193b9b24814d6": {
      "model_module": "@jupyter-widgets/output",
      "model_module_version": "1.0.0",
      "model_name": "OutputModel",
      "state": {
       "layout": "IPY_MODEL_455818de87a249af92855602adb49547"
      }
     },
     "7d90a3687eba41f4a1022751bf71588a": {
      "model_module": "@jupyter-widgets/controls",
      "model_module_version": "2.0.0",
      "model_name": "ButtonModel",
      "state": {
       "button_style": "success",
       "description": "Fetch Tree",
       "layout": "IPY_MODEL_85c77b59955148a180bb009570573bd6",
       "style": "IPY_MODEL_6908ca29c8c546e4bab044ef8a6da795",
       "tooltip": null
      }
     },
     "7da38f6599eb425793c47c70fc4b6da0": {
      "model_module": "@jupyter-widgets/controls",
      "model_module_version": "2.0.0",
      "model_name": "TextStyleModel",
      "state": {
       "description_width": "",
       "font_size": null,
       "text_color": null
      }
     },
     "7db714e0313741169fbef9d0185bf5da": {
      "model_module": "@jupyter-widgets/base",
      "model_module_version": "2.0.0",
      "model_name": "LayoutModel",
      "state": {}
     },
     "7f2ab92a1a604cc1ba81d118d36e623e": {
      "model_module": "@jupyter-widgets/base",
      "model_module_version": "2.0.0",
      "model_name": "LayoutModel",
      "state": {}
     },
     "7f7019fa86ab4c6f92b83491b3578204": {
      "model_module": "@jupyter-widgets/controls",
      "model_module_version": "2.0.0",
      "model_name": "ButtonModel",
      "state": {
       "button_style": "success",
       "description": "Fetch Tree",
       "layout": "IPY_MODEL_39e04a8b176c4742a9a1220444725ea3",
       "style": "IPY_MODEL_26675ac341304074b9adb9e9c4706a31",
       "tooltip": null
      }
     },
     "7feb62ad6fe74d05a2e7434852b0a23e": {
      "model_module": "@jupyter-widgets/controls",
      "model_module_version": "2.0.0",
      "model_name": "TextareaModel",
      "state": {
       "description": "Username:",
       "layout": "IPY_MODEL_6807fa782ef3493ea8fc8ed08c83f625",
       "placeholder": "Username",
       "style": "IPY_MODEL_305cfa1f17b946b4a76144843b18cd74"
      }
     },
     "811ad7b940674aac8f929906a54f8613": {
      "model_module": "@jupyter-widgets/controls",
      "model_module_version": "2.0.0",
      "model_name": "TextStyleModel",
      "state": {
       "description_width": "",
       "font_size": null,
       "text_color": null
      }
     },
     "8145500dbd2b4bdcba816e46f5fd47dd": {
      "model_module": "@jupyter-widgets/controls",
      "model_module_version": "2.0.0",
      "model_name": "ButtonModel",
      "state": {
       "button_style": "success",
       "description": "Fetch Tree",
       "layout": "IPY_MODEL_da41c84e16fd4d18b08c31a2e490e5e0",
       "style": "IPY_MODEL_e6602f78e837433db5fa1a8b720f2ae4",
       "tooltip": null
      }
     },
     "81dbd59b32a94fee915aa1a6e0ba232c": {
      "model_module": "@jupyter-widgets/controls",
      "model_module_version": "2.0.0",
      "model_name": "ButtonModel",
      "state": {
       "button_style": "success",
       "description": "Fetch Tree",
       "layout": "IPY_MODEL_02f81b00de84470390e2133874ee41ed",
       "style": "IPY_MODEL_d47955733c0b4bdb847a3c6c07f52f8e",
       "tooltip": null
      }
     },
     "81e8b587807b4939bead33566876b306": {
      "model_module": "@jupyter-widgets/base",
      "model_module_version": "2.0.0",
      "model_name": "LayoutModel",
      "state": {}
     },
     "82299b2de8874b73a11e53313e231582": {
      "model_module": "@jupyter-widgets/controls",
      "model_module_version": "2.0.0",
      "model_name": "TextStyleModel",
      "state": {
       "description_width": "",
       "font_size": null,
       "text_color": null
      }
     },
     "83255519358a46568c302dd916d36a1d": {
      "model_module": "@jupyter-widgets/base",
      "model_module_version": "2.0.0",
      "model_name": "LayoutModel",
      "state": {}
     },
     "8333ae0f3aff4aada1526e8937188920": {
      "model_module": "@jupyter-widgets/controls",
      "model_module_version": "2.0.0",
      "model_name": "TextareaModel",
      "state": {
       "description": "Password:",
       "layout": "IPY_MODEL_8e5052f361894b6b81c26c6b0368ff83",
       "placeholder": "Password",
       "style": "IPY_MODEL_348ea75238384fe28b8218eea06558f4"
      }
     },
     "83efe3c25f7e44dea7966a10feaa3fd3": {
      "model_module": "@jupyter-widgets/base",
      "model_module_version": "2.0.0",
      "model_name": "LayoutModel",
      "state": {}
     },
     "85616549a14b4ceb83ac1591f05046b5": {
      "model_module": "@jupyter-widgets/controls",
      "model_module_version": "2.0.0",
      "model_name": "HTMLModel",
      "state": {
       "layout": "IPY_MODEL_0c4845aab1684749bdbcc28a399bebf5",
       "style": "IPY_MODEL_36ef2e39f75a41a8b76bf60e845adfff",
       "value": "\n### Interactive Batch Data Viewer\n\nThis notebook allows you to select a material type and a batch ID to retrieve relevant batch information.\nSimply select the material type from the dropdown, enter the batch ID, and click the 'Fetch Data' button to view the details.\n"
      }
     },
     "85c77b59955148a180bb009570573bd6": {
      "model_module": "@jupyter-widgets/base",
      "model_module_version": "2.0.0",
      "model_name": "LayoutModel",
      "state": {}
     },
     "8681d44536e54770abb8b650f233d866": {
      "model_module": "@jupyter-widgets/controls",
      "model_module_version": "2.0.0",
      "model_name": "TextareaModel",
      "state": {
       "description": "Username:",
       "layout": "IPY_MODEL_7a20b255fbd447cab696472ffe8acd16",
       "placeholder": "Username",
       "style": "IPY_MODEL_57003442c2214c659e369237cbabd6d7",
       "value": "UMIstaff"
      }
     },
     "868636bd590148d4b6126f0de47ef757": {
      "model_module": "@jupyter-widgets/base",
      "model_module_version": "2.0.0",
      "model_name": "LayoutModel",
      "state": {}
     },
     "86f439f7ed5f44a68c0c4fb9201a0364": {
      "model_module": "@jupyter-widgets/controls",
      "model_module_version": "2.0.0",
      "model_name": "ButtonStyleModel",
      "state": {
       "font_family": null,
       "font_size": null,
       "font_style": null,
       "font_variant": null,
       "font_weight": null,
       "text_color": null,
       "text_decoration": null
      }
     },
     "87347cd99a284c909be55e14337b1f5d": {
      "model_module": "@jupyter-widgets/controls",
      "model_module_version": "2.0.0",
      "model_name": "ButtonStyleModel",
      "state": {
       "font_family": null,
       "font_size": null,
       "font_style": null,
       "font_variant": null,
       "font_weight": null,
       "text_color": null,
       "text_decoration": null
      }
     },
     "874a47ae5d774c5090914d283333d8ee": {
      "model_module": "@jupyter-widgets/controls",
      "model_module_version": "2.0.0",
      "model_name": "ButtonModel",
      "state": {
       "button_style": "warning",
       "description": "Fetch Multiple",
       "layout": "IPY_MODEL_7db714e0313741169fbef9d0185bf5da",
       "style": "IPY_MODEL_641384ed914e4d808542aadbed4822eb",
       "tooltip": null
      }
     },
     "874ca2b8261c4668a8103b8dfc24b119": {
      "model_module": "@jupyter-widgets/controls",
      "model_module_version": "2.0.0",
      "model_name": "TextStyleModel",
      "state": {
       "description_width": "",
       "font_size": null,
       "text_color": null
      }
     },
     "87e29837d40040c98c6862a7791b79ce": {
      "model_module": "@jupyter-widgets/controls",
      "model_module_version": "2.0.0",
      "model_name": "DescriptionStyleModel",
      "state": {
       "description_width": ""
      }
     },
     "886cb8284cd3458ea221fe22933bdde3": {
      "model_module": "@jupyter-widgets/base",
      "model_module_version": "2.0.0",
      "model_name": "LayoutModel",
      "state": {}
     },
     "8b9d4aeb77c84135a3f48de3430a7b34": {
      "model_module": "@jupyter-widgets/base",
      "model_module_version": "2.0.0",
      "model_name": "LayoutModel",
      "state": {}
     },
     "8bc2e89daa9242619a6b577117cfdf40": {
      "model_module": "@jupyter-widgets/base",
      "model_module_version": "2.0.0",
      "model_name": "LayoutModel",
      "state": {}
     },
     "8c49365e89044c5cb63bccb83b8564fa": {
      "model_module": "@jupyter-widgets/controls",
      "model_module_version": "2.0.0",
      "model_name": "TextareaModel",
      "state": {
       "description": "Password:",
       "layout": "IPY_MODEL_d92007ceb042436a802d1a191130997b",
       "placeholder": "Password",
       "style": "IPY_MODEL_c8f174339acb474dad707a796501162e"
      }
     },
     "8e399f8ddbbe4e5aa320057d0c08f9f9": {
      "model_module": "@jupyter-widgets/controls",
      "model_module_version": "2.0.0",
      "model_name": "TextareaModel",
      "state": {
       "description": "Password:",
       "layout": "IPY_MODEL_ecd9ebb5494c4606bf71e62d24303436",
       "placeholder": "Password",
       "style": "IPY_MODEL_7736317a469c4a8782a90a7a9ae30638",
       "value": "GrapheneIsEverything!1"
      }
     },
     "8e5052f361894b6b81c26c6b0368ff83": {
      "model_module": "@jupyter-widgets/base",
      "model_module_version": "2.0.0",
      "model_name": "LayoutModel",
      "state": {}
     },
     "8f7f03513a2844989a18993cba5f30b2": {
      "model_module": "@jupyter-widgets/controls",
      "model_module_version": "2.0.0",
      "model_name": "ButtonStyleModel",
      "state": {
       "font_family": null,
       "font_size": null,
       "font_style": null,
       "font_variant": null,
       "font_weight": null,
       "text_color": null,
       "text_decoration": null
      }
     },
     "90648f6344c24b1589bce3703a36b246": {
      "model_module": "@jupyter-widgets/base",
      "model_module_version": "2.0.0",
      "model_name": "LayoutModel",
      "state": {}
     },
     "94a61c3b2b70495ea788ed5a53ab1811": {
      "model_module": "@jupyter-widgets/base",
      "model_module_version": "2.0.0",
      "model_name": "LayoutModel",
      "state": {}
     },
     "94ff193e3a724a49941dae9022d5e406": {
      "model_module": "@jupyter-widgets/controls",
      "model_module_version": "2.0.0",
      "model_name": "HTMLStyleModel",
      "state": {
       "description_width": "",
       "font_size": null,
       "text_color": null
      }
     },
     "9540efbbe94f439baa3d9e980201b194": {
      "model_module": "@jupyter-widgets/controls",
      "model_module_version": "2.0.0",
      "model_name": "TextareaModel",
      "state": {
       "description": "Username:",
       "layout": "IPY_MODEL_72a8066b7a224df291cde0fdf80c5918",
       "placeholder": "Username",
       "style": "IPY_MODEL_fc301892e7364827a9929e8d3fc31083"
      }
     },
     "9570b0185dba4dc584a8e0ced69926ba": {
      "model_module": "@jupyter-widgets/base",
      "model_module_version": "2.0.0",
      "model_name": "LayoutModel",
      "state": {}
     },
     "961f88e195bb4fd99f7cbc6f4fc28948": {
      "model_module": "@jupyter-widgets/controls",
      "model_module_version": "2.0.0",
      "model_name": "ButtonStyleModel",
      "state": {
       "font_family": null,
       "font_size": null,
       "font_style": null,
       "font_variant": null,
       "font_weight": null,
       "text_color": null,
       "text_decoration": null
      }
     },
     "9620426b2c244e6ab03225297919f5f4": {
      "model_module": "@jupyter-widgets/controls",
      "model_module_version": "2.0.0",
      "model_name": "DescriptionStyleModel",
      "state": {
       "description_width": ""
      }
     },
     "96922abe5cc34d8ea4e7cd01048655b5": {
      "model_module": "@jupyter-widgets/controls",
      "model_module_version": "2.0.0",
      "model_name": "ButtonStyleModel",
      "state": {
       "font_family": null,
       "font_size": null,
       "font_style": null,
       "font_variant": null,
       "font_weight": null,
       "text_color": null,
       "text_decoration": null
      }
     },
     "9910856a7eac4a868d713972a3eec0e2": {
      "model_module": "@jupyter-widgets/controls",
      "model_module_version": "2.0.0",
      "model_name": "ButtonModel",
      "state": {
       "button_style": "success",
       "description": "Fetch Tree",
       "layout": "IPY_MODEL_9a21ae76a4134e8585f8739da854f790",
       "style": "IPY_MODEL_455f72528ae44c36a1ce150609bb48c1",
       "tooltip": null
      }
     },
     "995ca56ca0c44ff4bba80ac89019b1c2": {
      "model_module": "@jupyter-widgets/controls",
      "model_module_version": "2.0.0",
      "model_name": "HTMLStyleModel",
      "state": {
       "description_width": "",
       "font_size": null,
       "text_color": null
      }
     },
     "996f889965594cba97028f11144f6b54": {
      "model_module": "@jupyter-widgets/controls",
      "model_module_version": "2.0.0",
      "model_name": "TextStyleModel",
      "state": {
       "description_width": "",
       "font_size": null,
       "text_color": null
      }
     },
     "99e7d6e20b58477f9123de70a25286e0": {
      "model_module": "@jupyter-widgets/base",
      "model_module_version": "2.0.0",
      "model_name": "LayoutModel",
      "state": {}
     },
     "9a21ae76a4134e8585f8739da854f790": {
      "model_module": "@jupyter-widgets/base",
      "model_module_version": "2.0.0",
      "model_name": "LayoutModel",
      "state": {}
     },
     "9a835d32033c414a8a14ab3b806f3180": {
      "model_module": "@jupyter-widgets/controls",
      "model_module_version": "2.0.0",
      "model_name": "ButtonModel",
      "state": {
       "button_style": "success",
       "description": "Fetch Tree",
       "layout": "IPY_MODEL_e9429504823a498a8aa3b1428b5ccd70",
       "style": "IPY_MODEL_5ca6d5fe0f5a4a68b1ae14ffe07d372e",
       "tooltip": null
      }
     },
     "9c3e72ba83164a278b0a1a455f879b38": {
      "model_module": "@jupyter-widgets/base",
      "model_module_version": "2.0.0",
      "model_name": "LayoutModel",
      "state": {}
     },
     "9db05d4c42594133a7478e0744f74702": {
      "model_module": "@jupyter-widgets/controls",
      "model_module_version": "2.0.0",
      "model_name": "TextareaModel",
      "state": {
       "description": "Batch IDs:",
       "layout": "IPY_MODEL_4aa95dc8b56d4a7ca7ec5426585e2157",
       "placeholder": "Input multiple batches separated by a comma",
       "style": "IPY_MODEL_4a285a11a4274ccc9607aba71172d674"
      }
     },
     "9ff9553f0c6e46a0b59d3d18dec44fc2": {
      "model_module": "@jupyter-widgets/controls",
      "model_module_version": "2.0.0",
      "model_name": "TextStyleModel",
      "state": {
       "description_width": "",
       "font_size": null,
       "text_color": null
      }
     },
     "a0882ff1961c4e6da6dcb3b077e0ff40": {
      "model_module": "@jupyter-widgets/base",
      "model_module_version": "2.0.0",
      "model_name": "LayoutModel",
      "state": {}
     },
     "a286a5efdfc14556aa63a5c89ba27106": {
      "model_module": "@jupyter-widgets/controls",
      "model_module_version": "2.0.0",
      "model_name": "HTMLModel",
      "state": {
       "layout": "IPY_MODEL_ec256a97d66342a39a4e02c6a5fcea43",
       "style": "IPY_MODEL_3d901860ab324bbd8a1e60374bf0d721",
       "value": "\n### Ability to use advanced search features\n\nmodify the statement in sql and cursor.execute based on what the desired filtrations are - in this case its related to identifying attrition mill materials\n"
      }
     },
     "a39a3f963d234a29a7683007468d725a": {
      "model_module": "@jupyter-widgets/controls",
      "model_module_version": "2.0.0",
      "model_name": "IntTextModel",
      "state": {
       "description": "Batch ID:",
       "layout": "IPY_MODEL_45f98fe2245045ab824faa110f26d470",
       "step": 1,
       "style": "IPY_MODEL_87e29837d40040c98c6862a7791b79ce",
       "value": 1
      }
     },
     "a43494aa748c4441a397daf3e63223b9": {
      "model_module": "@jupyter-widgets/output",
      "model_module_version": "1.0.0",
      "model_name": "OutputModel",
      "state": {
       "layout": "IPY_MODEL_aaa1d3d549bc4e1eb6e843112cfaca17",
       "outputs": [
        {
         "data": {
          "text/html": "<div>\n<style scoped>\n    .dataframe tbody tr th:only-of-type {\n        vertical-align: middle;\n    }\n\n    .dataframe tbody tr th {\n        vertical-align: top;\n    }\n\n    .dataframe thead th {\n        text-align: right;\n    }\n</style>\n<table border=\"1\" class=\"dataframe\">\n  <thead>\n    <tr style=\"text-align: right;\">\n      <th></th>\n      <th>ID</th>\n      <th>Name</th>\n      <th>massUsed</th>\n      <th>usedUp?</th>\n      <th>rCreationDateTime</th>\n      <th>rModificationDateTime</th>\n      <th>operatorName</th>\n      <th>operatorEmail</th>\n      <th>notes</th>\n      <th>feedstockName</th>\n      <th>trees</th>\n      <th>processingTool</th>\n      <th>processingInfo</th>\n      <th>BET</th>\n      <th>microporeVol</th>\n      <th>microporeArea</th>\n      <th>D/G</th>\n      <th>2D/G</th>\n      <th>CT</th>\n      <th>dT</th>\n      <th>Residue (%)</th>\n      <th>MV</th>\n      <th>MN</th>\n      <th>D99</th>\n      <th>Material Type</th>\n    </tr>\n  </thead>\n  <tbody>\n    <tr>\n      <th>0</th>\n      <td>707</td>\n      <td>H184-N990-Coffee Ground</td>\n      <td>0.000</td>\n      <td>0</td>\n      <td>2023-05-25 20:25:23</td>\n      <td>2023-05-25 20:25:23</td>\n      <td>Aidan O'Gorman</td>\n      <td>aidano@universalmatter.com</td>\n      <td>None</td>\n      <td>N990</td>\n      <td>gp-707 / f-609 / f-608 / f-607 / f-606 / fp-58...</td>\n      <td>Coffee GrinderCoffee Grinder</td>\n      <td>: 30.000 [], :  [], :  [], :  [], :  [], :  []...</td>\n      <td>None</td>\n      <td>None</td>\n      <td>None</td>\n      <td>None</td>\n      <td>None</td>\n      <td>None</td>\n      <td>None</td>\n      <td>None</td>\n      <td>None</td>\n      <td>None</td>\n      <td>None</td>\n      <td>gp</td>\n    </tr>\n    <tr>\n      <th>1</th>\n      <td>169</td>\n      <td>VXC605 from HIC</td>\n      <td>0.000</td>\n      <td>0</td>\n      <td>2023-07-14 13:56:42</td>\n      <td>2023-07-14 13:56:42</td>\n      <td>Houston Innovation Center</td>\n      <td>hic@universalmatter.com</td>\n      <td>None</td>\n      <td>None</td>\n      <td>-</td>\n      <td>NaN</td>\n      <td>NaN</td>\n      <td>NaN</td>\n      <td>NaN</td>\n      <td>NaN</td>\n      <td>NaN</td>\n      <td>NaN</td>\n      <td>NaN</td>\n      <td>NaN</td>\n      <td>NaN</td>\n      <td>NaN</td>\n      <td>NaN</td>\n      <td>NaN</td>\n      <td>fp</td>\n    </tr>\n  </tbody>\n</table>\n</div>",
          "text/plain": "    ID                     Name massUsed  usedUp?   rCreationDateTime  \\\n0  707  H184-N990-Coffee Ground    0.000        0 2023-05-25 20:25:23   \n1  169          VXC605 from HIC    0.000        0 2023-07-14 13:56:42   \n\n  rModificationDateTime               operatorName  \\\n0   2023-05-25 20:25:23             Aidan O'Gorman   \n1   2023-07-14 13:56:42  Houston Innovation Center   \n\n                operatorEmail notes feedstockName  \\\n0  aidano@universalmatter.com  None          N990   \n1     hic@universalmatter.com  None          None   \n\n                                               trees  \\\n0  gp-707 / f-609 / f-608 / f-607 / f-606 / fp-58...   \n1                                                  -   \n\n                 processingTool  \\\n0  Coffee GrinderCoffee Grinder   \n1                           NaN   \n\n                                      processingInfo   BET microporeVol  \\\n0  : 30.000 [], :  [], :  [], :  [], :  [], :  []...  None         None   \n1                                                NaN   NaN          NaN   \n\n  microporeArea   D/G  2D/G    CT    dT Residue (%)    MV    MN   D99  \\\n0          None  None  None  None  None        None  None  None  None   \n1           NaN   NaN   NaN   NaN   NaN         NaN   NaN   NaN   NaN   \n\n  Material Type  \n0            gp  \n1            fp  "
         },
         "metadata": {},
         "output_type": "display_data"
        }
       ]
      }
     },
     "a548cb346a0d43aa9a147b13596c882c": {
      "model_module": "@jupyter-widgets/controls",
      "model_module_version": "2.0.0",
      "model_name": "HTMLStyleModel",
      "state": {
       "description_width": "",
       "font_size": null,
       "text_color": null
      }
     },
     "a5d3debbdc6a496a810b4023a18a0631": {
      "model_module": "@jupyter-widgets/base",
      "model_module_version": "2.0.0",
      "model_name": "LayoutModel",
      "state": {}
     },
     "a60c5508cf2d484d9406511fd4863bac": {
      "model_module": "@jupyter-widgets/controls",
      "model_module_version": "2.0.0",
      "model_name": "TextStyleModel",
      "state": {
       "description_width": "",
       "font_size": null,
       "text_color": null
      }
     },
     "a6db2be12e4841279c5378d0bd5a212b": {
      "model_module": "@jupyter-widgets/controls",
      "model_module_version": "2.0.0",
      "model_name": "TextStyleModel",
      "state": {
       "description_width": "",
       "font_size": null,
       "text_color": null
      }
     },
     "aa6046dd286a4826ac848ba725ba0989": {
      "model_module": "@jupyter-widgets/base",
      "model_module_version": "2.0.0",
      "model_name": "LayoutModel",
      "state": {}
     },
     "aa8ac55b62e5474887d66e495a22582d": {
      "model_module": "@jupyter-widgets/base",
      "model_module_version": "2.0.0",
      "model_name": "LayoutModel",
      "state": {}
     },
     "aaa1d3d549bc4e1eb6e843112cfaca17": {
      "model_module": "@jupyter-widgets/base",
      "model_module_version": "2.0.0",
      "model_name": "LayoutModel",
      "state": {}
     },
     "aabdcdac99ae4096aa19c5cb8d43e662": {
      "model_module": "@jupyter-widgets/controls",
      "model_module_version": "2.0.0",
      "model_name": "HTMLStyleModel",
      "state": {
       "description_width": "",
       "font_size": null,
       "text_color": null
      }
     },
     "ab99711b3c344f43a9bfcf6acb55a3e3": {
      "model_module": "@jupyter-widgets/controls",
      "model_module_version": "2.0.0",
      "model_name": "TextStyleModel",
      "state": {
       "description_width": "",
       "font_size": null,
       "text_color": null
      }
     },
     "ad88e1ff7ba841b9982102565ec83a3b": {
      "model_module": "@jupyter-widgets/controls",
      "model_module_version": "2.0.0",
      "model_name": "ButtonStyleModel",
      "state": {
       "font_family": null,
       "font_size": null,
       "font_style": null,
       "font_variant": null,
       "font_weight": null,
       "text_color": null,
       "text_decoration": null
      }
     },
     "afda5a3d98c54384955c3d4bf09f7212": {
      "model_module": "@jupyter-widgets/controls",
      "model_module_version": "2.0.0",
      "model_name": "ButtonModel",
      "state": {
       "button_style": "success",
       "description": "Fetch Tree",
       "layout": "IPY_MODEL_586164c66bb6487184ca8c5ff48d99ff",
       "style": "IPY_MODEL_752281775cda43c4bae70881760ee6c7",
       "tooltip": null
      }
     },
     "b054bd8ae5bb45ba80c051b14c2be01c": {
      "model_module": "@jupyter-widgets/controls",
      "model_module_version": "2.0.0",
      "model_name": "TextareaModel",
      "state": {
       "description": "Password:",
       "layout": "IPY_MODEL_18817bc6c93e44e39932cc8a4697807f",
       "placeholder": "Password",
       "style": "IPY_MODEL_cce462ff95f24f0eaafc7659d0c96014",
       "value": "GrapheneIsEverything!1"
      }
     },
     "b0996b18a9504986bc13f788693bc269": {
      "model_module": "@jupyter-widgets/controls",
      "model_module_version": "2.0.0",
      "model_name": "ButtonModel",
      "state": {
       "button_style": "success",
       "description": "Fetch Tree",
       "layout": "IPY_MODEL_05682292dc4d40ef8147c6b398e4791c",
       "style": "IPY_MODEL_961f88e195bb4fd99f7cbc6f4fc28948",
       "tooltip": null
      }
     },
     "b1a889b9f20d42959f40d7fc08deb179": {
      "model_module": "@jupyter-widgets/controls",
      "model_module_version": "2.0.0",
      "model_name": "ButtonModel",
      "state": {
       "button_style": "info",
       "description": "Export to Excel",
       "layout": "IPY_MODEL_11592b3f912e49b0ac100191eeef4a97",
       "style": "IPY_MODEL_14d0f49c313947e0a7461b5e1ee2ef5f",
       "tooltip": null
      }
     },
     "b33e4890c4624d3982104ec0c531c491": {
      "model_module": "@jupyter-widgets/base",
      "model_module_version": "2.0.0",
      "model_name": "LayoutModel",
      "state": {}
     },
     "b34daafe2bc849999c2f97bbb57382bb": {
      "model_module": "@jupyter-widgets/controls",
      "model_module_version": "2.0.0",
      "model_name": "ButtonModel",
      "state": {
       "button_style": "success",
       "description": "Fetch Tree",
       "layout": "IPY_MODEL_1e69a198e0884e688f541626f8b80deb",
       "style": "IPY_MODEL_4d43a2b44f5b4b06b953336527c5c1cf",
       "tooltip": null
      }
     },
     "b37bf0fea5ee4d48a3d0ce07e06ae0b0": {
      "model_module": "@jupyter-widgets/controls",
      "model_module_version": "2.0.0",
      "model_name": "TextareaModel",
      "state": {
       "description": "Password:",
       "layout": "IPY_MODEL_886cb8284cd3458ea221fe22933bdde3",
       "placeholder": "Password",
       "style": "IPY_MODEL_ab99711b3c344f43a9bfcf6acb55a3e3",
       "value": "GrapheneIsEverything!1"
      }
     },
     "b3fe1606a87448a6a8395d6442a8de4f": {
      "model_module": "@jupyter-widgets/base",
      "model_module_version": "2.0.0",
      "model_name": "LayoutModel",
      "state": {}
     },
     "b5c1de286d994e56b73d3bd05de1b7fb": {
      "model_module": "@jupyter-widgets/base",
      "model_module_version": "2.0.0",
      "model_name": "LayoutModel",
      "state": {}
     },
     "b61373db53834ce8bba7c345f706db81": {
      "model_module": "@jupyter-widgets/base",
      "model_module_version": "2.0.0",
      "model_name": "LayoutModel",
      "state": {}
     },
     "b622af8684b44427b54e5a9f5970ba10": {
      "model_module": "@jupyter-widgets/controls",
      "model_module_version": "2.0.0",
      "model_name": "ButtonStyleModel",
      "state": {
       "font_family": null,
       "font_size": null,
       "font_style": null,
       "font_variant": null,
       "font_weight": null,
       "text_color": null,
       "text_decoration": null
      }
     },
     "b81a1aecef23493a833992971a8be046": {
      "model_module": "@jupyter-widgets/controls",
      "model_module_version": "2.0.0",
      "model_name": "ButtonStyleModel",
      "state": {
       "font_family": null,
       "font_size": null,
       "font_style": null,
       "font_variant": null,
       "font_weight": null,
       "text_color": null,
       "text_decoration": null
      }
     },
     "ba20ccede8944ddca03d303f82e8f598": {
      "model_module": "@jupyter-widgets/controls",
      "model_module_version": "2.0.0",
      "model_name": "TextareaModel",
      "state": {
       "description": "Password:",
       "layout": "IPY_MODEL_fc39bfcf81634df0bc7d28f527ee92ba",
       "placeholder": "Password",
       "style": "IPY_MODEL_1bf0d44f76b44c9fab8fbac29e18421e"
      }
     },
     "bb6411a6969040dfb28ecf767460ead4": {
      "model_module": "@jupyter-widgets/controls",
      "model_module_version": "2.0.0",
      "model_name": "ButtonModel",
      "state": {
       "button_style": "success",
       "description": "Fetch Tree",
       "layout": "IPY_MODEL_1314c612bb8e41b68cfb78cdcbe3384e",
       "style": "IPY_MODEL_7402af57b7ce42caa92d7a314e9c2479",
       "tooltip": null
      }
     },
     "bc35b250c10a4fcfa7fdfb146a403164": {
      "model_module": "@jupyter-widgets/base",
      "model_module_version": "2.0.0",
      "model_name": "LayoutModel",
      "state": {}
     },
     "bca3869f132b49aeb16fd3d0997d460a": {
      "model_module": "@jupyter-widgets/output",
      "model_module_version": "1.0.0",
      "model_name": "OutputModel",
      "state": {
       "layout": "IPY_MODEL_8b9d4aeb77c84135a3f48de3430a7b34"
      }
     },
     "bea3a5e39b214a0984f35e4681a8f0a0": {
      "model_module": "@jupyter-widgets/base",
      "model_module_version": "2.0.0",
      "model_name": "LayoutModel",
      "state": {}
     },
     "bf68f41467fd48248e93e00bb8533639": {
      "model_module": "@jupyter-widgets/base",
      "model_module_version": "2.0.0",
      "model_name": "LayoutModel",
      "state": {}
     },
     "bfd8fa11b3244ac688cd00211ecb7643": {
      "model_module": "@jupyter-widgets/controls",
      "model_module_version": "2.0.0",
      "model_name": "TextareaModel",
      "state": {
       "description": "Username:",
       "layout": "IPY_MODEL_18102f363f6543e8a50d70d9397fa870",
       "placeholder": "Username",
       "style": "IPY_MODEL_46129aac3a6c4788826aa09d6f454477",
       "value": "UMIstaff"
      }
     },
     "c71c0459b5c94d9dbf7ba50d0942a163": {
      "model_module": "@jupyter-widgets/base",
      "model_module_version": "2.0.0",
      "model_name": "LayoutModel",
      "state": {}
     },
     "c75b1d3f834741c197209ee95affea85": {
      "model_module": "@jupyter-widgets/controls",
      "model_module_version": "2.0.0",
      "model_name": "HTMLStyleModel",
      "state": {
       "description_width": "",
       "font_size": null,
       "text_color": null
      }
     },
     "c7a054d7066e499891d9b744f8df42b6": {
      "model_module": "@jupyter-widgets/controls",
      "model_module_version": "2.0.0",
      "model_name": "TextStyleModel",
      "state": {
       "description_width": "",
       "font_size": null,
       "text_color": null
      }
     },
     "c8f174339acb474dad707a796501162e": {
      "model_module": "@jupyter-widgets/controls",
      "model_module_version": "2.0.0",
      "model_name": "TextStyleModel",
      "state": {
       "description_width": "",
       "font_size": null,
       "text_color": null
      }
     },
     "cab3f2d865064baa82866c75293c0596": {
      "model_module": "@jupyter-widgets/controls",
      "model_module_version": "2.0.0",
      "model_name": "HTMLModel",
      "state": {
       "layout": "IPY_MODEL_0a76b4383c6c430289421adca314e192",
       "style": "IPY_MODEL_c75b1d3f834741c197209ee95affea85",
       "value": "\n### Ability to use advanced search features\n\nmodify the statement in sql and cursor.execute based on what the desired filtrations are - in this case its related to identifying attrition mill materials\n"
      }
     },
     "cafb0ce69f244df4a78cdbae31696ad3": {
      "model_module": "@jupyter-widgets/controls",
      "model_module_version": "2.0.0",
      "model_name": "DescriptionStyleModel",
      "state": {
       "description_width": ""
      }
     },
     "cb3066e83d584f2b889ed4750d6452fc": {
      "model_module": "@jupyter-widgets/controls",
      "model_module_version": "2.0.0",
      "model_name": "TextareaModel",
      "state": {
       "description": "Password:",
       "layout": "IPY_MODEL_94a61c3b2b70495ea788ed5a53ab1811",
       "placeholder": "Password",
       "style": "IPY_MODEL_a6db2be12e4841279c5378d0bd5a212b",
       "value": "GrapheneIsEverything!1"
      }
     },
     "cce462ff95f24f0eaafc7659d0c96014": {
      "model_module": "@jupyter-widgets/controls",
      "model_module_version": "2.0.0",
      "model_name": "TextStyleModel",
      "state": {
       "description_width": "",
       "font_size": null,
       "text_color": null
      }
     },
     "cd492ecf58454d408e3971f326e32872": {
      "model_module": "@jupyter-widgets/controls",
      "model_module_version": "2.0.0",
      "model_name": "ButtonModel",
      "state": {
       "button_style": "success",
       "description": "Fetch Tree",
       "layout": "IPY_MODEL_79eea1ff8375443bb439a267a08814b9",
       "style": "IPY_MODEL_3c1689ecba7b4660be5f9843e7558098",
       "tooltip": null
      }
     },
     "cdf9038ed5204b59a2c6b24855a182f4": {
      "model_module": "@jupyter-widgets/controls",
      "model_module_version": "2.0.0",
      "model_name": "ButtonModel",
      "state": {
       "button_style": "success",
       "description": "Fetch Tree",
       "layout": "IPY_MODEL_c71c0459b5c94d9dbf7ba50d0942a163",
       "style": "IPY_MODEL_28bbda3640cf4befa6c442fcf735d0bb",
       "tooltip": null
      }
     },
     "ce9eebb3f0354f928445c4383e18c1a5": {
      "model_module": "@jupyter-widgets/controls",
      "model_module_version": "2.0.0",
      "model_name": "TextareaModel",
      "state": {
       "description": "Password:",
       "layout": "IPY_MODEL_3f750a289c5b4f709277f5ab82494c41",
       "placeholder": "Password",
       "style": "IPY_MODEL_82299b2de8874b73a11e53313e231582"
      }
     },
     "cf317c016bf04a43bceee566d43b8fd2": {
      "model_module": "@jupyter-widgets/base",
      "model_module_version": "2.0.0",
      "model_name": "LayoutModel",
      "state": {}
     },
     "d06c8bf838b94feebb067021abf40b7c": {
      "model_module": "@jupyter-widgets/base",
      "model_module_version": "2.0.0",
      "model_name": "LayoutModel",
      "state": {}
     },
     "d0da8ae505f1470887abf23d7ec8daad": {
      "model_module": "@jupyter-widgets/controls",
      "model_module_version": "2.0.0",
      "model_name": "HTMLStyleModel",
      "state": {
       "description_width": "",
       "font_size": null,
       "text_color": null
      }
     },
     "d23a0ad5b7094cd29f783f6e91246c64": {
      "model_module": "@jupyter-widgets/controls",
      "model_module_version": "2.0.0",
      "model_name": "TextareaModel",
      "state": {
       "description": "Password:",
       "layout": "IPY_MODEL_bc35b250c10a4fcfa7fdfb146a403164",
       "placeholder": "Password",
       "style": "IPY_MODEL_996f889965594cba97028f11144f6b54"
      }
     },
     "d2612fbc863b4cc4a60e84f75878312a": {
      "model_module": "@jupyter-widgets/controls",
      "model_module_version": "2.0.0",
      "model_name": "HTMLModel",
      "state": {
       "layout": "IPY_MODEL_27cb74c4ea0a41748722a67870452dce",
       "style": "IPY_MODEL_94ff193e3a724a49941dae9022d5e406",
       "value": "\n### Interactive Batch Data Viewer\n\nThis notebook allows you to select a material type and a batch ID to retrieve relevant batch information.\nSimply select the material type from the dropdown, enter the batch ID, and click the 'Fetch Data' button to view the details.\n"
      }
     },
     "d32f419ef8794048b80802ad5829fdcb": {
      "model_module": "@jupyter-widgets/controls",
      "model_module_version": "2.0.0",
      "model_name": "TextareaModel",
      "state": {
       "description": "Username:",
       "layout": "IPY_MODEL_b3fe1606a87448a6a8395d6442a8de4f",
       "placeholder": "Username",
       "style": "IPY_MODEL_c7a054d7066e499891d9b744f8df42b6",
       "value": "'UMIstaff'"
      }
     },
     "d37ba93083284a098ee9038512c9437c": {
      "model_module": "@jupyter-widgets/controls",
      "model_module_version": "2.0.0",
      "model_name": "TextStyleModel",
      "state": {
       "description_width": "",
       "font_size": null,
       "text_color": null
      }
     },
     "d3af1a47514c45a5bc7ee2762b310dca": {
      "model_module": "@jupyter-widgets/controls",
      "model_module_version": "2.0.0",
      "model_name": "ButtonStyleModel",
      "state": {
       "font_family": null,
       "font_size": null,
       "font_style": null,
       "font_variant": null,
       "font_weight": null,
       "text_color": null,
       "text_decoration": null
      }
     },
     "d3c87cc74a4d411f865ae4769e2acaff": {
      "model_module": "@jupyter-widgets/base",
      "model_module_version": "2.0.0",
      "model_name": "LayoutModel",
      "state": {}
     },
     "d47955733c0b4bdb847a3c6c07f52f8e": {
      "model_module": "@jupyter-widgets/controls",
      "model_module_version": "2.0.0",
      "model_name": "ButtonStyleModel",
      "state": {
       "font_family": null,
       "font_size": null,
       "font_style": null,
       "font_variant": null,
       "font_weight": null,
       "text_color": null,
       "text_decoration": null
      }
     },
     "d5d2b4d02f0b48448edde21969241d0a": {
      "model_module": "@jupyter-widgets/base",
      "model_module_version": "2.0.0",
      "model_name": "LayoutModel",
      "state": {}
     },
     "d6bbb1f6d04c4767840af657c66a3a5f": {
      "model_module": "@jupyter-widgets/base",
      "model_module_version": "2.0.0",
      "model_name": "LayoutModel",
      "state": {}
     },
     "d92007ceb042436a802d1a191130997b": {
      "model_module": "@jupyter-widgets/base",
      "model_module_version": "2.0.0",
      "model_name": "LayoutModel",
      "state": {}
     },
     "da41c84e16fd4d18b08c31a2e490e5e0": {
      "model_module": "@jupyter-widgets/base",
      "model_module_version": "2.0.0",
      "model_name": "LayoutModel",
      "state": {}
     },
     "db928cdce16348a289544f9232eae5e3": {
      "model_module": "@jupyter-widgets/controls",
      "model_module_version": "2.0.0",
      "model_name": "ButtonStyleModel",
      "state": {
       "font_family": null,
       "font_size": null,
       "font_style": null,
       "font_variant": null,
       "font_weight": null,
       "text_color": null,
       "text_decoration": null
      }
     },
     "dc380a5904c24f4f9843ecc2c8ff0d66": {
      "model_module": "@jupyter-widgets/controls",
      "model_module_version": "2.0.0",
      "model_name": "TextStyleModel",
      "state": {
       "description_width": "",
       "font_size": null,
       "text_color": null
      }
     },
     "dd42f05cf8204d1db43682df42d3adc0": {
      "model_module": "@jupyter-widgets/base",
      "model_module_version": "2.0.0",
      "model_name": "LayoutModel",
      "state": {}
     },
     "e105f0fe6aaa45f0b3792c51574b1df5": {
      "model_module": "@jupyter-widgets/controls",
      "model_module_version": "2.0.0",
      "model_name": "IntTextModel",
      "state": {
       "description": "Batch ID:",
       "layout": "IPY_MODEL_d5d2b4d02f0b48448edde21969241d0a",
       "step": 1,
       "style": "IPY_MODEL_cafb0ce69f244df4a78cdbae31696ad3",
       "value": 1
      }
     },
     "e28c1cae41b849fb9b00692c408132b0": {
      "model_module": "@jupyter-widgets/controls",
      "model_module_version": "2.0.0",
      "model_name": "TextareaModel",
      "state": {
       "description": "Password:",
       "layout": "IPY_MODEL_f88c7a906dbd40c98ea812ab6968f8ef",
       "placeholder": "Password",
       "style": "IPY_MODEL_4e988ab0c1464af2ba885f05fec82390",
       "value": "GrapheneIsEverything!1"
      }
     },
     "e2b13ab770204105a8245b5b8dbbd7ee": {
      "model_module": "@jupyter-widgets/base",
      "model_module_version": "2.0.0",
      "model_name": "LayoutModel",
      "state": {}
     },
     "e345a8221dc44183958f784e42ca9249": {
      "model_module": "@jupyter-widgets/controls",
      "model_module_version": "2.0.0",
      "model_name": "ButtonModel",
      "state": {
       "button_style": "warning",
       "description": "Fetch Multiple",
       "layout": "IPY_MODEL_b5c1de286d994e56b73d3bd05de1b7fb",
       "style": "IPY_MODEL_3384966238494411b4d21ff7bcf0e5a6",
       "tooltip": null
      }
     },
     "e6602f78e837433db5fa1a8b720f2ae4": {
      "model_module": "@jupyter-widgets/controls",
      "model_module_version": "2.0.0",
      "model_name": "ButtonStyleModel",
      "state": {
       "font_family": null,
       "font_size": null,
       "font_style": null,
       "font_variant": null,
       "font_weight": null,
       "text_color": null,
       "text_decoration": null
      }
     },
     "e6dba39d65304817872adb114f9c802e": {
      "model_module": "@jupyter-widgets/base",
      "model_module_version": "2.0.0",
      "model_name": "LayoutModel",
      "state": {}
     },
     "e86d6602a5c14337939fe38374f63021": {
      "model_module": "@jupyter-widgets/controls",
      "model_module_version": "2.0.0",
      "model_name": "DropdownModel",
      "state": {
       "_options_labels": [
        "gp",
        "fp",
        "f",
        "d",
        "fv"
       ],
       "description": "Material Type:",
       "index": 0,
       "layout": "IPY_MODEL_a5d3debbdc6a496a810b4023a18a0631",
       "style": "IPY_MODEL_09b292da546849f58f9b792fddead339"
      }
     },
     "e9429504823a498a8aa3b1428b5ccd70": {
      "model_module": "@jupyter-widgets/base",
      "model_module_version": "2.0.0",
      "model_name": "LayoutModel",
      "state": {}
     },
     "eaebfd302a5a49eab2cf6aec2e019bad": {
      "model_module": "@jupyter-widgets/controls",
      "model_module_version": "2.0.0",
      "model_name": "ButtonModel",
      "state": {
       "button_style": "success",
       "description": "Fetch One",
       "layout": "IPY_MODEL_9570b0185dba4dc584a8e0ced69926ba",
       "style": "IPY_MODEL_4a05acb5e5a643db9e1b5d73637507a3",
       "tooltip": null
      }
     },
     "ec256a97d66342a39a4e02c6a5fcea43": {
      "model_module": "@jupyter-widgets/base",
      "model_module_version": "2.0.0",
      "model_name": "LayoutModel",
      "state": {}
     },
     "ec8dcbd02d414e50aa82b0722496c6b3": {
      "model_module": "@jupyter-widgets/base",
      "model_module_version": "2.0.0",
      "model_name": "LayoutModel",
      "state": {}
     },
     "ecd9ebb5494c4606bf71e62d24303436": {
      "model_module": "@jupyter-widgets/base",
      "model_module_version": "2.0.0",
      "model_name": "LayoutModel",
      "state": {}
     },
     "ed986fc0382d42c4a9de25942e787539": {
      "model_module": "@jupyter-widgets/base",
      "model_module_version": "2.0.0",
      "model_name": "LayoutModel",
      "state": {}
     },
     "edd6e791063742a9b504c6bc367a0d87": {
      "model_module": "@jupyter-widgets/controls",
      "model_module_version": "2.0.0",
      "model_name": "TextareaModel",
      "state": {
       "description": "Batch IDs:",
       "layout": "IPY_MODEL_e2b13ab770204105a8245b5b8dbbd7ee",
       "placeholder": "Input multiple batches separated by a comma",
       "style": "IPY_MODEL_70d7f78877ab4eeaa24e23f972a15686",
       "value": "gp-707, fp-169"
      }
     },
     "f593ffb3105f47d69eb3dd733d0dda16": {
      "model_module": "@jupyter-widgets/controls",
      "model_module_version": "2.0.0",
      "model_name": "TextStyleModel",
      "state": {
       "description_width": "",
       "font_size": null,
       "text_color": null
      }
     },
     "f7d5156cf1ae4fd1a4671eb09bcfa6bc": {
      "model_module": "@jupyter-widgets/controls",
      "model_module_version": "2.0.0",
      "model_name": "ButtonModel",
      "state": {
       "button_style": "success",
       "description": "Fetch One",
       "layout": "IPY_MODEL_e6dba39d65304817872adb114f9c802e",
       "style": "IPY_MODEL_db928cdce16348a289544f9232eae5e3",
       "tooltip": null
      }
     },
     "f88c7a906dbd40c98ea812ab6968f8ef": {
      "model_module": "@jupyter-widgets/base",
      "model_module_version": "2.0.0",
      "model_name": "LayoutModel",
      "state": {}
     },
     "f97de61fdf9343a587925d1309c858ef": {
      "model_module": "@jupyter-widgets/controls",
      "model_module_version": "2.0.0",
      "model_name": "TextareaModel",
      "state": {
       "description": "Password:",
       "layout": "IPY_MODEL_1ade2525c093411d8ebb010de31e3683",
       "placeholder": "Password",
       "style": "IPY_MODEL_3c37efbf193449929a2313d38ae3f8ef"
      }
     },
     "fabad9a543014a3dacb2b8b8f0ec88bf": {
      "model_module": "@jupyter-widgets/controls",
      "model_module_version": "2.0.0",
      "model_name": "ButtonModel",
      "state": {
       "button_style": "success",
       "description": "Fetch One",
       "layout": "IPY_MODEL_81e8b587807b4939bead33566876b306",
       "style": "IPY_MODEL_d3af1a47514c45a5bc7ee2762b310dca",
       "tooltip": null
      }
     },
     "fc301892e7364827a9929e8d3fc31083": {
      "model_module": "@jupyter-widgets/controls",
      "model_module_version": "2.0.0",
      "model_name": "TextStyleModel",
      "state": {
       "description_width": "",
       "font_size": null,
       "text_color": null
      }
     },
     "fc39bfcf81634df0bc7d28f527ee92ba": {
      "model_module": "@jupyter-widgets/base",
      "model_module_version": "2.0.0",
      "model_name": "LayoutModel",
      "state": {}
     },
     "fccbe38d32e54366a0df1c1fec7982b2": {
      "model_module": "@jupyter-widgets/controls",
      "model_module_version": "2.0.0",
      "model_name": "TextStyleModel",
      "state": {
       "description_width": "",
       "font_size": null,
       "text_color": null
      }
     },
     "fccf13b61bdc419bb2001f1f4a9d1a28": {
      "model_module": "@jupyter-widgets/controls",
      "model_module_version": "2.0.0",
      "model_name": "TextareaModel",
      "state": {
       "description": "Password:",
       "layout": "IPY_MODEL_ff33cef5107e4b4ea733259e96034b8e",
       "placeholder": "Password",
       "style": "IPY_MODEL_566ea8284a1f4c1399bdd43e8bc9aaa5",
       "value": "GrapheneIsEverything!1"
      }
     },
     "ff33cef5107e4b4ea733259e96034b8e": {
      "model_module": "@jupyter-widgets/base",
      "model_module_version": "2.0.0",
      "model_name": "LayoutModel",
      "state": {}
     }
    },
    "version_major": 2,
    "version_minor": 0
   }
  }
 },
 "nbformat": 4,
 "nbformat_minor": 5
}
