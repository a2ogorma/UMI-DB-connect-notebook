{
 "cells": [
  {
   "cell_type": "code",
   "execution_count": 38,
   "id": "72c6140a-8291-4baa-921a-585677972a2e",
   "metadata": {},
   "outputs": [],
   "source": [
    "import pymysql\n",
    "import ipywidgets as widgets\n",
    "import pandas as pd\n",
    "import glob\n",
    "import os\n",
    "# Import necessary libraries\n",
    "import ipywidgets as widgets\n",
    "from IPython.display import display, clear_output\n",
    "import pandas as pd\n",
    "import functools"
   ]
  },
  {
   "cell_type": "code",
   "execution_count": 39,
   "id": "94b75186-fd67-4b60-a5ed-675220189352",
   "metadata": {},
   "outputs": [
    {
     "data": {
      "application/vnd.jupyter.widget-view+json": {
       "model_id": "2769c5f388494de58c1b92bf4070987c",
       "version_major": 2,
       "version_minor": 0
      },
      "text/plain": [
       "Textarea(value='', description='Username:', placeholder='Username')"
      ]
     },
     "metadata": {},
     "output_type": "display_data"
    },
    {
     "data": {
      "application/vnd.jupyter.widget-view+json": {
       "model_id": "79d536c043b946af842f21e15ea74087",
       "version_major": 2,
       "version_minor": 0
      },
      "text/plain": [
       "Textarea(value='', description='Password:', placeholder='Password')"
      ]
     },
     "metadata": {},
     "output_type": "display_data"
    },
    {
     "data": {
      "application/vnd.jupyter.widget-view+json": {
       "model_id": "1d81e411570942d4b426c1c9cecb488f",
       "version_major": 2,
       "version_minor": 0
      },
      "text/plain": [
       "Textarea(value='', description='Host:', placeholder='Host')"
      ]
     },
     "metadata": {},
     "output_type": "display_data"
    },
    {
     "data": {
      "application/vnd.jupyter.widget-view+json": {
       "model_id": "cac1837798e74a459cfbd60889af0157",
       "version_major": 2,
       "version_minor": 0
      },
      "text/plain": [
       "Textarea(value='', description='Database:', placeholder='Database')"
      ]
     },
     "metadata": {},
     "output_type": "display_data"
    }
   ],
   "source": [
    "\n",
    "user_input = widgets.Textarea(\n",
    "    placeholder='Username',\n",
    "    description='Username:',\n",
    "    disabled=False\n",
    ")\n",
    "password_input = widgets.Textarea(\n",
    "    placeholder='Password',\n",
    "    description='Password:',\n",
    "    disabled=False\n",
    ")\n",
    "host_input = widgets.Textarea(\n",
    "    placeholder='Host',\n",
    "    description='Host:',\n",
    "    disabled=False\n",
    ")\n",
    "database_input = widgets.Textarea(\n",
    "    placeholder='Database',\n",
    "    description='Database:',\n",
    "    disabled=False\n",
    ")\n",
    "display(user_input, password_input, host_input, database_input)"
   ]
  },
  {
   "cell_type": "code",
   "execution_count": 44,
   "id": "c34373c8-ab3b-4790-86cf-37ed8b4f669c",
   "metadata": {},
   "outputs": [
    {
     "data": {
      "application/vnd.jupyter.widget-view+json": {
       "model_id": "3cc2b80c481e49f589ad9d875ce8fe2d",
       "version_major": 2,
       "version_minor": 0
      },
      "text/plain": [
       "Button(button_style='info', description='Test Connection', style=ButtonStyle())"
      ]
     },
     "metadata": {},
     "output_type": "display_data"
    },
    {
     "data": {
      "application/vnd.jupyter.widget-view+json": {
       "model_id": "6b80fae9b1c2432f9e699ea4298396f6",
       "version_major": 2,
       "version_minor": 0
      },
      "text/plain": [
       "Output()"
      ]
     },
     "metadata": {},
     "output_type": "display_data"
    }
   ],
   "source": [
    "test_button = widgets.Button(\n",
    "    description='Test Connection', button_style='info'\n",
    ")\n",
    "testOutputBox = widgets.Output()\n",
    "def get_db():\n",
    "    username1 = user_input.value\n",
    "    passwordtxt = password_input.value\n",
    "    hosttxt = host_input.value\n",
    "    databasetxt = database_input.value\n",
    "    return pymysql.connect(host=hosttxt,\n",
    "                             user=username1,\n",
    "                             password=passwordtxt,\n",
    "                             database=databasetxt,\n",
    "                             cursorclass=pymysql.cursors.DictCursor)\n",
    "\n",
    "def testConnection(b):\n",
    "    with testOutputBox:\n",
    "        display(\"Trying....\")\n",
    "    try:    \n",
    "        connection = get_db()\n",
    "        with connection.cursor() as cursor:\n",
    "            sql = \"SELECT COUNT(*) FROM information_schema.tables WHERE table_schema = 'Graphene';\"\n",
    "            cursor.execute(sql)\n",
    "            result = cursor.fetchone()\n",
    "        with testOutputBox:\n",
    "            display(\"Successful connection to \"+host_input.value)\n",
    "    except:\n",
    "        with testOutputBox:\n",
    "            display(\"Connection unsuccessful. Try again with the correct information\")\n",
    "    return()\n",
    "display(test_button, testOutputBox)\n",
    "test_button.on_click(testConnection)"
   ]
  },
  {
   "cell_type": "code",
   "execution_count": 20,
   "id": "c18d1c3c-10f7-4bc5-93e6-56cf0d71777b",
   "metadata": {},
   "outputs": [
    {
     "data": {
      "application/vnd.jupyter.widget-view+json": {
       "model_id": "7d4adc580ea84419aee3b6b421134a82",
       "version_major": 2,
       "version_minor": 0
      },
      "text/plain": [
       "HTML(value=\"C:/Users/AidanO'Gorman/OneDrive - Universal Matter/Shared Documents/Technology/Prod Dev - TG Proce…"
      ]
     },
     "metadata": {},
     "output_type": "display_data"
    },
    {
     "data": {
      "application/vnd.jupyter.widget-view+json": {
       "model_id": "0da21756aa63441f90bcb37c9ca84ad5",
       "version_major": 2,
       "version_minor": 0
      },
      "text/plain": [
       "Textarea(value='', description='File Path:', placeholder=\"C:/Users/AidanO'Gorman/OneDrive - Universal Matter/S…"
      ]
     },
     "metadata": {},
     "output_type": "display_data"
    },
    {
     "data": {
      "application/vnd.jupyter.widget-view+json": {
       "model_id": "6a4ec793b40b405b96e069b6efe4ade6",
       "version_major": 2,
       "version_minor": 0
      },
      "text/plain": [
       "IntSlider(value=10, continuous_update=False, description='Max Rows:', max=50)"
      ]
     },
     "metadata": {},
     "output_type": "display_data"
    },
    {
     "data": {
      "application/vnd.jupyter.widget-view+json": {
       "model_id": "8dc9b504773040759286a37ab0897fda",
       "version_major": 2,
       "version_minor": 0
      },
      "text/plain": [
       "IntSlider(value=30, continuous_update=False, description='Max Cols:')"
      ]
     },
     "metadata": {},
     "output_type": "display_data"
    }
   ],
   "source": [
    "# Specify the file path for Excel export\n",
    "path_input = widgets.Textarea(\n",
    "    placeholder=\"C:/Users/AidanO'Gorman/OneDrive - Universal Matter/Shared Documents/Technology/Prod Dev - TG Processing/Milling/AttritionMillData.xlsx\",\n",
    "    description='File Path:',\n",
    "    disabled=False\n",
    ")\n",
    "htmldisplay = widgets.HTML(\n",
    "    value=\"C:/Users/AidanO'Gorman/OneDrive - Universal Matter/Shared Documents/Technology/Prod Dev - TG Processing/Milling/AttritionMillData.xlsx\",\n",
    "    placeholder='Some HTML',\n",
    ")\n",
    "maxrow_input = widgets.IntSlider(\n",
    "    value=10,\n",
    "    min=0,\n",
    "    max=50,\n",
    "    step=1,\n",
    "    description='Max Rows:',\n",
    "    disabled=False,\n",
    "    continuous_update=False,\n",
    "    orientation='horizontal',\n",
    "    readout=True,\n",
    "    readout_format='d'\n",
    ")\n",
    "maxcol_input = widgets.IntSlider(\n",
    "    value=30,\n",
    "    min=0,\n",
    "    max=100,\n",
    "    step=1,\n",
    "    description='Max Cols:',\n",
    "    disabled=False,\n",
    "    continuous_update=False,\n",
    "    orientation='horizontal',\n",
    "    readout=True,\n",
    "    readout_format='d'\n",
    ")\n",
    "display(htmldisplay, path_input, maxrow_input, maxcol_input)\n",
    "# Export to Excel\n",
    "#with pd.ExcelWriter(excel_file_path) as writer:\n",
    "#    sort_df.to_excel(writer, sheet_name='Tests', index=False)\n",
    "#    files_df.to_excel(writer, sheet_name='Files', index=False)"
   ]
  },
  {
   "cell_type": "code",
   "execution_count": null,
   "id": "88f14406-d2fc-45d3-b544-5b03e27b4e9e",
   "metadata": {},
   "outputs": [],
   "source": [
    "setting_button = widgets.Button(\n",
    "    description='Save Settings', button_style='info'\n",
    ")\n",
    "settingOutputBox = widgets.Output()\n",
    "def saveSettings(b):\n",
    "    excel_file_path = path_input.value\n",
    "    pd.set_option('display.max_rows', maxrow_input.value)\n",
    "    pd.set_option('display.max_columns', maxcol_input.value)\n",
    "    with settingOutputBox:\n",
    "        display(\"Settings saved\")\n",
    "    return\n",
    "display(setting_button, settingOutputBox)\n",
    "setting_button.on_click(saveSettings)"
   ]
  },
  {
   "cell_type": "code",
   "execution_count": 45,
   "id": "0dad4819-f993-4c03-a140-46be49d1c376",
   "metadata": {
    "tags": []
   },
   "outputs": [
    {
     "data": {
      "application/vnd.jupyter.widget-view+json": {
       "model_id": "0ad5d6907fc34c63b1c698bf01ccccb0",
       "version_major": 2,
       "version_minor": 0
      },
      "text/plain": [
       "HTML(value='\\n### Interactive Batch Data Viewer\\n\\nThis notebook allows you to select a material IDs to retrie…"
      ]
     },
     "metadata": {},
     "output_type": "display_data"
    },
    {
     "data": {
      "application/vnd.jupyter.widget-view+json": {
       "model_id": "6bec14d89aa24ec0bc6208a1359c3db8",
       "version_major": 2,
       "version_minor": 0
      },
      "text/plain": [
       "Textarea(value='fp-1, f-1, gp-1, d-1', description='Batch IDs:', placeholder='Input multiple batches separated…"
      ]
     },
     "metadata": {},
     "output_type": "display_data"
    },
    {
     "data": {
      "application/vnd.jupyter.widget-view+json": {
       "model_id": "725bf392f1ce4e05b893c8a543121f29",
       "version_major": 2,
       "version_minor": 0
      },
      "text/plain": [
       "ToggleButton(value=False, description='Include related tree samples', icon='check', tooltip='Description')"
      ]
     },
     "metadata": {},
     "output_type": "display_data"
    },
    {
     "data": {
      "application/vnd.jupyter.widget-view+json": {
       "model_id": "95e8c95dffa3440a960a07ff9c9192f0",
       "version_major": 2,
       "version_minor": 0
      },
      "text/plain": [
       "ToggleButton(value=False, description='Include all files', icon='check', tooltip='Description')"
      ]
     },
     "metadata": {},
     "output_type": "display_data"
    },
    {
     "data": {
      "application/vnd.jupyter.widget-view+json": {
       "model_id": "d2fc25840210488b990ff5b23b397401",
       "version_major": 2,
       "version_minor": 0
      },
      "text/plain": [
       "ToggleButton(value=False, description='Include all tests', icon='check', tooltip='Description')"
      ]
     },
     "metadata": {},
     "output_type": "display_data"
    },
    {
     "data": {
      "application/vnd.jupyter.widget-view+json": {
       "model_id": "22cddbf4a2ce4bef89e466e20efca958",
       "version_major": 2,
       "version_minor": 0
      },
      "text/plain": [
       "ToggleButton(value=False, description='Export Data', icon='check', tooltip='Description')"
      ]
     },
     "metadata": {},
     "output_type": "display_data"
    },
    {
     "data": {
      "application/vnd.jupyter.widget-view+json": {
       "model_id": "1865404a27c4466083732e32e4783a40",
       "version_major": 2,
       "version_minor": 0
      },
      "text/plain": [
       "Button(button_style='info', description='Fetch Data', style=ButtonStyle())"
      ]
     },
     "metadata": {},
     "output_type": "display_data"
    },
    {
     "data": {
      "application/vnd.jupyter.widget-view+json": {
       "model_id": "ceff581a3d5f43079c7fa3819a0f3ac2",
       "version_major": 2,
       "version_minor": 0
      },
      "text/plain": [
       "Output()"
      ]
     },
     "metadata": {},
     "output_type": "display_data"
    }
   ],
   "source": [
    "\n",
    "# Define the available material types and their corresponding batch information\n",
    "\n",
    "# Create widgets\n",
    "batchMultiple_input = widgets.Textarea(\n",
    "    value='fp-1, f-1, gp-1, d-1',\n",
    "    placeholder='Input multiple batches separated by a comma',\n",
    "    description='Batch IDs:',\n",
    "    disabled=False\n",
    ")\n",
    "output_box = widgets.Output()\n",
    "\n",
    "\n",
    "\n",
    "# Create interactive elements\n",
    "\n",
    "fetch_button = widgets.Button(\n",
    "    description='Fetch Data', button_style='info'\n",
    ")\n",
    "TreeCheck = widgets.ToggleButton(\n",
    "    value=False,\n",
    "    description='Include related tree samples',\n",
    "    disabled=False,\n",
    "    button_style='', # 'success', 'info', 'warning', 'danger' or ''\n",
    "    tooltip='Description',\n",
    "    icon='check'\n",
    ")\n",
    "FileCheck = widgets.ToggleButton(\n",
    "    value=False,\n",
    "    description='Include all files',\n",
    "    disabled=False,\n",
    "    button_style='', # 'success', 'info', 'warning', 'danger' or ''\n",
    "    tooltip='Description',\n",
    "    icon='check'\n",
    ")\n",
    "TestCheck = widgets.ToggleButton(\n",
    "    value=False,\n",
    "    description='Include all tests',\n",
    "    disabled=False,\n",
    "    button_style='', # 'success', 'info', 'warning', 'danger' or ''\n",
    "    tooltip='Description',\n",
    "    icon='check'\n",
    ")\n",
    "ExportCheck = widgets.ToggleButton(\n",
    "    value=False,\n",
    "    description='Export Data',\n",
    "    disabled=False,\n",
    "    button_style='', # 'success', 'info', 'warning', 'danger' or ''\n",
    "    tooltip='Description',\n",
    "    icon='check'\n",
    ")\n",
    "# Define functions to handle interaction\n",
    "def fetch_data(material_type, batch_id):\n",
    "    connection = get_db()\n",
    "    with output_box:\n",
    "        clear_output()\n",
    "        ids = batch_id\n",
    "        with connection.cursor() as cursor:\n",
    "            match material_type:\n",
    "                case \"gp\":\n",
    "                    sql = \"SELECT * FROM Graphene.FullViewGrapheneBatch WHERE ID=%s\"\n",
    "                case \"fp\":\n",
    "                    sql = \"SELECT * FROM Graphene.FullViewFeedstockInternalBatch WHERE ID=%s\"\n",
    "                case \"f\":\n",
    "                    sql = \"SELECT * FROM Graphene.FullViewFlashProcess WHERE ID=%s\"\n",
    "                case \"d\":\n",
    "                    sql = \"SELECT * FROM Graphene.FullViewDispersionBatch WHERE ID=%s\"\n",
    "                case \"fv\":\n",
    "                    sql = \"SELECT * FROM Graphene.FullViewVendorBatch WHERE ID=%s\" #not made yet I dont think\n",
    "            cursor.execute(sql, ids)  # Use the loop variable 'ids' here\n",
    "            result = cursor.fetchall()\n",
    "        df = pd.DataFrame(result)\n",
    "        \n",
    "        # Display the combined DataFrame.\n",
    "        print(f\"Material Type: {material_type}\")\n",
    "        print(f\"Batch ID: {batch_id}\")\n",
    "        print(\"Batch Information:\")\n",
    "        display(df)\n",
    "    return(df)\n",
    "        \n",
    "def fetch_dataMultiple(sample_list):\n",
    "    connection = get_db()\n",
    "    with output_box:\n",
    "        dataframe_list = []\n",
    "        print(sample_list)\n",
    "        for samples in sample_list:\n",
    "            material_type = samples[0]\n",
    "            batch_id = samples[1]\n",
    "            ids = batch_id\n",
    "            with connection.cursor() as cursor:\n",
    "                match material_type:\n",
    "                    case \"gp\":\n",
    "                        sql = \"SELECT * FROM Graphene.FullViewGrapheneBatch WHERE ID=%s\"\n",
    "                    case \"fp\":\n",
    "                        sql = \"SELECT * FROM Graphene.FullViewFeedstockInternalBatch WHERE ID=%s\"\n",
    "                    case \"f\":\n",
    "                        sql = \"SELECT * FROM Graphene.FullViewFlashProcess WHERE ID=%s\"\n",
    "                    case \"d\":\n",
    "                        sql = \"SELECT * FROM Graphene.FullViewDispersionBatch WHERE ID=%s\"\n",
    "                    case \"fv\":\n",
    "                        sql = \"SELECT * FROM Graphene.FullViewFeedstockInternalBatch WHERE ID=%s\" #not made yet I dont think\n",
    "                cursor.execute(sql, ids)  # Use the loop variable 'ids' here\n",
    "                result = cursor.fetchall()\n",
    "            df = pd.DataFrame(result)\n",
    "            df['Material Type'] = material_type\n",
    "            dataframe_list.append(df)\n",
    "    # Display the combined DataFrame.\n",
    "    dataM_df = pd.concat(dataframe_list, ignore_index=True)\n",
    "    return dataM_df\n",
    "\n",
    "def fetch_button_clicked(b):\n",
    "    fetch_data(material_type_dropdown.value, batch_id_input.value)\n",
    "\n",
    "def fetchTree_button_clicked(batchID):\n",
    "    connection = get_db()\n",
    "    #lookup sample\n",
    "    material_type, idnumber = batchID.split(\"-\")\n",
    "    with connection.cursor() as cursor:\n",
    "        match material_type:\n",
    "            case \"gp\":\n",
    "                sql = \"SELECT trees FROM Graphene.FullViewGrapheneBatch WHERE ID=%s\"\n",
    "            case \"fp\":\n",
    "                sql = \"SELECT trees FROM Graphene.FullViewFeedstockInternalBatch WHERE ID=%s\"\n",
    "            case \"f\":\n",
    "                sql = \"SELECT trees FROM Graphene.FullViewFlashProcess WHERE ID=%s\"\n",
    "            case \"d\":\n",
    "                sql = \"SELECT trees FROM Graphene.FullViewDispersionBatch WHERE ID=%s\"\n",
    "            case \"fv\":\n",
    "                sql = \"SELECT trees FROM Graphene.FullViewVendorBatch WHERE ID=%s\" #not made yet I dont think\n",
    "        cursor.execute(sql, idnumber)  # Use the loop variable 'ids' here\n",
    "        result = cursor.fetchone()['trees']\n",
    "    print(result)\n",
    "    samples = generate_sample_list(result)\n",
    "    return(samples)\n",
    "    #data_df = fetch_dataMultiple(sample_list)\n",
    "    #display(data_df)\n",
    "    #return(data_df)\n",
    "    \n",
    "# Function to handle export button click\n",
    "def fetchData(b):\n",
    "    connection = get_db()\n",
    "    with output_box:\n",
    "        clear_output()\n",
    "        data_string = batchMultiple_input.value\n",
    "        sample_list = []\n",
    "        testframe_list = []\n",
    "        dataFile_list = []\n",
    "        samples = data_string.split(\", \")  # Split by comma and space\n",
    "        for sample in samples:\n",
    "            if TreeCheck.value:\n",
    "                sampleTree_list = fetchTree_button_clicked(sample)\n",
    "                sample_list.extend(sampleTree_list)\n",
    "            else:\n",
    "                material_type, batch_id = sample.split(\"-\")\n",
    "                sample_list.append((material_type, batch_id))\n",
    "        sample_list = set(sample_list)\n",
    "        for samplepair in sample_list:\n",
    "            material_type = samplepair[0]\n",
    "            batch_id = samplepair[1]\n",
    "            sample = str(material_type+\"-\"+str(batch_id))\n",
    "            if TestCheck.value:\n",
    "                with connection.cursor() as cursor:\n",
    "                    sql = \"SELECT * FROM Graphene.analysisView WHERE `sampleID`=CONVERT(%s USING utf8)\"\n",
    "                    cursor.execute(sql, (sample,) )  # Use the loop variable 'ids' here\n",
    "                    result = cursor.fetchall()\n",
    "                    df = pd.DataFrame(result)\n",
    "                    testframe_list.append(df)\n",
    "            if FileCheck.value:\n",
    "                techDir = \"C:/Users/AidanO'Gorman/OneDrive - Universal Matter/Shared Documents/Technology/Prod Dev - TG Characterization\"\n",
    "                searchstring = os.path.join(techDir,\"**\",f\"*{sample}**\")\n",
    "                print(searchstring)\n",
    "                fileList = glob.glob(searchstring,recursive=True)\n",
    "                for filePath in fileList:\n",
    "                # Split the path into directory and filename\n",
    "                    directory, filename = os.path.split(filePath)\n",
    "                    subfolder = directory.rsplit(\"Characterization\", 1)[1]\n",
    "                    fileData = [sample, subfolder, filename]\n",
    "                    dataFile_list.append(fileData)\n",
    "        data_df = fetch_dataMultiple(sample_list)\n",
    "        if FileCheck.value:\n",
    "            files_df = pd.DataFrame(dataFile_list, columns=['ID','subfolder','filename'])\n",
    "            display(files_df)\n",
    "        if TestCheck.value:\n",
    "            combined_df = pd.concat(testframe_list, ignore_index=True)\n",
    "            sort_df = combined_df.sort_values(by=['sampleID','testType'])\n",
    "            display(sort_df)\n",
    "        if len(data_df) > 0:\n",
    "            display(data_df)\n",
    "            if ExportCheck.value:\n",
    "                export_path = \"C:/Users/AidanO'Gorman/OneDrive - Universal Matter/combined_data.xlsx\"\n",
    "                with pd.ExcelWriter(export_path) as writer:\n",
    "                    if TestCheck.value:\n",
    "                        sort_df.to_excel(writer, sheet_name='Tests', index=False)\n",
    "                    if FileCheck.value:\n",
    "                        files_df.to_excel(writer, sheet_name='Files', index=False)\n",
    "                    data_df.to_excel(writer, sheet_name='Batch results', index=False)\n",
    "                print(f\"Data exported to {export_path}\")\n",
    "        else:\n",
    "            print(\"No data to export.\")\n",
    "        \n",
    "def generate_sample_list(input_string):\n",
    "    sample_list = []\n",
    "    \n",
    "    segments = input_string.split(\" / \")\n",
    "    for segment in segments:\n",
    "        parts = segment.split(\"-\")\n",
    "        if len(parts) == 2:\n",
    "            material_type, batch_id = parts\n",
    "            sample_list.append((material_type, batch_id))\n",
    "    \n",
    "    return sample_list\n",
    "\n",
    "# Attach the export function to the button's click event\n",
    "fetch_button.on_click(fetchData)\n",
    "\n",
    "# Display widgets and instructions\n",
    "instructions = \"\"\"\n",
    "### Interactive Batch Data Viewer\n",
    "\n",
    "This notebook allows you to select a material IDs to retrieve relevant batch information. \n",
    "For each material, enter the type and ID number in the format \"gp-###\", and click the 'Fetch Data' button to view the details. For multiple materials, add a comma followed by a space \", \" to pull multiple from the table simultaneously.\n",
    "\"\"\"\n",
    "\n",
    "display(widgets.HTML(instructions))\n",
    "display(batchMultiple_input, TreeCheck, FileCheck, TestCheck, ExportCheck, fetch_button, output_box)\n",
    "\n",
    "# Create a DataFrame\n",
    "#df = pd.DataFrame(data)\n",
    "\n",
    "#pd.set_option('display.max_rows', None)\n",
    "#pd.set_option('display.max_columns', None)\n",
    "\n",
    "# Display the DataFrame"
   ]
  },
  {
   "cell_type": "code",
   "execution_count": null,
   "id": "ea1695f6-5077-47ca-bcca-690fb3c28602",
   "metadata": {},
   "outputs": [],
   "source": []
  }
 ],
 "metadata": {
  "kernelspec": {
   "display_name": "Python 3 (ipykernel)",
   "language": "python",
   "name": "python3"
  },
  "language_info": {
   "codemirror_mode": {
    "name": "ipython",
    "version": 3
   },
   "file_extension": ".py",
   "mimetype": "text/x-python",
   "name": "python",
   "nbconvert_exporter": "python",
   "pygments_lexer": "ipython3",
   "version": "3.10.10"
  },
  "widgets": {
   "application/vnd.jupyter.widget-state+json": {
    "state": {
     "008d35931f3248bbbba14b9460d6ca7c": {
      "model_module": "@jupyter-widgets/controls",
      "model_module_version": "2.0.0",
      "model_name": "HTMLModel",
      "state": {
       "layout": "IPY_MODEL_e760f8c3708c46238c4a0ea60f05a01e",
       "style": "IPY_MODEL_f664ef43beb24a8cae4faf2bc42fb0fa",
       "value": "\n### Ability to use advanced search features\n\nmodify the statement in sql and cursor.execute based on what the desired filtrations are - in this case its related to identifying attrition mill materials\n"
      }
     },
     "04523e8338ff414d93bc7954ab384948": {
      "model_module": "@jupyter-widgets/controls",
      "model_module_version": "2.0.0",
      "model_name": "TextStyleModel",
      "state": {
       "description_width": "",
       "font_size": null,
       "text_color": null
      }
     },
     "047f3931971a46079241243b7eb525b7": {
      "model_module": "@jupyter-widgets/output",
      "model_module_version": "1.0.0",
      "model_name": "OutputModel",
      "state": {
       "layout": "IPY_MODEL_81bfac60e88b4fdf8a05daa3413446a7",
       "outputs": [
        {
         "data": {
          "text/plain": "'Connection unsuccessful. Try again with the correct information'"
         },
         "metadata": {},
         "output_type": "display_data"
        },
        {
         "data": {
          "text/plain": "'Connection unsuccessful. Try again with the correct information'"
         },
         "metadata": {},
         "output_type": "display_data"
        }
       ]
      }
     },
     "061e2415e69246c8ab88c27f7c8c1e89": {
      "model_module": "@jupyter-widgets/base",
      "model_module_version": "2.0.0",
      "model_name": "LayoutModel",
      "state": {}
     },
     "06201e8e8baa4c718acdb41db36682e1": {
      "model_module": "@jupyter-widgets/controls",
      "model_module_version": "2.0.0",
      "model_name": "ButtonStyleModel",
      "state": {
       "font_family": null,
       "font_size": null,
       "font_style": null,
       "font_variant": null,
       "font_weight": null,
       "text_color": null,
       "text_decoration": null
      }
     },
     "07bc2b88b3ce467b8a3157eddf6624db": {
      "model_module": "@jupyter-widgets/controls",
      "model_module_version": "2.0.0",
      "model_name": "ButtonModel",
      "state": {
       "button_style": "info",
       "description": "Fetch Data",
       "layout": "IPY_MODEL_de07c368100b4816b7c48fe448f81a67",
       "style": "IPY_MODEL_b0ad83c86b624dbbbffea47204ce42e6",
       "tooltip": null
      }
     },
     "0926ae07df9340a09bc9c1db06b5d879": {
      "model_module": "@jupyter-widgets/controls",
      "model_module_version": "2.0.0",
      "model_name": "TextareaModel",
      "state": {
       "description": "Database:",
       "layout": "IPY_MODEL_81f94557c4ba4ff7b777b7dc6e4ae623",
       "placeholder": "Database",
       "style": "IPY_MODEL_82260807c332408884efc0a28eafe0be",
       "value": "Graphene"
      }
     },
     "0ad5d6907fc34c63b1c698bf01ccccb0": {
      "model_module": "@jupyter-widgets/controls",
      "model_module_version": "2.0.0",
      "model_name": "HTMLModel",
      "state": {
       "layout": "IPY_MODEL_c5acb357054f46a0b64b9fa9cf7df896",
       "style": "IPY_MODEL_db8fe364d1064134a9a827b49b0e4dd2",
       "value": "\n### Interactive Batch Data Viewer\n\nThis notebook allows you to select a material IDs to retrieve relevant batch information. \nFor each material, enter the type and ID number in the format \"gp-###\", and click the 'Fetch Data' button to view the details. For multiple materials, add a comma followed by a space \", \" to pull multiple from the table simultaneously.\n"
      }
     },
     "0be0f343e2f34d95804f850aa2a8b8b8": {
      "model_module": "@jupyter-widgets/base",
      "model_module_version": "2.0.0",
      "model_name": "LayoutModel",
      "state": {}
     },
     "0da21756aa63441f90bcb37c9ca84ad5": {
      "model_module": "@jupyter-widgets/controls",
      "model_module_version": "2.0.0",
      "model_name": "TextareaModel",
      "state": {
       "description": "File Path:",
       "layout": "IPY_MODEL_b46e87dc69364501b5e46bfa84c91112",
       "placeholder": "C:/Users/AidanO'Gorman/OneDrive - Universal Matter/Shared Documents/Technology/Prod Dev - TG Processing/Milling/AttritionMillData.xlsx",
       "style": "IPY_MODEL_9801002d277443548701730c7bfacf07",
       "value": "C:/Users/AidanO'Gorman/OneDrive - Universal Matter/Shared Documents/Technology/Prod Dev - TG Processing/Milling/AttritionMillData.xlsx"
      }
     },
     "0ee4f658bfa049829c4b31ad8191a905": {
      "model_module": "@jupyter-widgets/controls",
      "model_module_version": "2.0.0",
      "model_name": "TextareaModel",
      "state": {
       "description": "Password:",
       "layout": "IPY_MODEL_2b391bd4d8144e62a7e23c7a7e79a8fb",
       "placeholder": "Password",
       "style": "IPY_MODEL_ad84c230c8ed418eb349f96e0974f6a9",
       "value": "GrapheneIsEverything!1"
      }
     },
     "0f48a6e0a8054ede8bb3cc0e8470a877": {
      "model_module": "@jupyter-widgets/base",
      "model_module_version": "2.0.0",
      "model_name": "LayoutModel",
      "state": {}
     },
     "10854e2a0d8340be8aa99d64799fa0dc": {
      "model_module": "@jupyter-widgets/controls",
      "model_module_version": "2.0.0",
      "model_name": "TextareaModel",
      "state": {
       "description": "Host:",
       "layout": "IPY_MODEL_2aea5f42a63f4ce79f4d8a637ea50474",
       "placeholder": "Host",
       "style": "IPY_MODEL_04523e8338ff414d93bc7954ab384948"
      }
     },
     "12c31406c6814a4ead92d465344249d3": {
      "model_module": "@jupyter-widgets/controls",
      "model_module_version": "2.0.0",
      "model_name": "ButtonModel",
      "state": {
       "button_style": "info",
       "description": "Fetch Data",
       "layout": "IPY_MODEL_f73be404a4c7455395ad6113918916c4",
       "style": "IPY_MODEL_9bf9ced7a9604561b52dd2bf5abb9467",
       "tooltip": null
      }
     },
     "1306d20a078b4d0aa4f01ebfaff8e712": {
      "model_module": "@jupyter-widgets/controls",
      "model_module_version": "2.0.0",
      "model_name": "HTMLStyleModel",
      "state": {
       "description_width": "",
       "font_size": null,
       "text_color": null
      }
     },
     "152c0ce728b4435d9c49fe6a700fde5a": {
      "model_module": "@jupyter-widgets/base",
      "model_module_version": "2.0.0",
      "model_name": "LayoutModel",
      "state": {}
     },
     "16ea1a3e57cf43aa8071e7fbf55dd300": {
      "model_module": "@jupyter-widgets/controls",
      "model_module_version": "2.0.0",
      "model_name": "ToggleButtonStyleModel",
      "state": {
       "description_width": "",
       "font_family": null,
       "font_size": null,
       "font_style": null,
       "font_variant": null,
       "font_weight": null,
       "text_color": null,
       "text_decoration": null
      }
     },
     "17a4e592ce5b4526bb1c8cb1a1f3512d": {
      "model_module": "@jupyter-widgets/controls",
      "model_module_version": "2.0.0",
      "model_name": "ButtonStyleModel",
      "state": {
       "font_family": null,
       "font_size": null,
       "font_style": null,
       "font_variant": null,
       "font_weight": null,
       "text_color": null,
       "text_decoration": null
      }
     },
     "1865404a27c4466083732e32e4783a40": {
      "model_module": "@jupyter-widgets/controls",
      "model_module_version": "2.0.0",
      "model_name": "ButtonModel",
      "state": {
       "button_style": "info",
       "description": "Fetch Data",
       "layout": "IPY_MODEL_669f448d280846a38afb1d41f47b5609",
       "style": "IPY_MODEL_8371d6baf9c94346a2e2a39182255394",
       "tooltip": null
      }
     },
     "1ac959ca625e479784da8f36c2a4c35b": {
      "model_module": "@jupyter-widgets/controls",
      "model_module_version": "2.0.0",
      "model_name": "ButtonStyleModel",
      "state": {
       "font_family": null,
       "font_size": null,
       "font_style": null,
       "font_variant": null,
       "font_weight": null,
       "text_color": null,
       "text_decoration": null
      }
     },
     "1d81e411570942d4b426c1c9cecb488f": {
      "model_module": "@jupyter-widgets/controls",
      "model_module_version": "2.0.0",
      "model_name": "TextareaModel",
      "state": {
       "description": "Host:",
       "layout": "IPY_MODEL_a60b400846b8494ca08a14e625ad7867",
       "placeholder": "Host",
       "style": "IPY_MODEL_c8f321cde10a4b31a6acb5ba48099419"
      }
     },
     "1dad19a804c84085a1e4dd4e4d5b1a97": {
      "model_module": "@jupyter-widgets/base",
      "model_module_version": "2.0.0",
      "model_name": "LayoutModel",
      "state": {}
     },
     "1e9d4fd1335d427eb91ce3199e3a8469": {
      "model_module": "@jupyter-widgets/controls",
      "model_module_version": "2.0.0",
      "model_name": "TextareaModel",
      "state": {
       "description": "Database:",
       "layout": "IPY_MODEL_8f4f2c1e7da34148bd1f6fc682de81ba",
       "placeholder": "C:/Users/AidanO'Gorman/OneDrive - Universal Matter/Shared Documents/Technology/Prod Dev - TG Processing/Milling/AttritionMillData.xlsx",
       "style": "IPY_MODEL_f3b9394a34f5457fa2fadc9daa766ee2"
      }
     },
     "1ef7515ccfb349c9be7e26dba0f8b78d": {
      "model_module": "@jupyter-widgets/base",
      "model_module_version": "2.0.0",
      "model_name": "LayoutModel",
      "state": {}
     },
     "20fa86540ecf4ba8b06232463acccc57": {
      "model_module": "@jupyter-widgets/controls",
      "model_module_version": "2.0.0",
      "model_name": "ToggleButtonModel",
      "state": {
       "description": "Include all tests",
       "icon": "check",
       "layout": "IPY_MODEL_61d855ffcf414d518bd06965f29e21a5",
       "style": "IPY_MODEL_9895e57521d64f3b97eff4f6761b5815",
       "tooltip": "Description"
      }
     },
     "21c52f519b54448aa57fbc7f8bf7135f": {
      "model_module": "@jupyter-widgets/controls",
      "model_module_version": "2.0.0",
      "model_name": "ButtonStyleModel",
      "state": {
       "font_family": null,
       "font_size": null,
       "font_style": null,
       "font_variant": null,
       "font_weight": null,
       "text_color": null,
       "text_decoration": null
      }
     },
     "21d89cd446f44a57b675f5dcddf547c4": {
      "model_module": "@jupyter-widgets/base",
      "model_module_version": "2.0.0",
      "model_name": "LayoutModel",
      "state": {}
     },
     "221b5c7e4faa4abc98f4a8f88b5dfa33": {
      "model_module": "@jupyter-widgets/base",
      "model_module_version": "2.0.0",
      "model_name": "LayoutModel",
      "state": {}
     },
     "22cddbf4a2ce4bef89e466e20efca958": {
      "model_module": "@jupyter-widgets/controls",
      "model_module_version": "2.0.0",
      "model_name": "ToggleButtonModel",
      "state": {
       "description": "Export Data",
       "icon": "check",
       "layout": "IPY_MODEL_eeb2f61686104b72b3eda3b6af7230bf",
       "style": "IPY_MODEL_16ea1a3e57cf43aa8071e7fbf55dd300",
       "tooltip": "Description"
      }
     },
     "233c2f51e827492a9b94d7aec85dadec": {
      "model_module": "@jupyter-widgets/controls",
      "model_module_version": "2.0.0",
      "model_name": "TextStyleModel",
      "state": {
       "description_width": "",
       "font_size": null,
       "text_color": null
      }
     },
     "25bd876f1e9340a08d8fcfed7f684c4c": {
      "model_module": "@jupyter-widgets/base",
      "model_module_version": "2.0.0",
      "model_name": "LayoutModel",
      "state": {}
     },
     "26f5458a93314672a1fc73025109ef6c": {
      "model_module": "@jupyter-widgets/controls",
      "model_module_version": "2.0.0",
      "model_name": "TextareaModel",
      "state": {
       "description": "File Path:",
       "layout": "IPY_MODEL_593168b3b53c46709a27688a46c64708",
       "placeholder": "C:/Users/AidanO'Gorman/OneDrive - Universal Matter/Shared Documents/Technology/Prod Dev - TG Processing/Milling/AttritionMillData.xlsx",
       "style": "IPY_MODEL_233c2f51e827492a9b94d7aec85dadec"
      }
     },
     "2769c5f388494de58c1b92bf4070987c": {
      "model_module": "@jupyter-widgets/controls",
      "model_module_version": "2.0.0",
      "model_name": "TextareaModel",
      "state": {
       "description": "Username:",
       "layout": "IPY_MODEL_21d89cd446f44a57b675f5dcddf547c4",
       "placeholder": "Username",
       "style": "IPY_MODEL_4e257371489b4287a893690a6bc09b42"
      }
     },
     "295b724dff974453b5367365c1d9fd42": {
      "model_module": "@jupyter-widgets/controls",
      "model_module_version": "2.0.0",
      "model_name": "ButtonStyleModel",
      "state": {
       "font_family": null,
       "font_size": null,
       "font_style": null,
       "font_variant": null,
       "font_weight": null,
       "text_color": null,
       "text_decoration": null
      }
     },
     "2aea5f42a63f4ce79f4d8a637ea50474": {
      "model_module": "@jupyter-widgets/base",
      "model_module_version": "2.0.0",
      "model_name": "LayoutModel",
      "state": {}
     },
     "2b391bd4d8144e62a7e23c7a7e79a8fb": {
      "model_module": "@jupyter-widgets/base",
      "model_module_version": "2.0.0",
      "model_name": "LayoutModel",
      "state": {}
     },
     "2bbad2dffef54f9fbcbd64a0316dfbbd": {
      "model_module": "@jupyter-widgets/base",
      "model_module_version": "2.0.0",
      "model_name": "LayoutModel",
      "state": {}
     },
     "2d2acd6a7fb249ab9c152a21e147f6ad": {
      "model_module": "@jupyter-widgets/controls",
      "model_module_version": "2.0.0",
      "model_name": "TextareaModel",
      "state": {
       "description": "Database:",
       "layout": "IPY_MODEL_81ef84a2b2fe4893a7714469b5d7c527",
       "placeholder": "Database",
       "style": "IPY_MODEL_cba88eeaddcd408081e5984280b16946",
       "value": "Graphene"
      }
     },
     "2dc1d18532434d08aaa8a57c0b2b0f0a": {
      "model_module": "@jupyter-widgets/controls",
      "model_module_version": "2.0.0",
      "model_name": "TextStyleModel",
      "state": {
       "description_width": "",
       "font_size": null,
       "text_color": null
      }
     },
     "2f06bfe6195142f7a1e699bb4f66657a": {
      "model_module": "@jupyter-widgets/base",
      "model_module_version": "2.0.0",
      "model_name": "LayoutModel",
      "state": {}
     },
     "31e4fa9c74bb4d9faef138701ad6c38c": {
      "model_module": "@jupyter-widgets/controls",
      "model_module_version": "2.0.0",
      "model_name": "ButtonModel",
      "state": {
       "button_style": "info",
       "description": "Test Connection",
       "layout": "IPY_MODEL_ed51d8c6566d4312b9b80385411b8b06",
       "style": "IPY_MODEL_4c8d59c06f26460bb3394fba170e9079",
       "tooltip": null
      }
     },
     "31e7a89796624659b5546d0a74a39d95": {
      "model_module": "@jupyter-widgets/controls",
      "model_module_version": "2.0.0",
      "model_name": "ButtonModel",
      "state": {
       "button_style": "info",
       "description": "Test Connection",
       "layout": "IPY_MODEL_5b639ab63e504b3889d11122cb21e5b3",
       "style": "IPY_MODEL_6b7aa749243e4b03a1185344e5ad9162",
       "tooltip": null
      }
     },
     "327f8826242647f48305c32bc69bed49": {
      "model_module": "@jupyter-widgets/base",
      "model_module_version": "2.0.0",
      "model_name": "LayoutModel",
      "state": {}
     },
     "35873317091e4b2db24182fdafc5cb5a": {
      "model_module": "@jupyter-widgets/controls",
      "model_module_version": "2.0.0",
      "model_name": "ButtonStyleModel",
      "state": {
       "font_family": null,
       "font_size": null,
       "font_style": null,
       "font_variant": null,
       "font_weight": null,
       "text_color": null,
       "text_decoration": null
      }
     },
     "3596c9813dde4f5ca69601b1cfb2177c": {
      "model_module": "@jupyter-widgets/controls",
      "model_module_version": "2.0.0",
      "model_name": "TextareaModel",
      "state": {
       "description": "Password:",
       "layout": "IPY_MODEL_453dd86adc1f43fdaf48b0528e806b7a",
       "placeholder": "Password",
       "style": "IPY_MODEL_2dc1d18532434d08aaa8a57c0b2b0f0a"
      }
     },
     "365511aabc704a13953adaf65ed1fbff": {
      "model_module": "@jupyter-widgets/controls",
      "model_module_version": "2.0.0",
      "model_name": "TextareaModel",
      "state": {
       "description": "Username:",
       "layout": "IPY_MODEL_587f550cec71471db868c96dfaa91dd1",
       "placeholder": "Username",
       "style": "IPY_MODEL_a8995f4c611b49fe86bdc2ee10d52286",
       "value": "UMIstaff"
      }
     },
     "37faf680a1c444a59942031e8a79a55c": {
      "model_module": "@jupyter-widgets/controls",
      "model_module_version": "2.0.0",
      "model_name": "IntSliderModel",
      "state": {
       "behavior": "drag-tap",
       "continuous_update": false,
       "description": "Max Cols:",
       "layout": "IPY_MODEL_4012d4a1aba543f2b6372f348152da63",
       "style": "IPY_MODEL_8fbb00d79b894374bc050eb5d491c2c8",
       "value": 30
      }
     },
     "387cafe027f041f987a2b0985f333e32": {
      "model_module": "@jupyter-widgets/base",
      "model_module_version": "2.0.0",
      "model_name": "LayoutModel",
      "state": {}
     },
     "399621fd596e4695972416d8beae5654": {
      "model_module": "@jupyter-widgets/controls",
      "model_module_version": "2.0.0",
      "model_name": "ButtonStyleModel",
      "state": {
       "font_family": null,
       "font_size": null,
       "font_style": null,
       "font_variant": null,
       "font_weight": null,
       "text_color": null,
       "text_decoration": null
      }
     },
     "3a30e01ef5d94574960472b1e2b9d674": {
      "model_module": "@jupyter-widgets/controls",
      "model_module_version": "2.0.0",
      "model_name": "TextStyleModel",
      "state": {
       "description_width": "",
       "font_size": null,
       "text_color": null
      }
     },
     "3a951128a6c644a19173de21e9234db9": {
      "model_module": "@jupyter-widgets/base",
      "model_module_version": "2.0.0",
      "model_name": "LayoutModel",
      "state": {}
     },
     "3ac0c260024b4879ad521068fbd556da": {
      "model_module": "@jupyter-widgets/controls",
      "model_module_version": "2.0.0",
      "model_name": "TextareaModel",
      "state": {
       "description": "Username:",
       "layout": "IPY_MODEL_9ac89a18736b45d19ff1d555b1171d75",
       "placeholder": "Username",
       "style": "IPY_MODEL_abe2b8146ecc423994cdc963fc6ce908",
       "value": "UMIstaff"
      }
     },
     "3ae2dd24566d44f3a32e93fcc4f826b2": {
      "model_module": "@jupyter-widgets/controls",
      "model_module_version": "2.0.0",
      "model_name": "TextareaModel",
      "state": {
       "description": "Username:",
       "layout": "IPY_MODEL_221b5c7e4faa4abc98f4a8f88b5dfa33",
       "placeholder": "Username",
       "style": "IPY_MODEL_ce6435b6f51d48bfb523594c5932b646"
      }
     },
     "3cbb35cc59a24dbd8cb9aedd47651c97": {
      "model_module": "@jupyter-widgets/controls",
      "model_module_version": "2.0.0",
      "model_name": "IntSliderModel",
      "state": {
       "behavior": "drag-tap",
       "continuous_update": false,
       "description": "Max Display Rows:",
       "layout": "IPY_MODEL_387cafe027f041f987a2b0985f333e32",
       "style": "IPY_MODEL_795c567730c84926b761efdff8a6af31",
       "value": 30
      }
     },
     "3cc2b80c481e49f589ad9d875ce8fe2d": {
      "model_module": "@jupyter-widgets/controls",
      "model_module_version": "2.0.0",
      "model_name": "ButtonModel",
      "state": {
       "button_style": "info",
       "description": "Test Connection",
       "layout": "IPY_MODEL_575542d5cf3e4b3c9fcf3ec20e009ec1",
       "style": "IPY_MODEL_8a3b532d11574cf083461644b0b1aec0",
       "tooltip": null
      }
     },
     "3d9fd1ef48ae46b8a44bb87481940128": {
      "model_module": "@jupyter-widgets/controls",
      "model_module_version": "2.0.0",
      "model_name": "TextStyleModel",
      "state": {
       "description_width": "",
       "font_size": null,
       "text_color": null
      }
     },
     "3ec64e66e60b49e4b4f2307f6de9bd3e": {
      "model_module": "@jupyter-widgets/base",
      "model_module_version": "2.0.0",
      "model_name": "LayoutModel",
      "state": {}
     },
     "3fae7106b6304346b51f79578daa6575": {
      "model_module": "@jupyter-widgets/controls",
      "model_module_version": "2.0.0",
      "model_name": "SliderStyleModel",
      "state": {
       "description_width": ""
      }
     },
     "4012d4a1aba543f2b6372f348152da63": {
      "model_module": "@jupyter-widgets/base",
      "model_module_version": "2.0.0",
      "model_name": "LayoutModel",
      "state": {}
     },
     "4136b43b3a874d3ea467f5d83ad9685a": {
      "model_module": "@jupyter-widgets/controls",
      "model_module_version": "2.0.0",
      "model_name": "ToggleButtonStyleModel",
      "state": {
       "description_width": "",
       "font_family": null,
       "font_size": null,
       "font_style": null,
       "font_variant": null,
       "font_weight": null,
       "text_color": null,
       "text_decoration": null
      }
     },
     "41d278f09ed143578e15ebd53b49e36e": {
      "model_module": "@jupyter-widgets/controls",
      "model_module_version": "2.0.0",
      "model_name": "ButtonModel",
      "state": {
       "button_style": "info",
       "description": "Test Connection",
       "layout": "IPY_MODEL_1dad19a804c84085a1e4dd4e4d5b1a97",
       "style": "IPY_MODEL_295b724dff974453b5367365c1d9fd42",
       "tooltip": null
      }
     },
     "422dd5b7f07846ee85ac10f9fd38ea68": {
      "model_module": "@jupyter-widgets/controls",
      "model_module_version": "2.0.0",
      "model_name": "TextareaModel",
      "state": {
       "description": "Host:",
       "layout": "IPY_MODEL_b92341c537304ae7859d25bbcdfd48b3",
       "placeholder": "Host",
       "style": "IPY_MODEL_f3227ee7940449d28770870ccf736205",
       "value": "umi-db.cobionix.com"
      }
     },
     "453dd86adc1f43fdaf48b0528e806b7a": {
      "model_module": "@jupyter-widgets/base",
      "model_module_version": "2.0.0",
      "model_name": "LayoutModel",
      "state": {}
     },
     "454071e296eb4a92938623df5a9f8d06": {
      "model_module": "@jupyter-widgets/controls",
      "model_module_version": "2.0.0",
      "model_name": "TextareaModel",
      "state": {
       "description": "Username:",
       "layout": "IPY_MODEL_7aad46c6d2a04d20a0309472d9cf5558",
       "placeholder": "Username",
       "style": "IPY_MODEL_d2614a3f746b47348a907ef9e7aeaee6",
       "value": "UMIstaff"
      }
     },
     "46793917676246439b661ab5daf275ee": {
      "model_module": "@jupyter-widgets/controls",
      "model_module_version": "2.0.0",
      "model_name": "SliderStyleModel",
      "state": {
       "description_width": ""
      }
     },
     "48262949bf8f4a74854dc384f16bf208": {
      "model_module": "@jupyter-widgets/controls",
      "model_module_version": "2.0.0",
      "model_name": "TextareaModel",
      "state": {
       "description": "Host:",
       "layout": "IPY_MODEL_f9de4009b3ef4258b51bcf0fb3a25937",
       "placeholder": "Host",
       "style": "IPY_MODEL_f63391cf407d4ec6b00bfdf688b7202c",
       "value": "x.com"
      }
     },
     "48edb1a996254528a317481686914f8f": {
      "model_module": "@jupyter-widgets/controls",
      "model_module_version": "2.0.0",
      "model_name": "ToggleButtonStyleModel",
      "state": {
       "description_width": "",
       "font_family": null,
       "font_size": null,
       "font_style": null,
       "font_variant": null,
       "font_weight": null,
       "text_color": null,
       "text_decoration": null
      }
     },
     "4a20351d815d40d1b9cb2a5d94e518cc": {
      "model_module": "@jupyter-widgets/base",
      "model_module_version": "2.0.0",
      "model_name": "LayoutModel",
      "state": {}
     },
     "4a7087c0ad2d4a3d9dbb14c1d54792cb": {
      "model_module": "@jupyter-widgets/controls",
      "model_module_version": "2.0.0",
      "model_name": "ButtonModel",
      "state": {
       "button_style": "info",
       "description": "Fetch Data",
       "layout": "IPY_MODEL_b475aa61c8f746ffa1887515b12c42c2",
       "style": "IPY_MODEL_99a484c075e648a5b3f887aaddb97de8",
       "tooltip": null
      }
     },
     "4c8d59c06f26460bb3394fba170e9079": {
      "model_module": "@jupyter-widgets/controls",
      "model_module_version": "2.0.0",
      "model_name": "ButtonStyleModel",
      "state": {
       "font_family": null,
       "font_size": null,
       "font_style": null,
       "font_variant": null,
       "font_weight": null,
       "text_color": null,
       "text_decoration": null
      }
     },
     "4d089cfa0ab141d18769cfbb46ab4f68": {
      "model_module": "@jupyter-widgets/controls",
      "model_module_version": "2.0.0",
      "model_name": "TextareaModel",
      "state": {
       "description": "Database:",
       "layout": "IPY_MODEL_e5c622b9b7324b4199df28d99e3ba41c",
       "placeholder": "Database",
       "style": "IPY_MODEL_3a30e01ef5d94574960472b1e2b9d674",
       "value": "Graphene"
      }
     },
     "4e257371489b4287a893690a6bc09b42": {
      "model_module": "@jupyter-widgets/controls",
      "model_module_version": "2.0.0",
      "model_name": "TextStyleModel",
      "state": {
       "description_width": "",
       "font_size": null,
       "text_color": null
      }
     },
     "529d52a62e3a4c159a003a77d0b287b4": {
      "model_module": "@jupyter-widgets/controls",
      "model_module_version": "2.0.0",
      "model_name": "IntSliderModel",
      "state": {
       "behavior": "drag-tap",
       "continuous_update": false,
       "description": "Max Cols:",
       "layout": "IPY_MODEL_ecd1623ffa3344e285f653d72880b806",
       "style": "IPY_MODEL_853b1348c977447783f2e870ae57827c",
       "value": 30
      }
     },
     "53d5f4896eb443738a7acda19e740489": {
      "model_module": "@jupyter-widgets/base",
      "model_module_version": "2.0.0",
      "model_name": "LayoutModel",
      "state": {}
     },
     "554a43247eab466bb0197c3d9c8979d5": {
      "model_module": "@jupyter-widgets/base",
      "model_module_version": "2.0.0",
      "model_name": "LayoutModel",
      "state": {}
     },
     "565abdbcc84147409a7f640130596483": {
      "model_module": "@jupyter-widgets/controls",
      "model_module_version": "2.0.0",
      "model_name": "ToggleButtonModel",
      "state": {
       "description": "Export Data",
       "icon": "check",
       "layout": "IPY_MODEL_b39615c513c0469fb167e4eea8f70652",
       "style": "IPY_MODEL_4136b43b3a874d3ea467f5d83ad9685a",
       "tooltip": "Description"
      }
     },
     "56645b654589493dabea298d6b5fb7c4": {
      "model_module": "@jupyter-widgets/base",
      "model_module_version": "2.0.0",
      "model_name": "LayoutModel",
      "state": {}
     },
     "575542d5cf3e4b3c9fcf3ec20e009ec1": {
      "model_module": "@jupyter-widgets/base",
      "model_module_version": "2.0.0",
      "model_name": "LayoutModel",
      "state": {}
     },
     "583b1ffd551546c28428e205696daa8a": {
      "model_module": "@jupyter-widgets/controls",
      "model_module_version": "2.0.0",
      "model_name": "ToggleButtonStyleModel",
      "state": {
       "description_width": "",
       "font_family": null,
       "font_size": null,
       "font_style": null,
       "font_variant": null,
       "font_weight": null,
       "text_color": null,
       "text_decoration": null
      }
     },
     "587f550cec71471db868c96dfaa91dd1": {
      "model_module": "@jupyter-widgets/base",
      "model_module_version": "2.0.0",
      "model_name": "LayoutModel",
      "state": {}
     },
     "593168b3b53c46709a27688a46c64708": {
      "model_module": "@jupyter-widgets/base",
      "model_module_version": "2.0.0",
      "model_name": "LayoutModel",
      "state": {}
     },
     "59b65a4554d04f2184c81b9a7e00dc15": {
      "model_module": "@jupyter-widgets/base",
      "model_module_version": "2.0.0",
      "model_name": "LayoutModel",
      "state": {}
     },
     "5b0c7b77270741b7924939e16f61fb7b": {
      "model_module": "@jupyter-widgets/base",
      "model_module_version": "2.0.0",
      "model_name": "LayoutModel",
      "state": {}
     },
     "5b639ab63e504b3889d11122cb21e5b3": {
      "model_module": "@jupyter-widgets/base",
      "model_module_version": "2.0.0",
      "model_name": "LayoutModel",
      "state": {}
     },
     "5c25eb8ad42743afb9297b69b83ebfa8": {
      "model_module": "@jupyter-widgets/output",
      "model_module_version": "1.0.0",
      "model_name": "OutputModel",
      "state": {
       "layout": "IPY_MODEL_56645b654589493dabea298d6b5fb7c4",
       "outputs": [
        {
         "data": {
          "text/plain": "'Successful connection to umi_db.cobionix.com'"
         },
         "metadata": {},
         "output_type": "display_data"
        },
        {
         "data": {
          "text/plain": "'Successful connection to umi_db.cobionix.com'"
         },
         "metadata": {},
         "output_type": "display_data"
        },
        {
         "data": {
          "text/plain": "'Successful connection to umi_db.cobionix.com'"
         },
         "metadata": {},
         "output_type": "display_data"
        },
        {
         "data": {
          "text/plain": "'Successful connection to umi_db.cobionix.com'"
         },
         "metadata": {},
         "output_type": "display_data"
        },
        {
         "data": {
          "text/plain": "'Successful connection to umi_db.cobionix.com'"
         },
         "metadata": {},
         "output_type": "display_data"
        },
        {
         "data": {
          "text/plain": "'Successful connection to umi_db.cobionix.com'"
         },
         "metadata": {},
         "output_type": "display_data"
        },
        {
         "data": {
          "text/plain": "'Successful connection to umi_db.cobionix.com'"
         },
         "metadata": {},
         "output_type": "display_data"
        }
       ]
      }
     },
     "5cf1a2e9779c411188dd4b23e43fb11f": {
      "model_module": "@jupyter-widgets/controls",
      "model_module_version": "2.0.0",
      "model_name": "ButtonModel",
      "state": {
       "button_style": "info",
       "description": "Fetch Data",
       "layout": "IPY_MODEL_5b0c7b77270741b7924939e16f61fb7b",
       "style": "IPY_MODEL_91274e5237844b74a8b58a4bdeb43f7a",
       "tooltip": null
      }
     },
     "5d69c21384194657b777054a3e0b0d9d": {
      "model_module": "@jupyter-widgets/controls",
      "model_module_version": "2.0.0",
      "model_name": "ToggleButtonModel",
      "state": {
       "description": "Include related tree samples",
       "icon": "check",
       "layout": "IPY_MODEL_6d4fc02989354bf78ede64878eca0926",
       "style": "IPY_MODEL_cba37c86ce044d51ac595ae1c86b5bc9",
       "tooltip": "Description"
      }
     },
     "5eb9bd97e4b445bc979be4d095d2bd1f": {
      "model_module": "@jupyter-widgets/controls",
      "model_module_version": "2.0.0",
      "model_name": "TextareaModel",
      "state": {
       "description": "Host:",
       "layout": "IPY_MODEL_152c0ce728b4435d9c49fe6a700fde5a",
       "placeholder": "Host",
       "style": "IPY_MODEL_eedd0db153e54eb08ba50931edf8ff5a",
       "value": "umi_db.cobionix.com"
      }
     },
     "60df371056984fe8864cff3a70b74411": {
      "model_module": "@jupyter-widgets/base",
      "model_module_version": "2.0.0",
      "model_name": "LayoutModel",
      "state": {}
     },
     "618b7970fd704c9c93cc18c924a39bbc": {
      "model_module": "@jupyter-widgets/controls",
      "model_module_version": "2.0.0",
      "model_name": "TextStyleModel",
      "state": {
       "description_width": "",
       "font_size": null,
       "text_color": null
      }
     },
     "61d855ffcf414d518bd06965f29e21a5": {
      "model_module": "@jupyter-widgets/base",
      "model_module_version": "2.0.0",
      "model_name": "LayoutModel",
      "state": {}
     },
     "61de11293f7a4215911e5e079fadb3fc": {
      "model_module": "@jupyter-widgets/base",
      "model_module_version": "2.0.0",
      "model_name": "LayoutModel",
      "state": {}
     },
     "61e61214e14049efb62a284eec69fcf3": {
      "model_module": "@jupyter-widgets/controls",
      "model_module_version": "2.0.0",
      "model_name": "TextStyleModel",
      "state": {
       "description_width": "",
       "font_size": null,
       "text_color": null
      }
     },
     "62761bb78a634e89981015622924031e": {
      "model_module": "@jupyter-widgets/controls",
      "model_module_version": "2.0.0",
      "model_name": "ButtonModel",
      "state": {
       "button_style": "info",
       "description": "Test Connection",
       "layout": "IPY_MODEL_25bd876f1e9340a08d8fcfed7f684c4c",
       "style": "IPY_MODEL_e94c553e0f024c9d915e7d3170143b21",
       "tooltip": null
      }
     },
     "628bbde48306483a9acc8554a78e702b": {
      "model_module": "@jupyter-widgets/base",
      "model_module_version": "2.0.0",
      "model_name": "LayoutModel",
      "state": {}
     },
     "62d95405e91f4dc280e4c2e918c9d582": {
      "model_module": "@jupyter-widgets/base",
      "model_module_version": "2.0.0",
      "model_name": "LayoutModel",
      "state": {}
     },
     "630704c489c84857ad89649fd5bd71af": {
      "model_module": "@jupyter-widgets/base",
      "model_module_version": "2.0.0",
      "model_name": "LayoutModel",
      "state": {}
     },
     "647e41da18af4bc797cf73b6d722a2de": {
      "model_module": "@jupyter-widgets/base",
      "model_module_version": "2.0.0",
      "model_name": "LayoutModel",
      "state": {}
     },
     "667700a260ee4d5482a8a938a5ace622": {
      "model_module": "@jupyter-widgets/controls",
      "model_module_version": "2.0.0",
      "model_name": "TextStyleModel",
      "state": {
       "description_width": "",
       "font_size": null,
       "text_color": null
      }
     },
     "6685c8e0b5db449aa1666aab60b83c4c": {
      "model_module": "@jupyter-widgets/base",
      "model_module_version": "2.0.0",
      "model_name": "LayoutModel",
      "state": {}
     },
     "669f448d280846a38afb1d41f47b5609": {
      "model_module": "@jupyter-widgets/base",
      "model_module_version": "2.0.0",
      "model_name": "LayoutModel",
      "state": {}
     },
     "67df16837e38451ba5cc1329f2615146": {
      "model_module": "@jupyter-widgets/controls",
      "model_module_version": "2.0.0",
      "model_name": "ButtonModel",
      "state": {
       "button_style": "info",
       "description": "Fetch Data",
       "layout": "IPY_MODEL_cd333302d3b840f3935a46f83c764205",
       "style": "IPY_MODEL_06201e8e8baa4c718acdb41db36682e1",
       "tooltip": null
      }
     },
     "68efed80b3ef407e8cb31a2b92a194bf": {
      "model_module": "@jupyter-widgets/base",
      "model_module_version": "2.0.0",
      "model_name": "LayoutModel",
      "state": {}
     },
     "6a4ec793b40b405b96e069b6efe4ade6": {
      "model_module": "@jupyter-widgets/controls",
      "model_module_version": "2.0.0",
      "model_name": "IntSliderModel",
      "state": {
       "behavior": "drag-tap",
       "continuous_update": false,
       "description": "Max Rows:",
       "layout": "IPY_MODEL_630704c489c84857ad89649fd5bd71af",
       "max": 50,
       "style": "IPY_MODEL_3fae7106b6304346b51f79578daa6575",
       "value": 10
      }
     },
     "6b7aa749243e4b03a1185344e5ad9162": {
      "model_module": "@jupyter-widgets/controls",
      "model_module_version": "2.0.0",
      "model_name": "ButtonStyleModel",
      "state": {
       "font_family": null,
       "font_size": null,
       "font_style": null,
       "font_variant": null,
       "font_weight": null,
       "text_color": null,
       "text_decoration": null
      }
     },
     "6b80fae9b1c2432f9e699ea4298396f6": {
      "model_module": "@jupyter-widgets/output",
      "model_module_version": "1.0.0",
      "model_name": "OutputModel",
      "state": {
       "layout": "IPY_MODEL_d132f9ae6b434f0ca9effd7fb8ee2966",
       "outputs": [
        {
         "data": {
          "text/plain": "'Trying....'"
         },
         "metadata": {},
         "output_type": "display_data"
        },
        {
         "data": {
          "text/plain": "'Connection unsuccessful. Try again with the correct information'"
         },
         "metadata": {},
         "output_type": "display_data"
        }
       ]
      }
     },
     "6bec14d89aa24ec0bc6208a1359c3db8": {
      "model_module": "@jupyter-widgets/controls",
      "model_module_version": "2.0.0",
      "model_name": "TextareaModel",
      "state": {
       "description": "Batch IDs:",
       "layout": "IPY_MODEL_4a20351d815d40d1b9cb2a5d94e518cc",
       "placeholder": "Input multiple batches separated by a comma",
       "style": "IPY_MODEL_667700a260ee4d5482a8a938a5ace622"
      }
     },
     "6d4fc02989354bf78ede64878eca0926": {
      "model_module": "@jupyter-widgets/base",
      "model_module_version": "2.0.0",
      "model_name": "LayoutModel",
      "state": {}
     },
     "6e04f09ad8cf4587a414eec68581d341": {
      "model_module": "@jupyter-widgets/output",
      "model_module_version": "1.0.0",
      "model_name": "OutputModel",
      "state": {
       "layout": "IPY_MODEL_a11c9b2d12ef4741b328403145232a66",
       "outputs": [
        {
         "data": {
          "text/plain": "'Successful connection to umi_db.cobionix.com'"
         },
         "metadata": {},
         "output_type": "display_data"
        },
        {
         "data": {
          "text/plain": "'Successful connection to umi_db.cobionix.com'"
         },
         "metadata": {},
         "output_type": "display_data"
        },
        {
         "data": {
          "text/plain": "'Successful connection to umi_db.cobionix.com'"
         },
         "metadata": {},
         "output_type": "display_data"
        }
       ]
      }
     },
     "71c95640a90d4e39ba99eff7738b12a8": {
      "model_module": "@jupyter-widgets/controls",
      "model_module_version": "2.0.0",
      "model_name": "ButtonModel",
      "state": {
       "button_style": "info",
       "description": "Test Connection",
       "layout": "IPY_MODEL_3ec64e66e60b49e4b4f2307f6de9bd3e",
       "style": "IPY_MODEL_35873317091e4b2db24182fdafc5cb5a",
       "tooltip": null
      }
     },
     "71e342ed68e04c83b2fad96f821d8c61": {
      "model_module": "@jupyter-widgets/controls",
      "model_module_version": "2.0.0",
      "model_name": "ToggleButtonStyleModel",
      "state": {
       "description_width": "",
       "font_family": null,
       "font_size": null,
       "font_style": null,
       "font_variant": null,
       "font_weight": null,
       "text_color": null,
       "text_decoration": null
      }
     },
     "71f991fbdf364d28aa66a31a9aeb8c04": {
      "model_module": "@jupyter-widgets/output",
      "model_module_version": "1.0.0",
      "model_name": "OutputModel",
      "state": {
       "layout": "IPY_MODEL_647e41da18af4bc797cf73b6d722a2de"
      }
     },
     "725bf392f1ce4e05b893c8a543121f29": {
      "model_module": "@jupyter-widgets/controls",
      "model_module_version": "2.0.0",
      "model_name": "ToggleButtonModel",
      "state": {
       "description": "Include related tree samples",
       "icon": "check",
       "layout": "IPY_MODEL_7d7bde4750b44a86a9260c236a35cef7",
       "style": "IPY_MODEL_48edb1a996254528a317481686914f8f",
       "tooltip": "Description"
      }
     },
     "73cfbd78b835489691de7989e23c2889": {
      "model_module": "@jupyter-widgets/output",
      "model_module_version": "1.0.0",
      "model_name": "OutputModel",
      "state": {
       "layout": "IPY_MODEL_68efed80b3ef407e8cb31a2b92a194bf",
       "outputs": [
        {
         "ename": "TypeError",
         "evalue": "unsupported operand type(s) for &: 'str' and 'str'",
         "output_type": "error",
         "traceback": [
          "\u001b[1;31m---------------------------------------------------------------------------\u001b[0m",
          "\u001b[1;31mTypeError\u001b[0m                                 Traceback (most recent call last)",
          "Cell \u001b[1;32mIn [28], line 28\u001b[0m, in \u001b[0;36mtestConnection\u001b[1;34m(b)\u001b[0m\n\u001b[0;32m     26\u001b[0m     \u001b[38;5;28mprint\u001b[39m(result)\n\u001b[0;32m     27\u001b[0m \u001b[38;5;28;01mwith\u001b[39;00m testOutputBox:\n\u001b[1;32m---> 28\u001b[0m     display(\u001b[38;5;124;43m\"\u001b[39;49m\u001b[38;5;124;43mSuccessful connection to \u001b[39;49m\u001b[38;5;124;43m\"\u001b[39;49m\u001b[38;5;241;43m&\u001b[39;49m\u001b[43mhosttxt\u001b[49m)\n\u001b[0;32m     29\u001b[0m \u001b[38;5;28;01mreturn\u001b[39;00m(result)\n",
          "\u001b[1;31mTypeError\u001b[0m: unsupported operand type(s) for &: 'str' and 'str'"
         ]
        },
        {
         "ename": "TypeError",
         "evalue": "unsupported operand type(s) for &: 'str' and 'str'",
         "output_type": "error",
         "traceback": [
          "\u001b[1;31m---------------------------------------------------------------------------\u001b[0m",
          "\u001b[1;31mTypeError\u001b[0m                                 Traceback (most recent call last)",
          "Cell \u001b[1;32mIn [28], line 28\u001b[0m, in \u001b[0;36mtestConnection\u001b[1;34m(b)\u001b[0m\n\u001b[0;32m     26\u001b[0m     \u001b[38;5;28mprint\u001b[39m(result)\n\u001b[0;32m     27\u001b[0m \u001b[38;5;28;01mwith\u001b[39;00m testOutputBox:\n\u001b[1;32m---> 28\u001b[0m     display(\u001b[38;5;124;43m\"\u001b[39;49m\u001b[38;5;124;43mSuccessful connection to \u001b[39;49m\u001b[38;5;124;43m\"\u001b[39;49m\u001b[38;5;241;43m&\u001b[39;49m\u001b[43mhosttxt\u001b[49m)\n\u001b[0;32m     29\u001b[0m \u001b[38;5;28;01mreturn\u001b[39;00m(result)\n",
          "\u001b[1;31mTypeError\u001b[0m: unsupported operand type(s) for &: 'str' and 'str'"
         ]
        }
       ]
      }
     },
     "7671a289f38e4f798f6c19b5046f900f": {
      "model_module": "@jupyter-widgets/base",
      "model_module_version": "2.0.0",
      "model_name": "LayoutModel",
      "state": {}
     },
     "795c567730c84926b761efdff8a6af31": {
      "model_module": "@jupyter-widgets/controls",
      "model_module_version": "2.0.0",
      "model_name": "SliderStyleModel",
      "state": {
       "description_width": ""
      }
     },
     "79d536c043b946af842f21e15ea74087": {
      "model_module": "@jupyter-widgets/controls",
      "model_module_version": "2.0.0",
      "model_name": "TextareaModel",
      "state": {
       "description": "Password:",
       "layout": "IPY_MODEL_2f06bfe6195142f7a1e699bb4f66657a",
       "placeholder": "Password",
       "style": "IPY_MODEL_cc9b4698b23e414fad6d8092da6ec835"
      }
     },
     "7aad46c6d2a04d20a0309472d9cf5558": {
      "model_module": "@jupyter-widgets/base",
      "model_module_version": "2.0.0",
      "model_name": "LayoutModel",
      "state": {}
     },
     "7d04efa3e92d4c3aa18993743e1712d4": {
      "model_module": "@jupyter-widgets/controls",
      "model_module_version": "2.0.0",
      "model_name": "TextareaModel",
      "state": {
       "description": "Username:",
       "layout": "IPY_MODEL_f280e2c5ce9c445c965a556db32c4fc9",
       "placeholder": "Username",
       "style": "IPY_MODEL_ad941cee87b14cc29c4ca3178e08e720"
      }
     },
     "7d4adc580ea84419aee3b6b421134a82": {
      "model_module": "@jupyter-widgets/controls",
      "model_module_version": "2.0.0",
      "model_name": "HTMLModel",
      "state": {
       "layout": "IPY_MODEL_c7463b40d2d44909a6db7f5afeb8ab40",
       "placeholder": "Some HTML",
       "style": "IPY_MODEL_da8e7c090a174c7ea9ef1655284e6514",
       "value": "C:/Users/AidanO'Gorman/OneDrive - Universal Matter/Shared Documents/Technology/Prod Dev - TG Processing/Milling/AttritionMillData.xlsx"
      }
     },
     "7d7bde4750b44a86a9260c236a35cef7": {
      "model_module": "@jupyter-widgets/base",
      "model_module_version": "2.0.0",
      "model_name": "LayoutModel",
      "state": {}
     },
     "7d81bc58ad4d48f58557d5d783b52608": {
      "model_module": "@jupyter-widgets/controls",
      "model_module_version": "2.0.0",
      "model_name": "TextStyleModel",
      "state": {
       "description_width": "",
       "font_size": null,
       "text_color": null
      }
     },
     "7f3822b29e564bb196a0fb91f1d24039": {
      "model_module": "@jupyter-widgets/base",
      "model_module_version": "2.0.0",
      "model_name": "LayoutModel",
      "state": {}
     },
     "7f6b68d176a7487f9fa546aae9495659": {
      "model_module": "@jupyter-widgets/controls",
      "model_module_version": "2.0.0",
      "model_name": "ButtonModel",
      "state": {
       "button_style": "info",
       "description": "Test Connection",
       "layout": "IPY_MODEL_6685c8e0b5db449aa1666aab60b83c4c",
       "style": "IPY_MODEL_b23a43eb136147c99811260a356a2970",
       "tooltip": null
      }
     },
     "7fc2b0af1bdb47008c873d240af11dcf": {
      "model_module": "@jupyter-widgets/controls",
      "model_module_version": "2.0.0",
      "model_name": "ButtonModel",
      "state": {
       "button_style": "info",
       "description": "Test Connection",
       "layout": "IPY_MODEL_e6f07a61eacc4ffdbac997dfc459448d",
       "style": "IPY_MODEL_8e9a6a5a99ad486086d8a4c55dd9d682",
       "tooltip": null
      }
     },
     "8179aaf0a97a467cbac9a49acbde79c2": {
      "model_module": "@jupyter-widgets/controls",
      "model_module_version": "2.0.0",
      "model_name": "TextStyleModel",
      "state": {
       "description_width": "",
       "font_size": null,
       "text_color": null
      }
     },
     "81bfac60e88b4fdf8a05daa3413446a7": {
      "model_module": "@jupyter-widgets/base",
      "model_module_version": "2.0.0",
      "model_name": "LayoutModel",
      "state": {}
     },
     "81ef84a2b2fe4893a7714469b5d7c527": {
      "model_module": "@jupyter-widgets/base",
      "model_module_version": "2.0.0",
      "model_name": "LayoutModel",
      "state": {}
     },
     "81f94557c4ba4ff7b777b7dc6e4ae623": {
      "model_module": "@jupyter-widgets/base",
      "model_module_version": "2.0.0",
      "model_name": "LayoutModel",
      "state": {}
     },
     "82260807c332408884efc0a28eafe0be": {
      "model_module": "@jupyter-widgets/controls",
      "model_module_version": "2.0.0",
      "model_name": "TextStyleModel",
      "state": {
       "description_width": "",
       "font_size": null,
       "text_color": null
      }
     },
     "8371d6baf9c94346a2e2a39182255394": {
      "model_module": "@jupyter-widgets/controls",
      "model_module_version": "2.0.0",
      "model_name": "ButtonStyleModel",
      "state": {
       "font_family": null,
       "font_size": null,
       "font_style": null,
       "font_variant": null,
       "font_weight": null,
       "text_color": null,
       "text_decoration": null
      }
     },
     "8455089d82ca45db83a6e80342addedb": {
      "model_module": "@jupyter-widgets/controls",
      "model_module_version": "2.0.0",
      "model_name": "TextareaModel",
      "state": {
       "description": "Username:",
       "layout": "IPY_MODEL_ebb63b2ce7e14caf8358947dc5dd020e",
       "placeholder": "Username",
       "style": "IPY_MODEL_e8be5b34de294acf8ac1d5110f012a5c",
       "value": "UMIstaff"
      }
     },
     "84b1868182cf4332a5c7c85a607b7462": {
      "model_module": "@jupyter-widgets/output",
      "model_module_version": "1.0.0",
      "model_name": "OutputModel",
      "state": {
       "layout": "IPY_MODEL_9f4d13091b474ddfacd07b901ff6692a"
      }
     },
     "84ce2b1dd896452984e245a106350a1d": {
      "model_module": "@jupyter-widgets/controls",
      "model_module_version": "2.0.0",
      "model_name": "TextareaModel",
      "state": {
       "description": "Password:",
       "layout": "IPY_MODEL_a994c2071a854853a6a0faed90254e9b",
       "placeholder": "Password",
       "style": "IPY_MODEL_c59a607f630f47aca1bd7f478c4fff03",
       "value": "GrapheneIsEverything!1"
      }
     },
     "853b1348c977447783f2e870ae57827c": {
      "model_module": "@jupyter-widgets/controls",
      "model_module_version": "2.0.0",
      "model_name": "SliderStyleModel",
      "state": {
       "description_width": ""
      }
     },
     "8608241ce80347cbb4e53b03bec922e7": {
      "model_module": "@jupyter-widgets/controls",
      "model_module_version": "2.0.0",
      "model_name": "HTMLModel",
      "state": {
       "layout": "IPY_MODEL_86b030d7da6947a88202d1d866a011e5",
       "style": "IPY_MODEL_fc5c2ee457154e1897db868486fb01a6",
       "value": "\n### Ability to use advanced search features\n\nmodify the statement in sql and cursor.execute based on what the desired filtrations are - in this case its related to identifying attrition mill materials\n"
      }
     },
     "86b030d7da6947a88202d1d866a011e5": {
      "model_module": "@jupyter-widgets/base",
      "model_module_version": "2.0.0",
      "model_name": "LayoutModel",
      "state": {}
     },
     "877a9209cf5a42ccb8f124a6aa8216f7": {
      "model_module": "@jupyter-widgets/controls",
      "model_module_version": "2.0.0",
      "model_name": "TextareaModel",
      "state": {
       "description": "Password:",
       "layout": "IPY_MODEL_9a8a136d6cfc49819a789c8f545c8e50",
       "placeholder": "Password",
       "style": "IPY_MODEL_b86ff6ad2ef548438534c17493760494"
      }
     },
     "89649473002249ebaaf1673efc8d048b": {
      "model_module": "@jupyter-widgets/controls",
      "model_module_version": "2.0.0",
      "model_name": "ButtonModel",
      "state": {
       "button_style": "info",
       "description": "Fetch Data",
       "layout": "IPY_MODEL_ba5a4de893a140aca9fe0cf2436f5c32",
       "style": "IPY_MODEL_17a4e592ce5b4526bb1c8cb1a1f3512d",
       "tooltip": null
      }
     },
     "8a3b532d11574cf083461644b0b1aec0": {
      "model_module": "@jupyter-widgets/controls",
      "model_module_version": "2.0.0",
      "model_name": "ButtonStyleModel",
      "state": {
       "font_family": null,
       "font_size": null,
       "font_style": null,
       "font_variant": null,
       "font_weight": null,
       "text_color": null,
       "text_decoration": null
      }
     },
     "8af6b65606dd4956bf4b7f5e73fa6f1e": {
      "model_module": "@jupyter-widgets/controls",
      "model_module_version": "2.0.0",
      "model_name": "TextStyleModel",
      "state": {
       "description_width": "",
       "font_size": null,
       "text_color": null
      }
     },
     "8dc9b504773040759286a37ab0897fda": {
      "model_module": "@jupyter-widgets/controls",
      "model_module_version": "2.0.0",
      "model_name": "IntSliderModel",
      "state": {
       "behavior": "drag-tap",
       "continuous_update": false,
       "description": "Max Cols:",
       "layout": "IPY_MODEL_c65a003b137648c19c3521738dfbbdde",
       "style": "IPY_MODEL_46793917676246439b661ab5daf275ee",
       "value": 30
      }
     },
     "8e9a6a5a99ad486086d8a4c55dd9d682": {
      "model_module": "@jupyter-widgets/controls",
      "model_module_version": "2.0.0",
      "model_name": "ButtonStyleModel",
      "state": {
       "font_family": null,
       "font_size": null,
       "font_style": null,
       "font_variant": null,
       "font_weight": null,
       "text_color": null,
       "text_decoration": null
      }
     },
     "8f4f2c1e7da34148bd1f6fc682de81ba": {
      "model_module": "@jupyter-widgets/base",
      "model_module_version": "2.0.0",
      "model_name": "LayoutModel",
      "state": {}
     },
     "8fbb00d79b894374bc050eb5d491c2c8": {
      "model_module": "@jupyter-widgets/controls",
      "model_module_version": "2.0.0",
      "model_name": "SliderStyleModel",
      "state": {
       "description_width": ""
      }
     },
     "9030f70b8d1a4f7b9ea2107568b755bc": {
      "model_module": "@jupyter-widgets/controls",
      "model_module_version": "2.0.0",
      "model_name": "IntSliderModel",
      "state": {
       "behavior": "drag-tap",
       "continuous_update": false,
       "description": "Max Rows:",
       "layout": "IPY_MODEL_c5a6c9914f1448e2a0af842e621089c7",
       "max": 50,
       "style": "IPY_MODEL_f5a806e673bd41bdb2a71e2db2b049d7",
       "value": 10
      }
     },
     "91274e5237844b74a8b58a4bdeb43f7a": {
      "model_module": "@jupyter-widgets/controls",
      "model_module_version": "2.0.0",
      "model_name": "ButtonStyleModel",
      "state": {
       "font_family": null,
       "font_size": null,
       "font_style": null,
       "font_variant": null,
       "font_weight": null,
       "text_color": null,
       "text_decoration": null
      }
     },
     "95e8c95dffa3440a960a07ff9c9192f0": {
      "model_module": "@jupyter-widgets/controls",
      "model_module_version": "2.0.0",
      "model_name": "ToggleButtonModel",
      "state": {
       "description": "Include all files",
       "icon": "check",
       "layout": "IPY_MODEL_60df371056984fe8864cff3a70b74411",
       "style": "IPY_MODEL_71e342ed68e04c83b2fad96f821d8c61",
       "tooltip": "Description"
      }
     },
     "9801002d277443548701730c7bfacf07": {
      "model_module": "@jupyter-widgets/controls",
      "model_module_version": "2.0.0",
      "model_name": "TextStyleModel",
      "state": {
       "description_width": "",
       "font_size": null,
       "text_color": null
      }
     },
     "9895e57521d64f3b97eff4f6761b5815": {
      "model_module": "@jupyter-widgets/controls",
      "model_module_version": "2.0.0",
      "model_name": "ToggleButtonStyleModel",
      "state": {
       "description_width": "",
       "font_family": null,
       "font_size": null,
       "font_style": null,
       "font_variant": null,
       "font_weight": null,
       "text_color": null,
       "text_decoration": null
      }
     },
     "99a484c075e648a5b3f887aaddb97de8": {
      "model_module": "@jupyter-widgets/controls",
      "model_module_version": "2.0.0",
      "model_name": "ButtonStyleModel",
      "state": {
       "font_family": null,
       "font_size": null,
       "font_style": null,
       "font_variant": null,
       "font_weight": null,
       "text_color": null,
       "text_decoration": null
      }
     },
     "9a8a136d6cfc49819a789c8f545c8e50": {
      "model_module": "@jupyter-widgets/base",
      "model_module_version": "2.0.0",
      "model_name": "LayoutModel",
      "state": {}
     },
     "9ac89a18736b45d19ff1d555b1171d75": {
      "model_module": "@jupyter-widgets/base",
      "model_module_version": "2.0.0",
      "model_name": "LayoutModel",
      "state": {}
     },
     "9bf9ced7a9604561b52dd2bf5abb9467": {
      "model_module": "@jupyter-widgets/controls",
      "model_module_version": "2.0.0",
      "model_name": "ButtonStyleModel",
      "state": {
       "font_family": null,
       "font_size": null,
       "font_style": null,
       "font_variant": null,
       "font_weight": null,
       "text_color": null,
       "text_decoration": null
      }
     },
     "9c6f92955f2e48a0ad7ad1c849f3f98d": {
      "model_module": "@jupyter-widgets/base",
      "model_module_version": "2.0.0",
      "model_name": "LayoutModel",
      "state": {}
     },
     "9cc699023e884436a74fafc209d0a68e": {
      "model_module": "@jupyter-widgets/base",
      "model_module_version": "2.0.0",
      "model_name": "LayoutModel",
      "state": {}
     },
     "9df5978ef4154855a0fcf84bd44188dc": {
      "model_module": "@jupyter-widgets/base",
      "model_module_version": "2.0.0",
      "model_name": "LayoutModel",
      "state": {}
     },
     "9e04ffa02e6a4d4baf31df21de55ab49": {
      "model_module": "@jupyter-widgets/base",
      "model_module_version": "2.0.0",
      "model_name": "LayoutModel",
      "state": {}
     },
     "9eba3f3efa694071acf4311cc2f2d1c2": {
      "model_module": "@jupyter-widgets/output",
      "model_module_version": "1.0.0",
      "model_name": "OutputModel",
      "state": {
       "layout": "IPY_MODEL_ac4cc5f544da406384b882647edce65a"
      }
     },
     "9f4d13091b474ddfacd07b901ff6692a": {
      "model_module": "@jupyter-widgets/base",
      "model_module_version": "2.0.0",
      "model_name": "LayoutModel",
      "state": {}
     },
     "a11c9b2d12ef4741b328403145232a66": {
      "model_module": "@jupyter-widgets/base",
      "model_module_version": "2.0.0",
      "model_name": "LayoutModel",
      "state": {}
     },
     "a24ce3388c0e44cca6500b3b6c23ca27": {
      "model_module": "@jupyter-widgets/base",
      "model_module_version": "2.0.0",
      "model_name": "LayoutModel",
      "state": {}
     },
     "a4660e4731f14fcea59abbd688ce89a2": {
      "model_module": "@jupyter-widgets/controls",
      "model_module_version": "2.0.0",
      "model_name": "HTMLStyleModel",
      "state": {
       "description_width": "",
       "font_size": null,
       "text_color": null
      }
     },
     "a60b400846b8494ca08a14e625ad7867": {
      "model_module": "@jupyter-widgets/base",
      "model_module_version": "2.0.0",
      "model_name": "LayoutModel",
      "state": {}
     },
     "a6b78dabb4084839a47726dfcc57b1df": {
      "model_module": "@jupyter-widgets/output",
      "model_module_version": "1.0.0",
      "model_name": "OutputModel",
      "state": {
       "layout": "IPY_MODEL_9df5978ef4154855a0fcf84bd44188dc"
      }
     },
     "a8995f4c611b49fe86bdc2ee10d52286": {
      "model_module": "@jupyter-widgets/controls",
      "model_module_version": "2.0.0",
      "model_name": "TextStyleModel",
      "state": {
       "description_width": "",
       "font_size": null,
       "text_color": null
      }
     },
     "a994c2071a854853a6a0faed90254e9b": {
      "model_module": "@jupyter-widgets/base",
      "model_module_version": "2.0.0",
      "model_name": "LayoutModel",
      "state": {}
     },
     "abe2b8146ecc423994cdc963fc6ce908": {
      "model_module": "@jupyter-widgets/controls",
      "model_module_version": "2.0.0",
      "model_name": "TextStyleModel",
      "state": {
       "description_width": "",
       "font_size": null,
       "text_color": null
      }
     },
     "ac4cc5f544da406384b882647edce65a": {
      "model_module": "@jupyter-widgets/base",
      "model_module_version": "2.0.0",
      "model_name": "LayoutModel",
      "state": {}
     },
     "acaba03cd39548b69f25cbffb5dffbfb": {
      "model_module": "@jupyter-widgets/base",
      "model_module_version": "2.0.0",
      "model_name": "LayoutModel",
      "state": {}
     },
     "ad84c230c8ed418eb349f96e0974f6a9": {
      "model_module": "@jupyter-widgets/controls",
      "model_module_version": "2.0.0",
      "model_name": "TextStyleModel",
      "state": {
       "description_width": "",
       "font_size": null,
       "text_color": null
      }
     },
     "ad941cee87b14cc29c4ca3178e08e720": {
      "model_module": "@jupyter-widgets/controls",
      "model_module_version": "2.0.0",
      "model_name": "TextStyleModel",
      "state": {
       "description_width": "",
       "font_size": null,
       "text_color": null
      }
     },
     "af35194345714b6a9eff16bef5f542cd": {
      "model_module": "@jupyter-widgets/controls",
      "model_module_version": "2.0.0",
      "model_name": "ButtonModel",
      "state": {
       "button_style": "info",
       "description": "Test Connection",
       "layout": "IPY_MODEL_9c6f92955f2e48a0ad7ad1c849f3f98d",
       "style": "IPY_MODEL_399621fd596e4695972416d8beae5654",
       "tooltip": null
      }
     },
     "afcc48af140f4594bd260022eda96508": {
      "model_module": "@jupyter-widgets/output",
      "model_module_version": "1.0.0",
      "model_name": "OutputModel",
      "state": {
       "layout": "IPY_MODEL_0f48a6e0a8054ede8bb3cc0e8470a877",
       "outputs": [
        {
         "data": {
          "text/plain": "'Successful connection to umi_db.cobionix.com'"
         },
         "metadata": {},
         "output_type": "display_data"
        },
        {
         "data": {
          "text/plain": "'Successful connection to umi_db.cobionix.com'"
         },
         "metadata": {},
         "output_type": "display_data"
        },
        {
         "data": {
          "text/plain": "'Successful connection to umi_db.cobionix.com'"
         },
         "metadata": {},
         "output_type": "display_data"
        }
       ]
      }
     },
     "b0370b12d8704ae6937508f9a8862cac": {
      "model_module": "@jupyter-widgets/base",
      "model_module_version": "2.0.0",
      "model_name": "LayoutModel",
      "state": {}
     },
     "b0ad83c86b624dbbbffea47204ce42e6": {
      "model_module": "@jupyter-widgets/controls",
      "model_module_version": "2.0.0",
      "model_name": "ButtonStyleModel",
      "state": {
       "font_family": null,
       "font_size": null,
       "font_style": null,
       "font_variant": null,
       "font_weight": null,
       "text_color": null,
       "text_decoration": null
      }
     },
     "b23a43eb136147c99811260a356a2970": {
      "model_module": "@jupyter-widgets/controls",
      "model_module_version": "2.0.0",
      "model_name": "ButtonStyleModel",
      "state": {
       "font_family": null,
       "font_size": null,
       "font_style": null,
       "font_variant": null,
       "font_weight": null,
       "text_color": null,
       "text_decoration": null
      }
     },
     "b3662aa3ef7843d39c8248b023e06aab": {
      "model_module": "@jupyter-widgets/base",
      "model_module_version": "2.0.0",
      "model_name": "LayoutModel",
      "state": {}
     },
     "b39615c513c0469fb167e4eea8f70652": {
      "model_module": "@jupyter-widgets/base",
      "model_module_version": "2.0.0",
      "model_name": "LayoutModel",
      "state": {}
     },
     "b46e87dc69364501b5e46bfa84c91112": {
      "model_module": "@jupyter-widgets/base",
      "model_module_version": "2.0.0",
      "model_name": "LayoutModel",
      "state": {}
     },
     "b475aa61c8f746ffa1887515b12c42c2": {
      "model_module": "@jupyter-widgets/base",
      "model_module_version": "2.0.0",
      "model_name": "LayoutModel",
      "state": {}
     },
     "b86ff6ad2ef548438534c17493760494": {
      "model_module": "@jupyter-widgets/controls",
      "model_module_version": "2.0.0",
      "model_name": "TextStyleModel",
      "state": {
       "description_width": "",
       "font_size": null,
       "text_color": null
      }
     },
     "b92341c537304ae7859d25bbcdfd48b3": {
      "model_module": "@jupyter-widgets/base",
      "model_module_version": "2.0.0",
      "model_name": "LayoutModel",
      "state": {}
     },
     "ba5a4de893a140aca9fe0cf2436f5c32": {
      "model_module": "@jupyter-widgets/base",
      "model_module_version": "2.0.0",
      "model_name": "LayoutModel",
      "state": {}
     },
     "ba7e36dac51742e58fabcbae6e133a22": {
      "model_module": "@jupyter-widgets/controls",
      "model_module_version": "2.0.0",
      "model_name": "ButtonModel",
      "state": {
       "button_style": "info",
       "description": "Fetch Data",
       "layout": "IPY_MODEL_2bbad2dffef54f9fbcbd64a0316dfbbd",
       "style": "IPY_MODEL_1ac959ca625e479784da8f36c2a4c35b",
       "tooltip": null
      }
     },
     "bb2b85970afe48d2b1ff7664d7bddf1c": {
      "model_module": "@jupyter-widgets/base",
      "model_module_version": "2.0.0",
      "model_name": "LayoutModel",
      "state": {}
     },
     "bc408697a1fa41539956cd56c1e94aaa": {
      "model_module": "@jupyter-widgets/controls",
      "model_module_version": "2.0.0",
      "model_name": "TextStyleModel",
      "state": {
       "description_width": "",
       "font_size": null,
       "text_color": null
      }
     },
     "bce14c2de9334ad6ab644f8634940ddc": {
      "model_module": "@jupyter-widgets/controls",
      "model_module_version": "2.0.0",
      "model_name": "TextareaModel",
      "state": {
       "description": "Database:",
       "layout": "IPY_MODEL_acaba03cd39548b69f25cbffb5dffbfb",
       "placeholder": "Database",
       "style": "IPY_MODEL_c09363bfe5004ba4a02f43734d6d1445"
      }
     },
     "beddda1b113d46609521e27c55af0d28": {
      "model_module": "@jupyter-widgets/base",
      "model_module_version": "2.0.0",
      "model_name": "LayoutModel",
      "state": {}
     },
     "c09363bfe5004ba4a02f43734d6d1445": {
      "model_module": "@jupyter-widgets/controls",
      "model_module_version": "2.0.0",
      "model_name": "TextStyleModel",
      "state": {
       "description_width": "",
       "font_size": null,
       "text_color": null
      }
     },
     "c29dbea3e3134fc39c84280da471b4a3": {
      "model_module": "@jupyter-widgets/base",
      "model_module_version": "2.0.0",
      "model_name": "LayoutModel",
      "state": {}
     },
     "c59a607f630f47aca1bd7f478c4fff03": {
      "model_module": "@jupyter-widgets/controls",
      "model_module_version": "2.0.0",
      "model_name": "TextStyleModel",
      "state": {
       "description_width": "",
       "font_size": null,
       "text_color": null
      }
     },
     "c5a6c9914f1448e2a0af842e621089c7": {
      "model_module": "@jupyter-widgets/base",
      "model_module_version": "2.0.0",
      "model_name": "LayoutModel",
      "state": {}
     },
     "c5acb357054f46a0b64b9fa9cf7df896": {
      "model_module": "@jupyter-widgets/base",
      "model_module_version": "2.0.0",
      "model_name": "LayoutModel",
      "state": {}
     },
     "c65a003b137648c19c3521738dfbbdde": {
      "model_module": "@jupyter-widgets/base",
      "model_module_version": "2.0.0",
      "model_name": "LayoutModel",
      "state": {}
     },
     "c7463b40d2d44909a6db7f5afeb8ab40": {
      "model_module": "@jupyter-widgets/base",
      "model_module_version": "2.0.0",
      "model_name": "LayoutModel",
      "state": {}
     },
     "c8f321cde10a4b31a6acb5ba48099419": {
      "model_module": "@jupyter-widgets/controls",
      "model_module_version": "2.0.0",
      "model_name": "TextStyleModel",
      "state": {
       "description_width": "",
       "font_size": null,
       "text_color": null
      }
     },
     "cac1837798e74a459cfbd60889af0157": {
      "model_module": "@jupyter-widgets/controls",
      "model_module_version": "2.0.0",
      "model_name": "TextareaModel",
      "state": {
       "description": "Database:",
       "layout": "IPY_MODEL_1ef7515ccfb349c9be7e26dba0f8b78d",
       "placeholder": "Database",
       "style": "IPY_MODEL_8179aaf0a97a467cbac9a49acbde79c2"
      }
     },
     "cb677ea9c2a0427f919a44e783b4a8a0": {
      "model_module": "@jupyter-widgets/controls",
      "model_module_version": "2.0.0",
      "model_name": "SliderStyleModel",
      "state": {
       "description_width": ""
      }
     },
     "cb9c784d09cf480a9e8b62ccb86ea054": {
      "model_module": "@jupyter-widgets/controls",
      "model_module_version": "2.0.0",
      "model_name": "IntSliderModel",
      "state": {
       "behavior": "drag-tap",
       "continuous_update": false,
       "description": "Max Rows:",
       "layout": "IPY_MODEL_61de11293f7a4215911e5e079fadb3fc",
       "max": 50,
       "style": "IPY_MODEL_cb677ea9c2a0427f919a44e783b4a8a0",
       "value": 10
      }
     },
     "cba37c86ce044d51ac595ae1c86b5bc9": {
      "model_module": "@jupyter-widgets/controls",
      "model_module_version": "2.0.0",
      "model_name": "ToggleButtonStyleModel",
      "state": {
       "description_width": "",
       "font_family": null,
       "font_size": null,
       "font_style": null,
       "font_variant": null,
       "font_weight": null,
       "text_color": null,
       "text_decoration": null
      }
     },
     "cba88eeaddcd408081e5984280b16946": {
      "model_module": "@jupyter-widgets/controls",
      "model_module_version": "2.0.0",
      "model_name": "TextStyleModel",
      "state": {
       "description_width": "",
       "font_size": null,
       "text_color": null
      }
     },
     "cc9b4698b23e414fad6d8092da6ec835": {
      "model_module": "@jupyter-widgets/controls",
      "model_module_version": "2.0.0",
      "model_name": "TextStyleModel",
      "state": {
       "description_width": "",
       "font_size": null,
       "text_color": null
      }
     },
     "cd333302d3b840f3935a46f83c764205": {
      "model_module": "@jupyter-widgets/base",
      "model_module_version": "2.0.0",
      "model_name": "LayoutModel",
      "state": {}
     },
     "ce6435b6f51d48bfb523594c5932b646": {
      "model_module": "@jupyter-widgets/controls",
      "model_module_version": "2.0.0",
      "model_name": "TextStyleModel",
      "state": {
       "description_width": "",
       "font_size": null,
       "text_color": null
      }
     },
     "ceff581a3d5f43079c7fa3819a0f3ac2": {
      "model_module": "@jupyter-widgets/output",
      "model_module_version": "1.0.0",
      "model_name": "OutputModel",
      "state": {
       "layout": "IPY_MODEL_ef7eafac89544fa1954bb538656cde56"
      }
     },
     "cfa5bcffb420462e87a880da944cb51e": {
      "model_module": "@jupyter-widgets/controls",
      "model_module_version": "2.0.0",
      "model_name": "HTMLModel",
      "state": {
       "layout": "IPY_MODEL_7f3822b29e564bb196a0fb91f1d24039",
       "style": "IPY_MODEL_a4660e4731f14fcea59abbd688ce89a2",
       "value": "\n### Ability to use advanced search features\n\nmodify the statement in sql and cursor.execute based on what the desired filtrations are - in this case its related to identifying attrition mill materials\n"
      }
     },
     "d04646bb29c74c3a978a9b0178ef7f88": {
      "model_module": "@jupyter-widgets/output",
      "model_module_version": "1.0.0",
      "model_name": "OutputModel",
      "state": {
       "layout": "IPY_MODEL_c29dbea3e3134fc39c84280da471b4a3",
       "outputs": [
        {
         "data": {
          "text/plain": "'Trying....'"
         },
         "metadata": {},
         "output_type": "display_data"
        },
        {
         "data": {
          "text/plain": "'Connection unsuccessful. Try again with the correct information'"
         },
         "metadata": {},
         "output_type": "display_data"
        }
       ]
      }
     },
     "d132f9ae6b434f0ca9effd7fb8ee2966": {
      "model_module": "@jupyter-widgets/base",
      "model_module_version": "2.0.0",
      "model_name": "LayoutModel",
      "state": {}
     },
     "d22c5f062c1b4123b6333898770f3891": {
      "model_module": "@jupyter-widgets/base",
      "model_module_version": "2.0.0",
      "model_name": "LayoutModel",
      "state": {}
     },
     "d2614a3f746b47348a907ef9e7aeaee6": {
      "model_module": "@jupyter-widgets/controls",
      "model_module_version": "2.0.0",
      "model_name": "TextStyleModel",
      "state": {
       "description_width": "",
       "font_size": null,
       "text_color": null
      }
     },
     "d2fc25840210488b990ff5b23b397401": {
      "model_module": "@jupyter-widgets/controls",
      "model_module_version": "2.0.0",
      "model_name": "ToggleButtonModel",
      "state": {
       "description": "Include all tests",
       "icon": "check",
       "layout": "IPY_MODEL_b3662aa3ef7843d39c8248b023e06aab",
       "style": "IPY_MODEL_583b1ffd551546c28428e205696daa8a",
       "tooltip": "Description"
      }
     },
     "d51305f2ba5549c5a597ee43be0b8375": {
      "model_module": "@jupyter-widgets/controls",
      "model_module_version": "2.0.0",
      "model_name": "ButtonModel",
      "state": {
       "button_style": "info",
       "description": "Test Connection",
       "layout": "IPY_MODEL_59b65a4554d04f2184c81b9a7e00dc15",
       "style": "IPY_MODEL_ecf1b8127a7b49b7a3e5728dd4c16463",
       "tooltip": null
      }
     },
     "d6634fe4e2ad461189161a5681560b3d": {
      "model_module": "@jupyter-widgets/controls",
      "model_module_version": "2.0.0",
      "model_name": "TextareaModel",
      "state": {
       "description": "Database:",
       "layout": "IPY_MODEL_061e2415e69246c8ab88c27f7c8c1e89",
       "placeholder": "Database",
       "style": "IPY_MODEL_dfb01f6ab8c34c46bd5f48648896976f"
      }
     },
     "d6be87cb797e4e72ad5c559ffbba5ace": {
      "model_module": "@jupyter-widgets/output",
      "model_module_version": "1.0.0",
      "model_name": "OutputModel",
      "state": {
       "layout": "IPY_MODEL_a24ce3388c0e44cca6500b3b6c23ca27"
      }
     },
     "d80fdf6ac3d1449cb0052563337ccc6c": {
      "model_module": "@jupyter-widgets/controls",
      "model_module_version": "2.0.0",
      "model_name": "HTMLModel",
      "state": {
       "layout": "IPY_MODEL_3a951128a6c644a19173de21e9234db9",
       "style": "IPY_MODEL_d8bf0119a84d48c19820d6e18108b4ff",
       "value": "\n### Ability to use advanced search features\n\nmodify the statement in sql and cursor.execute based on what the desired filtrations are - in this case its related to identifying attrition mill materials\n"
      }
     },
     "d8bf0119a84d48c19820d6e18108b4ff": {
      "model_module": "@jupyter-widgets/controls",
      "model_module_version": "2.0.0",
      "model_name": "HTMLStyleModel",
      "state": {
       "description_width": "",
       "font_size": null,
       "text_color": null
      }
     },
     "da8e7c090a174c7ea9ef1655284e6514": {
      "model_module": "@jupyter-widgets/controls",
      "model_module_version": "2.0.0",
      "model_name": "HTMLStyleModel",
      "state": {
       "description_width": "",
       "font_size": null,
       "text_color": null
      }
     },
     "db8fe364d1064134a9a827b49b0e4dd2": {
      "model_module": "@jupyter-widgets/controls",
      "model_module_version": "2.0.0",
      "model_name": "HTMLStyleModel",
      "state": {
       "description_width": "",
       "font_size": null,
       "text_color": null
      }
     },
     "de07c368100b4816b7c48fe448f81a67": {
      "model_module": "@jupyter-widgets/base",
      "model_module_version": "2.0.0",
      "model_name": "LayoutModel",
      "state": {}
     },
     "df650b65c6884ec0ac9018caa20dea9d": {
      "model_module": "@jupyter-widgets/controls",
      "model_module_version": "2.0.0",
      "model_name": "TextareaModel",
      "state": {
       "description": "Host:",
       "layout": "IPY_MODEL_bb2b85970afe48d2b1ff7664d7bddf1c",
       "placeholder": "Host",
       "style": "IPY_MODEL_f9303ed9ae574f7fa11e02937ea8c30d"
      }
     },
     "dfb01f6ab8c34c46bd5f48648896976f": {
      "model_module": "@jupyter-widgets/controls",
      "model_module_version": "2.0.0",
      "model_name": "TextStyleModel",
      "state": {
       "description_width": "",
       "font_size": null,
       "text_color": null
      }
     },
     "dfd219580db14f8c932c6694893569d4": {
      "model_module": "@jupyter-widgets/controls",
      "model_module_version": "2.0.0",
      "model_name": "HTMLModel",
      "state": {
       "layout": "IPY_MODEL_62d95405e91f4dc280e4c2e918c9d582",
       "style": "IPY_MODEL_1306d20a078b4d0aa4f01ebfaff8e712",
       "value": "\n### Interactive Batch Data Viewer\n\nThis notebook allows you to select a material type and a batch ID to retrieve relevant batch information.\nSimply select the material type from the dropdown, enter the batch ID, and click the 'Fetch Data' button to view the details.\n"
      }
     },
     "e486aae889a3444b82345a0104863c29": {
      "model_module": "@jupyter-widgets/output",
      "model_module_version": "1.0.0",
      "model_name": "OutputModel",
      "state": {
       "layout": "IPY_MODEL_554a43247eab466bb0197c3d9c8979d5",
       "outputs": [
        {
         "data": {
          "text/plain": "'Successful connection to umi_db.cobionix.com'"
         },
         "metadata": {},
         "output_type": "display_data"
        },
        {
         "data": {
          "text/plain": "'Successful connection to umi_db.cobionix.com'"
         },
         "metadata": {},
         "output_type": "display_data"
        },
        {
         "data": {
          "text/plain": "'Successful connection to umi_db.cobionix.com'"
         },
         "metadata": {},
         "output_type": "display_data"
        }
       ]
      }
     },
     "e5c07041dfc54d778b567159eeb7dec3": {
      "model_module": "@jupyter-widgets/controls",
      "model_module_version": "2.0.0",
      "model_name": "SliderStyleModel",
      "state": {
       "description_width": ""
      }
     },
     "e5c622b9b7324b4199df28d99e3ba41c": {
      "model_module": "@jupyter-widgets/base",
      "model_module_version": "2.0.0",
      "model_name": "LayoutModel",
      "state": {}
     },
     "e6f07a61eacc4ffdbac997dfc459448d": {
      "model_module": "@jupyter-widgets/base",
      "model_module_version": "2.0.0",
      "model_name": "LayoutModel",
      "state": {}
     },
     "e760f8c3708c46238c4a0ea60f05a01e": {
      "model_module": "@jupyter-widgets/base",
      "model_module_version": "2.0.0",
      "model_name": "LayoutModel",
      "state": {}
     },
     "e7bb6716a0d341808a06334c66e8f882": {
      "model_module": "@jupyter-widgets/controls",
      "model_module_version": "2.0.0",
      "model_name": "TextareaModel",
      "state": {
       "description": "Batch IDs:",
       "layout": "IPY_MODEL_beddda1b113d46609521e27c55af0d28",
       "placeholder": "Input multiple batches separated by a comma",
       "style": "IPY_MODEL_61e61214e14049efb62a284eec69fcf3",
       "value": "gp-696"
      }
     },
     "e878f101b34f4c8ab0d2699df6970140": {
      "model_module": "@jupyter-widgets/output",
      "model_module_version": "1.0.0",
      "model_name": "OutputModel",
      "state": {
       "layout": "IPY_MODEL_9cc699023e884436a74fafc209d0a68e",
       "outputs": [
        {
         "name": "stdout",
         "output_type": "stream",
         "text": "{('gp', '696')}\n"
        },
        {
         "data": {
          "text/html": "<div>\n<style scoped>\n    .dataframe tbody tr th:only-of-type {\n        vertical-align: middle;\n    }\n\n    .dataframe tbody tr th {\n        vertical-align: top;\n    }\n\n    .dataframe thead th {\n        text-align: right;\n    }\n</style>\n<table border=\"1\" class=\"dataframe\">\n  <thead>\n    <tr style=\"text-align: right;\">\n      <th></th>\n      <th>ID</th>\n      <th>Name</th>\n      <th>massUsed</th>\n      <th>usedUp?</th>\n      <th>rCreationDateTime</th>\n      <th>rModificationDateTime</th>\n      <th>operatorName</th>\n      <th>operatorEmail</th>\n      <th>notes</th>\n      <th>feedstockName</th>\n      <th>trees</th>\n      <th>processingTool</th>\n      <th>processingInfo</th>\n      <th>BET</th>\n      <th>microporeVol</th>\n      <th>microporeArea</th>\n      <th>D/G</th>\n      <th>2D/G</th>\n      <th>CT</th>\n      <th>dT</th>\n      <th>Residue (%)</th>\n      <th>MV</th>\n      <th>MN</th>\n      <th>D99</th>\n      <th>Material Type</th>\n    </tr>\n  </thead>\n  <tbody>\n    <tr>\n      <th>0</th>\n      <td>696</td>\n      <td>SD1 Run 16 - H181 N990</td>\n      <td>0.000</td>\n      <td>0</td>\n      <td>2023-05-15 13:42:00</td>\n      <td>2023-05-15 13:42:00</td>\n      <td>Lab PC</td>\n      <td>lab@universalmatter.com</td>\n      <td>None</td>\n      <td>N990</td>\n      <td>gp-696 / f-597 / f-596 / f-595 / f-594 / fp-58...</td>\n      <td>SD1Attrition Mill</td>\n      <td>Milling Speed: 500.000 [RPM], Duration: 120.00...</td>\n      <td>353.471</td>\n      <td>0.050</td>\n      <td>104.092</td>\n      <td>0.871</td>\n      <td>0.441</td>\n      <td>758.252</td>\n      <td>183.649</td>\n      <td>-0.020</td>\n      <td>1.130</td>\n      <td>1.037</td>\n      <td>1.671</td>\n      <td>gp</td>\n    </tr>\n  </tbody>\n</table>\n</div>",
          "text/plain": "    ID                    Name massUsed  usedUp?   rCreationDateTime  \\\n0  696  SD1 Run 16 - H181 N990    0.000        0 2023-05-15 13:42:00   \n\n  rModificationDateTime operatorName            operatorEmail notes  \\\n0   2023-05-15 13:42:00       Lab PC  lab@universalmatter.com  None   \n\n  feedstockName                                              trees  \\\n0          N990  gp-696 / f-597 / f-596 / f-595 / f-594 / fp-58...   \n\n      processingTool                                     processingInfo  \\\n0  SD1Attrition Mill  Milling Speed: 500.000 [RPM], Duration: 120.00...   \n\n       BET microporeVol microporeArea    D/G   2D/G       CT       dT  \\\n0  353.471        0.050       104.092  0.871  0.441  758.252  183.649   \n\n  Residue (%)     MV     MN    D99 Material Type  \n0      -0.020  1.130  1.037  1.671            gp  "
         },
         "metadata": {},
         "output_type": "display_data"
        }
       ]
      }
     },
     "e8be5b34de294acf8ac1d5110f012a5c": {
      "model_module": "@jupyter-widgets/controls",
      "model_module_version": "2.0.0",
      "model_name": "TextStyleModel",
      "state": {
       "description_width": "",
       "font_size": null,
       "text_color": null
      }
     },
     "e94c553e0f024c9d915e7d3170143b21": {
      "model_module": "@jupyter-widgets/controls",
      "model_module_version": "2.0.0",
      "model_name": "ButtonStyleModel",
      "state": {
       "font_family": null,
       "font_size": null,
       "font_style": null,
       "font_variant": null,
       "font_weight": null,
       "text_color": null,
       "text_decoration": null
      }
     },
     "eafa3d9f66564472b76fa9aea8c806bc": {
      "model_module": "@jupyter-widgets/controls",
      "model_module_version": "2.0.0",
      "model_name": "ButtonModel",
      "state": {
       "button_style": "info",
       "description": "Test Connection",
       "layout": "IPY_MODEL_d22c5f062c1b4123b6333898770f3891",
       "style": "IPY_MODEL_f1cc006101e54e658cdaafaf566930bf",
       "tooltip": null
      }
     },
     "ebb63b2ce7e14caf8358947dc5dd020e": {
      "model_module": "@jupyter-widgets/base",
      "model_module_version": "2.0.0",
      "model_name": "LayoutModel",
      "state": {}
     },
     "ec6076c6ee19471ebf0953c912f98ebf": {
      "model_module": "@jupyter-widgets/controls",
      "model_module_version": "2.0.0",
      "model_name": "ToggleButtonStyleModel",
      "state": {
       "description_width": "",
       "font_family": null,
       "font_size": null,
       "font_style": null,
       "font_variant": null,
       "font_weight": null,
       "text_color": null,
       "text_decoration": null
      }
     },
     "ecd1623ffa3344e285f653d72880b806": {
      "model_module": "@jupyter-widgets/base",
      "model_module_version": "2.0.0",
      "model_name": "LayoutModel",
      "state": {}
     },
     "ecf1b8127a7b49b7a3e5728dd4c16463": {
      "model_module": "@jupyter-widgets/controls",
      "model_module_version": "2.0.0",
      "model_name": "ButtonStyleModel",
      "state": {
       "font_family": null,
       "font_size": null,
       "font_style": null,
       "font_variant": null,
       "font_weight": null,
       "text_color": null,
       "text_decoration": null
      }
     },
     "ed51d8c6566d4312b9b80385411b8b06": {
      "model_module": "@jupyter-widgets/base",
      "model_module_version": "2.0.0",
      "model_name": "LayoutModel",
      "state": {}
     },
     "ee9f1a1be73a4eddae6e35537668b50d": {
      "model_module": "@jupyter-widgets/controls",
      "model_module_version": "2.0.0",
      "model_name": "TextareaModel",
      "state": {
       "description": "Password:",
       "layout": "IPY_MODEL_7671a289f38e4f798f6c19b5046f900f",
       "placeholder": "Password",
       "style": "IPY_MODEL_3d9fd1ef48ae46b8a44bb87481940128",
       "value": "GrapheneIsEverything!1"
      }
     },
     "eeb2f61686104b72b3eda3b6af7230bf": {
      "model_module": "@jupyter-widgets/base",
      "model_module_version": "2.0.0",
      "model_name": "LayoutModel",
      "state": {}
     },
     "eedd0db153e54eb08ba50931edf8ff5a": {
      "model_module": "@jupyter-widgets/controls",
      "model_module_version": "2.0.0",
      "model_name": "TextStyleModel",
      "state": {
       "description_width": "",
       "font_size": null,
       "text_color": null
      }
     },
     "ef7eafac89544fa1954bb538656cde56": {
      "model_module": "@jupyter-widgets/base",
      "model_module_version": "2.0.0",
      "model_name": "LayoutModel",
      "state": {}
     },
     "efe0acb2ce17402a92a81ff6bca3bb66": {
      "model_module": "@jupyter-widgets/controls",
      "model_module_version": "2.0.0",
      "model_name": "TextareaModel",
      "state": {
       "description": "Host:",
       "layout": "IPY_MODEL_327f8826242647f48305c32bc69bed49",
       "placeholder": "Host",
       "style": "IPY_MODEL_618b7970fd704c9c93cc18c924a39bbc",
       "value": "umi_db.cobionix.com"
      }
     },
     "f08da7ec29484e50a2b2d36e98402a09": {
      "model_module": "@jupyter-widgets/controls",
      "model_module_version": "2.0.0",
      "model_name": "TextareaModel",
      "state": {
       "description": "Password:",
       "layout": "IPY_MODEL_9e04ffa02e6a4d4baf31df21de55ab49",
       "placeholder": "Password",
       "style": "IPY_MODEL_7d81bc58ad4d48f58557d5d783b52608",
       "value": "GrapheneIsEverything!1"
      }
     },
     "f1cc006101e54e658cdaafaf566930bf": {
      "model_module": "@jupyter-widgets/controls",
      "model_module_version": "2.0.0",
      "model_name": "ButtonStyleModel",
      "state": {
       "font_family": null,
       "font_size": null,
       "font_style": null,
       "font_variant": null,
       "font_weight": null,
       "text_color": null,
       "text_decoration": null
      }
     },
     "f280e2c5ce9c445c965a556db32c4fc9": {
      "model_module": "@jupyter-widgets/base",
      "model_module_version": "2.0.0",
      "model_name": "LayoutModel",
      "state": {}
     },
     "f3227ee7940449d28770870ccf736205": {
      "model_module": "@jupyter-widgets/controls",
      "model_module_version": "2.0.0",
      "model_name": "TextStyleModel",
      "state": {
       "description_width": "",
       "font_size": null,
       "text_color": null
      }
     },
     "f3b9394a34f5457fa2fadc9daa766ee2": {
      "model_module": "@jupyter-widgets/controls",
      "model_module_version": "2.0.0",
      "model_name": "TextStyleModel",
      "state": {
       "description_width": "",
       "font_size": null,
       "text_color": null
      }
     },
     "f5a806e673bd41bdb2a71e2db2b049d7": {
      "model_module": "@jupyter-widgets/controls",
      "model_module_version": "2.0.0",
      "model_name": "SliderStyleModel",
      "state": {
       "description_width": ""
      }
     },
     "f63391cf407d4ec6b00bfdf688b7202c": {
      "model_module": "@jupyter-widgets/controls",
      "model_module_version": "2.0.0",
      "model_name": "TextStyleModel",
      "state": {
       "description_width": "",
       "font_size": null,
       "text_color": null
      }
     },
     "f664ef43beb24a8cae4faf2bc42fb0fa": {
      "model_module": "@jupyter-widgets/controls",
      "model_module_version": "2.0.0",
      "model_name": "HTMLStyleModel",
      "state": {
       "description_width": "",
       "font_size": null,
       "text_color": null
      }
     },
     "f73be404a4c7455395ad6113918916c4": {
      "model_module": "@jupyter-widgets/base",
      "model_module_version": "2.0.0",
      "model_name": "LayoutModel",
      "state": {}
     },
     "f80c6ef4c1e24249a53e339beadcde7d": {
      "model_module": "@jupyter-widgets/controls",
      "model_module_version": "2.0.0",
      "model_name": "ButtonModel",
      "state": {
       "button_style": "info",
       "description": "Fetch Data",
       "layout": "IPY_MODEL_0be0f343e2f34d95804f850aa2a8b8b8",
       "style": "IPY_MODEL_21c52f519b54448aa57fbc7f8bf7135f",
       "tooltip": null
      }
     },
     "f83a3cb158324a1fa97c78986fa5ed0e": {
      "model_module": "@jupyter-widgets/controls",
      "model_module_version": "2.0.0",
      "model_name": "IntSliderModel",
      "state": {
       "behavior": "drag-tap",
       "continuous_update": false,
       "description": "Max Display Rows:",
       "layout": "IPY_MODEL_53d5f4896eb443738a7acda19e740489",
       "max": 50,
       "style": "IPY_MODEL_e5c07041dfc54d778b567159eeb7dec3",
       "value": 10
      }
     },
     "f8c7a730c3da4baabc36314d2ebef9c2": {
      "model_module": "@jupyter-widgets/base",
      "model_module_version": "2.0.0",
      "model_name": "LayoutModel",
      "state": {}
     },
     "f9303ed9ae574f7fa11e02937ea8c30d": {
      "model_module": "@jupyter-widgets/controls",
      "model_module_version": "2.0.0",
      "model_name": "TextStyleModel",
      "state": {
       "description_width": "",
       "font_size": null,
       "text_color": null
      }
     },
     "f9de4009b3ef4258b51bcf0fb3a25937": {
      "model_module": "@jupyter-widgets/base",
      "model_module_version": "2.0.0",
      "model_name": "LayoutModel",
      "state": {}
     },
     "f9f8d4fd6ff849578b86a06f423e49ea": {
      "model_module": "@jupyter-widgets/controls",
      "model_module_version": "2.0.0",
      "model_name": "TextareaModel",
      "state": {
       "description": "Database:",
       "layout": "IPY_MODEL_f8c7a730c3da4baabc36314d2ebef9c2",
       "placeholder": "C:/Users/AidanO'Gorman/OneDrive - Universal Matter/Shared Documents/Technology/Prod Dev - TG Processing/Milling/AttritionMillData.xlsx",
       "style": "IPY_MODEL_bc408697a1fa41539956cd56c1e94aaa"
      }
     },
     "fa3366a3d3ba49f9b21c9a84edbae39b": {
      "model_module": "@jupyter-widgets/controls",
      "model_module_version": "2.0.0",
      "model_name": "TextareaModel",
      "state": {
       "description": "Database:",
       "layout": "IPY_MODEL_b0370b12d8704ae6937508f9a8862cac",
       "placeholder": "Database",
       "style": "IPY_MODEL_8af6b65606dd4956bf4b7f5e73fa6f1e",
       "value": "Graphene"
      }
     },
     "fc5c2ee457154e1897db868486fb01a6": {
      "model_module": "@jupyter-widgets/controls",
      "model_module_version": "2.0.0",
      "model_name": "HTMLStyleModel",
      "state": {
       "description_width": "",
       "font_size": null,
       "text_color": null
      }
     },
     "fd08da1b1c8f4a0ca77ea383495ac523": {
      "model_module": "@jupyter-widgets/controls",
      "model_module_version": "2.0.0",
      "model_name": "ToggleButtonModel",
      "state": {
       "description": "Include all files",
       "icon": "check",
       "layout": "IPY_MODEL_628bbde48306483a9acc8554a78e702b",
       "style": "IPY_MODEL_ec6076c6ee19471ebf0953c912f98ebf",
       "tooltip": "Description"
      }
     }
    },
    "version_major": 2,
    "version_minor": 0
   }
  }
 },
 "nbformat": 4,
 "nbformat_minor": 5
}
