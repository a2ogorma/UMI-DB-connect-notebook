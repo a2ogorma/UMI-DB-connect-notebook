{
 "cells": [
  {
   "cell_type": "code",
   "execution_count": 1,
   "id": "72c6140a-8291-4baa-921a-585677972a2e",
   "metadata": {},
   "outputs": [],
   "source": [
    "import pymysql\n",
    "import ipywidgets as widgets\n",
    "import pandas as pd\n",
    "import glob\n",
    "import os\n",
    "# Import necessary libraries\n",
    "import ipywidgets as widgets\n",
    "from IPython.display import display, clear_output\n",
    "import pandas as pd\n",
    "import functools"
   ]
  },
  {
   "cell_type": "code",
   "execution_count": 11,
   "id": "94b75186-fd67-4b60-a5ed-675220189352",
   "metadata": {},
   "outputs": [
    {
     "data": {
      "application/vnd.jupyter.widget-view+json": {
       "model_id": "3ae2dd24566d44f3a32e93fcc4f826b2",
       "version_major": 2,
       "version_minor": 0
      },
      "text/plain": [
       "Textarea(value='', description='Username:', placeholder='Username')"
      ]
     },
     "metadata": {},
     "output_type": "display_data"
    },
    {
     "data": {
      "application/vnd.jupyter.widget-view+json": {
       "model_id": "3596c9813dde4f5ca69601b1cfb2177c",
       "version_major": 2,
       "version_minor": 0
      },
      "text/plain": [
       "Textarea(value='', description='Password:', placeholder='Password')"
      ]
     },
     "metadata": {},
     "output_type": "display_data"
    },
    {
     "data": {
      "application/vnd.jupyter.widget-view+json": {
       "model_id": "10854e2a0d8340be8aa99d64799fa0dc",
       "version_major": 2,
       "version_minor": 0
      },
      "text/plain": [
       "Textarea(value='', description='Host:', placeholder='Host')"
      ]
     },
     "metadata": {},
     "output_type": "display_data"
    },
    {
     "data": {
      "application/vnd.jupyter.widget-view+json": {
       "model_id": "bce14c2de9334ad6ab644f8634940ddc",
       "version_major": 2,
       "version_minor": 0
      },
      "text/plain": [
       "Textarea(value='', description='Database:', placeholder='Database')"
      ]
     },
     "metadata": {},
     "output_type": "display_data"
    }
   ],
   "source": [
    "\n",
    "user_input = widgets.Textarea(\n",
    "    placeholder='Username',\n",
    "    description='Username:',\n",
    "    disabled=False\n",
    ")\n",
    "password_input = widgets.Textarea(\n",
    "    placeholder='Password',\n",
    "    description='Password:',\n",
    "    disabled=False\n",
    ")\n",
    "host_input = widgets.Textarea(\n",
    "    placeholder='Host',\n",
    "    description='Host:',\n",
    "    disabled=False\n",
    ")\n",
    "database_input = widgets.Textarea(\n",
    "    placeholder='Database',\n",
    "    description='Database:',\n",
    "    disabled=False\n",
    ")\n",
    "display(user_input, password_input, host_input, database_input)"
   ]
  },
  {
   "cell_type": "code",
   "execution_count": 12,
   "id": "c34373c8-ab3b-4790-86cf-37ed8b4f669c",
   "metadata": {},
   "outputs": [
    {
     "name": "stdout",
     "output_type": "stream",
     "text": [
      "\n",
      "\n",
      "\n",
      "\n"
     ]
    }
   ],
   "source": [
    "username1 = user_input.value\n",
    "passwordtxt = password_input.value\n",
    "hosttxt = host_input.value\n",
    "databasetxt = database_input.value\n",
    "print(username1)\n",
    "print(passwordtxt)\n",
    "print(hosttxt)\n",
    "print(databasetxt)\n",
    "def get_db():\n",
    "    return pymysql.connect(host=hosttxt,\n",
    "                             user=username1,\n",
    "                             password=passwordtxt,\n",
    "                             database=databasetxt,\n",
    "                             cursorclass=pymysql.cursors.DictCursor)"
   ]
  },
  {
   "cell_type": "code",
   "execution_count": 20,
   "id": "c18d1c3c-10f7-4bc5-93e6-56cf0d71777b",
   "metadata": {},
   "outputs": [
    {
     "data": {
      "application/vnd.jupyter.widget-view+json": {
       "model_id": "7d4adc580ea84419aee3b6b421134a82",
       "version_major": 2,
       "version_minor": 0
      },
      "text/plain": [
       "HTML(value=\"C:/Users/AidanO'Gorman/OneDrive - Universal Matter/Shared Documents/Technology/Prod Dev - TG Proce…"
      ]
     },
     "metadata": {},
     "output_type": "display_data"
    },
    {
     "data": {
      "application/vnd.jupyter.widget-view+json": {
       "model_id": "0da21756aa63441f90bcb37c9ca84ad5",
       "version_major": 2,
       "version_minor": 0
      },
      "text/plain": [
       "Textarea(value='', description='File Path:', placeholder=\"C:/Users/AidanO'Gorman/OneDrive - Universal Matter/S…"
      ]
     },
     "metadata": {},
     "output_type": "display_data"
    },
    {
     "data": {
      "application/vnd.jupyter.widget-view+json": {
       "model_id": "6a4ec793b40b405b96e069b6efe4ade6",
       "version_major": 2,
       "version_minor": 0
      },
      "text/plain": [
       "IntSlider(value=10, continuous_update=False, description='Max Rows:', max=50)"
      ]
     },
     "metadata": {},
     "output_type": "display_data"
    },
    {
     "data": {
      "application/vnd.jupyter.widget-view+json": {
       "model_id": "8dc9b504773040759286a37ab0897fda",
       "version_major": 2,
       "version_minor": 0
      },
      "text/plain": [
       "IntSlider(value=30, continuous_update=False, description='Max Cols:')"
      ]
     },
     "metadata": {},
     "output_type": "display_data"
    }
   ],
   "source": [
    "# Specify the file path for Excel export\n",
    "path_input = widgets.Textarea(\n",
    "    placeholder=\"C:/Users/AidanO'Gorman/OneDrive - Universal Matter/Shared Documents/Technology/Prod Dev - TG Processing/Milling/AttritionMillData.xlsx\",\n",
    "    description='File Path:',\n",
    "    disabled=False\n",
    ")\n",
    "htmldisplay = widgets.HTML(\n",
    "    value=\"C:/Users/AidanO'Gorman/OneDrive - Universal Matter/Shared Documents/Technology/Prod Dev - TG Processing/Milling/AttritionMillData.xlsx\",\n",
    "    placeholder='Some HTML',\n",
    ")\n",
    "maxrow_input = widgets.IntSlider(\n",
    "    value=10,\n",
    "    min=0,\n",
    "    max=50,\n",
    "    step=1,\n",
    "    description='Max Rows:',\n",
    "    disabled=False,\n",
    "    continuous_update=False,\n",
    "    orientation='horizontal',\n",
    "    readout=True,\n",
    "    readout_format='d'\n",
    ")\n",
    "maxcol_input = widgets.IntSlider(\n",
    "    value=30,\n",
    "    min=0,\n",
    "    max=100,\n",
    "    step=1,\n",
    "    description='Max Cols:',\n",
    "    disabled=False,\n",
    "    continuous_update=False,\n",
    "    orientation='horizontal',\n",
    "    readout=True,\n",
    "    readout_format='d'\n",
    ")\n",
    "display(htmldisplay, path_input, maxrow_input, maxcol_input)\n",
    "# Export to Excel\n",
    "#with pd.ExcelWriter(excel_file_path) as writer:\n",
    "#    sort_df.to_excel(writer, sheet_name='Tests', index=False)\n",
    "#    files_df.to_excel(writer, sheet_name='Files', index=False)"
   ]
  },
  {
   "cell_type": "code",
   "execution_count": 130,
   "id": "0dad4819-f993-4c03-a140-46be49d1c376",
   "metadata": {
    "tags": []
   },
   "outputs": [
    {
     "data": {
      "application/vnd.jupyter.widget-view+json": {
       "model_id": "a759c64b3c6440d08a918c6111599bc1",
       "version_major": 2,
       "version_minor": 0
      },
      "text/plain": [
       "HTML(value=\"\\n### Interactive Batch Data Viewer\\n\\nThis notebook allows you to select a material type and a ba…"
      ]
     },
     "metadata": {},
     "output_type": "display_data"
    },
    {
     "data": {
      "application/vnd.jupyter.widget-view+json": {
       "model_id": "2cf50f7d4cc84e0ba64df83b799edc17",
       "version_major": 2,
       "version_minor": 0
      },
      "text/plain": [
       "Textarea(value='fp-1, f-1, gp-1, d-1', description='Batch IDs:', placeholder='Input multiple batches separated…"
      ]
     },
     "metadata": {},
     "output_type": "display_data"
    },
    {
     "data": {
      "application/vnd.jupyter.widget-view+json": {
       "model_id": "b5fb99d83e6d4c74a5eb685cc0ba1a38",
       "version_major": 2,
       "version_minor": 0
      },
      "text/plain": [
       "ToggleButton(value=False, description='Include related tree samples', icon='check', tooltip='Description')"
      ]
     },
     "metadata": {},
     "output_type": "display_data"
    },
    {
     "data": {
      "application/vnd.jupyter.widget-view+json": {
       "model_id": "6c725952e38144ff8b24d296845519cc",
       "version_major": 2,
       "version_minor": 0
      },
      "text/plain": [
       "ToggleButton(value=False, description='Include all files', icon='check', tooltip='Description')"
      ]
     },
     "metadata": {},
     "output_type": "display_data"
    },
    {
     "data": {
      "application/vnd.jupyter.widget-view+json": {
       "model_id": "deebc8e2270e407b8c23bb9794dd093f",
       "version_major": 2,
       "version_minor": 0
      },
      "text/plain": [
       "ToggleButton(value=False, description='Include all tests', icon='check', tooltip='Description')"
      ]
     },
     "metadata": {},
     "output_type": "display_data"
    },
    {
     "data": {
      "application/vnd.jupyter.widget-view+json": {
       "model_id": "98df93d4ba744cbcb85d4aeb8590565a",
       "version_major": 2,
       "version_minor": 0
      },
      "text/plain": [
       "ToggleButton(value=False, description='Export Data', icon='check', tooltip='Description')"
      ]
     },
     "metadata": {},
     "output_type": "display_data"
    },
    {
     "data": {
      "application/vnd.jupyter.widget-view+json": {
       "model_id": "17e03a4a2284454697fd76e6e8828268",
       "version_major": 2,
       "version_minor": 0
      },
      "text/plain": [
       "Button(button_style='info', description='Fetch Data', style=ButtonStyle())"
      ]
     },
     "metadata": {},
     "output_type": "display_data"
    },
    {
     "data": {
      "application/vnd.jupyter.widget-view+json": {
       "model_id": "fab13e6f474f499089d699c6e15603f8",
       "version_major": 2,
       "version_minor": 0
      },
      "text/plain": [
       "Output()"
      ]
     },
     "metadata": {},
     "output_type": "display_data"
    }
   ],
   "source": [
    "excel_file_path = path_input.value\n",
    "pd.set_option('display.max_rows', maxrow_input.value)\n",
    "pd.set_option('display.max_columns', maxcol_input.value)\n",
    "# Define the available material types and their corresponding batch information\n",
    "\n",
    "# Create widgets\n",
    "batchMultiple_input = widgets.Textarea(\n",
    "    value='fp-1, f-1, gp-1, d-1',\n",
    "    placeholder='Input multiple batches separated by a comma',\n",
    "    description='Batch IDs:',\n",
    "    disabled=False\n",
    ")\n",
    "output_box = widgets.Output()\n",
    "\n",
    "\n",
    "\n",
    "# Create interactive elements\n",
    "\n",
    "fetch_button = widgets.Button(\n",
    "    description='Fetch Data', button_style='info'\n",
    ")\n",
    "TreeCheck = widgets.ToggleButton(\n",
    "    value=False,\n",
    "    description='Include related tree samples',\n",
    "    disabled=False,\n",
    "    button_style='', # 'success', 'info', 'warning', 'danger' or ''\n",
    "    tooltip='Description',\n",
    "    icon='check'\n",
    ")\n",
    "FileCheck = widgets.ToggleButton(\n",
    "    value=False,\n",
    "    description='Include all files',\n",
    "    disabled=False,\n",
    "    button_style='', # 'success', 'info', 'warning', 'danger' or ''\n",
    "    tooltip='Description',\n",
    "    icon='check'\n",
    ")\n",
    "TestCheck = widgets.ToggleButton(\n",
    "    value=False,\n",
    "    description='Include all tests',\n",
    "    disabled=False,\n",
    "    button_style='', # 'success', 'info', 'warning', 'danger' or ''\n",
    "    tooltip='Description',\n",
    "    icon='check'\n",
    ")\n",
    "ExportCheck = widgets.ToggleButton(\n",
    "    value=False,\n",
    "    description='Export Data',\n",
    "    disabled=False,\n",
    "    button_style='', # 'success', 'info', 'warning', 'danger' or ''\n",
    "    tooltip='Description',\n",
    "    icon='check'\n",
    ")\n",
    "# Define functions to handle interaction\n",
    "def fetch_data(material_type, batch_id):\n",
    "    connection = get_db()\n",
    "    with output_box:\n",
    "        clear_output()\n",
    "        ids = batch_id\n",
    "        with connection.cursor() as cursor:\n",
    "            match material_type:\n",
    "                case \"gp\":\n",
    "                    sql = \"SELECT * FROM Graphene.FullViewGrapheneBatch WHERE ID=%s\"\n",
    "                case \"fp\":\n",
    "                    sql = \"SELECT * FROM Graphene.FullViewFeedstockInternalBatch WHERE ID=%s\"\n",
    "                case \"f\":\n",
    "                    sql = \"SELECT * FROM Graphene.FullViewFlashProcess WHERE ID=%s\"\n",
    "                case \"d\":\n",
    "                    sql = \"SELECT * FROM Graphene.FullViewDispersionBatch WHERE ID=%s\"\n",
    "                case \"fv\":\n",
    "                    sql = \"SELECT * FROM Graphene.FullViewVendorBatch WHERE ID=%s\" #not made yet I dont think\n",
    "            cursor.execute(sql, ids)  # Use the loop variable 'ids' here\n",
    "            result = cursor.fetchall()\n",
    "        df = pd.DataFrame(result)\n",
    "        \n",
    "        # Display the combined DataFrame.\n",
    "        print(f\"Material Type: {material_type}\")\n",
    "        print(f\"Batch ID: {batch_id}\")\n",
    "        print(\"Batch Information:\")\n",
    "        display(df)\n",
    "    return(df)\n",
    "        \n",
    "def fetch_dataMultiple(sample_list):\n",
    "    with output_box:\n",
    "        dataframe_list = []\n",
    "        print(sample_list)\n",
    "        for samples in sample_list:\n",
    "            material_type = samples[0]\n",
    "            batch_id = samples[1]\n",
    "            ids = batch_id\n",
    "            with connection.cursor() as cursor:\n",
    "                match material_type:\n",
    "                    case \"gp\":\n",
    "                        sql = \"SELECT * FROM Graphene.FullViewGrapheneBatch WHERE ID=%s\"\n",
    "                    case \"fp\":\n",
    "                        sql = \"SELECT * FROM Graphene.FullViewFeedstockInternalBatch WHERE ID=%s\"\n",
    "                    case \"f\":\n",
    "                        sql = \"SELECT * FROM Graphene.FullViewFlashProcess WHERE ID=%s\"\n",
    "                    case \"d\":\n",
    "                        sql = \"SELECT * FROM Graphene.FullViewDispersionBatch WHERE ID=%s\"\n",
    "                    case \"fv\":\n",
    "                        sql = \"SELECT * FROM Graphene.FullViewFeedstockInternalBatch WHERE ID=%s\" #not made yet I dont think\n",
    "                cursor.execute(sql, ids)  # Use the loop variable 'ids' here\n",
    "                result = cursor.fetchall()\n",
    "            df = pd.DataFrame(result)\n",
    "            df['Material Type'] = material_type\n",
    "            dataframe_list.append(df)\n",
    "    # Display the combined DataFrame.\n",
    "    dataM_df = pd.concat(dataframe_list, ignore_index=True)\n",
    "    return dataM_df\n",
    "\n",
    "def fetch_button_clicked(b):\n",
    "    fetch_data(material_type_dropdown.value, batch_id_input.value)\n",
    "\n",
    "def fetchTree_button_clicked(batchID):\n",
    "    #lookup sample\n",
    "    material_type, idnumber = batchID.split(\"-\")\n",
    "    with connection.cursor() as cursor:\n",
    "        match material_type:\n",
    "            case \"gp\":\n",
    "                sql = \"SELECT trees FROM Graphene.FullViewGrapheneBatch WHERE ID=%s\"\n",
    "            case \"fp\":\n",
    "                sql = \"SELECT trees FROM Graphene.FullViewFeedstockInternalBatch WHERE ID=%s\"\n",
    "            case \"f\":\n",
    "                sql = \"SELECT trees FROM Graphene.FullViewFlashProcess WHERE ID=%s\"\n",
    "            case \"d\":\n",
    "                sql = \"SELECT trees FROM Graphene.FullViewDispersionBatch WHERE ID=%s\"\n",
    "            case \"fv\":\n",
    "                sql = \"SELECT trees FROM Graphene.FullViewVendorBatch WHERE ID=%s\" #not made yet I dont think\n",
    "        cursor.execute(sql, idnumber)  # Use the loop variable 'ids' here\n",
    "        result = cursor.fetchone()['trees']\n",
    "    print(result)\n",
    "    samples = generate_sample_list(result)\n",
    "    return(samples)\n",
    "    #data_df = fetch_dataMultiple(sample_list)\n",
    "    #display(data_df)\n",
    "    #return(data_df)\n",
    "    \n",
    "# Function to handle export button click\n",
    "def fetchData(b):\n",
    "    with output_box:\n",
    "        data_string = batchMultiple_input.value\n",
    "        sample_list = []\n",
    "        testframe_list = []\n",
    "        dataFile_list = []\n",
    "        samples = data_string.split(\", \")  # Split by comma and space\n",
    "        for sample in samples:\n",
    "            if TreeCheck.value:\n",
    "                sampleTree_list = fetchTree_button_clicked(sample)\n",
    "                sample_list.extend(sampleTree_list)\n",
    "            else:\n",
    "                material_type, batch_id = sample.split(\"-\")\n",
    "                sample_list.append((material_type, batch_id))\n",
    "        sample_list = set(sample_list)\n",
    "        for samplepair in sample_list:\n",
    "            material_type = samplepair[0]\n",
    "            batch_id = samplepair[1]\n",
    "            sample = str(material_type+\"-\"+str(batch_id))\n",
    "            if TestCheck.value:\n",
    "                with connection.cursor() as cursor:\n",
    "                    sql = \"SELECT * FROM Graphene.analysisView WHERE `sampleID`=CONVERT(%s USING utf8)\"\n",
    "                    cursor.execute(sql, (sample,) )  # Use the loop variable 'ids' here\n",
    "                    result = cursor.fetchall()\n",
    "                    df = pd.DataFrame(result)\n",
    "                    testframe_list.append(df)\n",
    "            if FileCheck.value:\n",
    "                techDir = \"C:/Users/AidanO'Gorman/OneDrive - Universal Matter/Shared Documents/Technology/Prod Dev - TG Characterization\"\n",
    "                searchstring = os.path.join(techDir,\"**\",f\"*{sample}**\")\n",
    "                print(searchstring)\n",
    "                fileList = glob.glob(searchstring,recursive=True)\n",
    "                for filePath in fileList:\n",
    "                # Split the path into directory and filename\n",
    "                    directory, filename = os.path.split(filePath)\n",
    "                    subfolder = directory.rsplit(\"Characterization\", 1)[1]\n",
    "                    fileData = [sample, subfolder, filename]\n",
    "                    dataFile_list.append(fileData)\n",
    "        data_df = fetch_dataMultiple(sample_list)\n",
    "        if FileCheck.value:\n",
    "            files_df = pd.DataFrame(dataFile_list, columns=['ID','subfolder','filename'])\n",
    "            display(files_df)\n",
    "        if TestCheck.value:\n",
    "            combined_df = pd.concat(testframe_list, ignore_index=True)\n",
    "            sort_df = combined_df.sort_values(by=['sampleID','testType'])\n",
    "            display(sort_df)\n",
    "        if len(data_df) > 0:\n",
    "            display(data_df)\n",
    "            if ExportCheck.value:\n",
    "                export_path = \"C:/Users/AidanO'Gorman/OneDrive - Universal Matter/combined_data.xlsx\"\n",
    "                with pd.ExcelWriter(export_path) as writer:\n",
    "                    if TestCheck.value:\n",
    "                        sort_df.to_excel(writer, sheet_name='Tests', index=False)\n",
    "                    if FileCheck.value:\n",
    "                        files_df.to_excel(writer, sheet_name='Files', index=False)\n",
    "                    data_df.to_excel(writer, sheet_name='Batch results', index=False)\n",
    "                print(f\"Data exported to {export_path}\")\n",
    "        else:\n",
    "            print(\"No data to export.\")\n",
    "        \n",
    "def generate_sample_list(input_string):\n",
    "    sample_list = []\n",
    "    \n",
    "    segments = input_string.split(\" / \")\n",
    "    for segment in segments:\n",
    "        parts = segment.split(\"-\")\n",
    "        if len(parts) == 2:\n",
    "            material_type, batch_id = parts\n",
    "            sample_list.append((material_type, batch_id))\n",
    "    \n",
    "    return sample_list\n",
    "\n",
    "# Attach the export function to the button's click event\n",
    "fetch_button.on_click(fetchData)\n",
    "\n",
    "# Display widgets and instructions\n",
    "instructions = \"\"\"\n",
    "### Interactive Batch Data Viewer\n",
    "\n",
    "This notebook allows you to select a material type and a batch ID to retrieve relevant batch information.\n",
    "Simply select the material type from the dropdown, enter the batch ID, and click the 'Fetch Data' button to view the details.\n",
    "\"\"\"\n",
    "\n",
    "display(widgets.HTML(instructions))\n",
    "display(batchMultiple_input, TreeCheck, FileCheck, TestCheck, ExportCheck, fetch_button, output_box)\n",
    "\n",
    "# Create a DataFrame\n",
    "#df = pd.DataFrame(data)\n",
    "\n",
    "#pd.set_option('display.max_rows', None)\n",
    "#pd.set_option('display.max_columns', None)\n",
    "\n",
    "# Display the DataFrame"
   ]
  },
  {
   "cell_type": "code",
   "execution_count": null,
   "id": "ea1695f6-5077-47ca-bcca-690fb3c28602",
   "metadata": {},
   "outputs": [],
   "source": []
  }
 ],
 "metadata": {
  "kernelspec": {
   "display_name": "Python 3 (ipykernel)",
   "language": "python",
   "name": "python3"
  },
  "language_info": {
   "codemirror_mode": {
    "name": "ipython",
    "version": 3
   },
   "file_extension": ".py",
   "mimetype": "text/x-python",
   "name": "python",
   "nbconvert_exporter": "python",
   "pygments_lexer": "ipython3",
   "version": "3.10.10"
  },
  "widgets": {
   "application/vnd.jupyter.widget-state+json": {
    "state": {
     "008d35931f3248bbbba14b9460d6ca7c": {
      "model_module": "@jupyter-widgets/controls",
      "model_module_version": "2.0.0",
      "model_name": "HTMLModel",
      "state": {
       "layout": "IPY_MODEL_e760f8c3708c46238c4a0ea60f05a01e",
       "style": "IPY_MODEL_f664ef43beb24a8cae4faf2bc42fb0fa",
       "value": "\n### Ability to use advanced search features\n\nmodify the statement in sql and cursor.execute based on what the desired filtrations are - in this case its related to identifying attrition mill materials\n"
      }
     },
     "04523e8338ff414d93bc7954ab384948": {
      "model_module": "@jupyter-widgets/controls",
      "model_module_version": "2.0.0",
      "model_name": "TextStyleModel",
      "state": {
       "description_width": "",
       "font_size": null,
       "text_color": null
      }
     },
     "0926ae07df9340a09bc9c1db06b5d879": {
      "model_module": "@jupyter-widgets/controls",
      "model_module_version": "2.0.0",
      "model_name": "TextareaModel",
      "state": {
       "description": "Database:",
       "layout": "IPY_MODEL_81f94557c4ba4ff7b777b7dc6e4ae623",
       "placeholder": "Database",
       "style": "IPY_MODEL_82260807c332408884efc0a28eafe0be",
       "value": "Graphene"
      }
     },
     "0da21756aa63441f90bcb37c9ca84ad5": {
      "model_module": "@jupyter-widgets/controls",
      "model_module_version": "2.0.0",
      "model_name": "TextareaModel",
      "state": {
       "description": "File Path:",
       "layout": "IPY_MODEL_b46e87dc69364501b5e46bfa84c91112",
       "placeholder": "C:/Users/AidanO'Gorman/OneDrive - Universal Matter/Shared Documents/Technology/Prod Dev - TG Processing/Milling/AttritionMillData.xlsx",
       "style": "IPY_MODEL_9801002d277443548701730c7bfacf07",
       "value": "C:/Users/AidanO'Gorman/OneDrive - Universal Matter/Shared Documents/Technology/Prod Dev - TG Processing/Milling/AttritionMillData.xlsx"
      }
     },
     "10854e2a0d8340be8aa99d64799fa0dc": {
      "model_module": "@jupyter-widgets/controls",
      "model_module_version": "2.0.0",
      "model_name": "TextareaModel",
      "state": {
       "description": "Host:",
       "layout": "IPY_MODEL_2aea5f42a63f4ce79f4d8a637ea50474",
       "placeholder": "Host",
       "style": "IPY_MODEL_04523e8338ff414d93bc7954ab384948"
      }
     },
     "152c0ce728b4435d9c49fe6a700fde5a": {
      "model_module": "@jupyter-widgets/base",
      "model_module_version": "2.0.0",
      "model_name": "LayoutModel",
      "state": {}
     },
     "1e9d4fd1335d427eb91ce3199e3a8469": {
      "model_module": "@jupyter-widgets/controls",
      "model_module_version": "2.0.0",
      "model_name": "TextareaModel",
      "state": {
       "description": "Database:",
       "layout": "IPY_MODEL_8f4f2c1e7da34148bd1f6fc682de81ba",
       "placeholder": "C:/Users/AidanO'Gorman/OneDrive - Universal Matter/Shared Documents/Technology/Prod Dev - TG Processing/Milling/AttritionMillData.xlsx",
       "style": "IPY_MODEL_f3b9394a34f5457fa2fadc9daa766ee2"
      }
     },
     "221b5c7e4faa4abc98f4a8f88b5dfa33": {
      "model_module": "@jupyter-widgets/base",
      "model_module_version": "2.0.0",
      "model_name": "LayoutModel",
      "state": {}
     },
     "233c2f51e827492a9b94d7aec85dadec": {
      "model_module": "@jupyter-widgets/controls",
      "model_module_version": "2.0.0",
      "model_name": "TextStyleModel",
      "state": {
       "description_width": "",
       "font_size": null,
       "text_color": null
      }
     },
     "26f5458a93314672a1fc73025109ef6c": {
      "model_module": "@jupyter-widgets/controls",
      "model_module_version": "2.0.0",
      "model_name": "TextareaModel",
      "state": {
       "description": "File Path:",
       "layout": "IPY_MODEL_593168b3b53c46709a27688a46c64708",
       "placeholder": "C:/Users/AidanO'Gorman/OneDrive - Universal Matter/Shared Documents/Technology/Prod Dev - TG Processing/Milling/AttritionMillData.xlsx",
       "style": "IPY_MODEL_233c2f51e827492a9b94d7aec85dadec"
      }
     },
     "2aea5f42a63f4ce79f4d8a637ea50474": {
      "model_module": "@jupyter-widgets/base",
      "model_module_version": "2.0.0",
      "model_name": "LayoutModel",
      "state": {}
     },
     "2dc1d18532434d08aaa8a57c0b2b0f0a": {
      "model_module": "@jupyter-widgets/controls",
      "model_module_version": "2.0.0",
      "model_name": "TextStyleModel",
      "state": {
       "description_width": "",
       "font_size": null,
       "text_color": null
      }
     },
     "327f8826242647f48305c32bc69bed49": {
      "model_module": "@jupyter-widgets/base",
      "model_module_version": "2.0.0",
      "model_name": "LayoutModel",
      "state": {}
     },
     "3596c9813dde4f5ca69601b1cfb2177c": {
      "model_module": "@jupyter-widgets/controls",
      "model_module_version": "2.0.0",
      "model_name": "TextareaModel",
      "state": {
       "description": "Password:",
       "layout": "IPY_MODEL_453dd86adc1f43fdaf48b0528e806b7a",
       "placeholder": "Password",
       "style": "IPY_MODEL_2dc1d18532434d08aaa8a57c0b2b0f0a"
      }
     },
     "37faf680a1c444a59942031e8a79a55c": {
      "model_module": "@jupyter-widgets/controls",
      "model_module_version": "2.0.0",
      "model_name": "IntSliderModel",
      "state": {
       "behavior": "drag-tap",
       "continuous_update": false,
       "description": "Max Cols:",
       "layout": "IPY_MODEL_4012d4a1aba543f2b6372f348152da63",
       "style": "IPY_MODEL_8fbb00d79b894374bc050eb5d491c2c8",
       "value": 30
      }
     },
     "387cafe027f041f987a2b0985f333e32": {
      "model_module": "@jupyter-widgets/base",
      "model_module_version": "2.0.0",
      "model_name": "LayoutModel",
      "state": {}
     },
     "3a30e01ef5d94574960472b1e2b9d674": {
      "model_module": "@jupyter-widgets/controls",
      "model_module_version": "2.0.0",
      "model_name": "TextStyleModel",
      "state": {
       "description_width": "",
       "font_size": null,
       "text_color": null
      }
     },
     "3a951128a6c644a19173de21e9234db9": {
      "model_module": "@jupyter-widgets/base",
      "model_module_version": "2.0.0",
      "model_name": "LayoutModel",
      "state": {}
     },
     "3ac0c260024b4879ad521068fbd556da": {
      "model_module": "@jupyter-widgets/controls",
      "model_module_version": "2.0.0",
      "model_name": "TextareaModel",
      "state": {
       "description": "Username:",
       "layout": "IPY_MODEL_9ac89a18736b45d19ff1d555b1171d75",
       "placeholder": "Username",
       "style": "IPY_MODEL_abe2b8146ecc423994cdc963fc6ce908",
       "value": "UMIstaff"
      }
     },
     "3ae2dd24566d44f3a32e93fcc4f826b2": {
      "model_module": "@jupyter-widgets/controls",
      "model_module_version": "2.0.0",
      "model_name": "TextareaModel",
      "state": {
       "description": "Username:",
       "layout": "IPY_MODEL_221b5c7e4faa4abc98f4a8f88b5dfa33",
       "placeholder": "Username",
       "style": "IPY_MODEL_ce6435b6f51d48bfb523594c5932b646"
      }
     },
     "3cbb35cc59a24dbd8cb9aedd47651c97": {
      "model_module": "@jupyter-widgets/controls",
      "model_module_version": "2.0.0",
      "model_name": "IntSliderModel",
      "state": {
       "behavior": "drag-tap",
       "continuous_update": false,
       "description": "Max Display Rows:",
       "layout": "IPY_MODEL_387cafe027f041f987a2b0985f333e32",
       "style": "IPY_MODEL_795c567730c84926b761efdff8a6af31",
       "value": 30
      }
     },
     "3d9fd1ef48ae46b8a44bb87481940128": {
      "model_module": "@jupyter-widgets/controls",
      "model_module_version": "2.0.0",
      "model_name": "TextStyleModel",
      "state": {
       "description_width": "",
       "font_size": null,
       "text_color": null
      }
     },
     "3fae7106b6304346b51f79578daa6575": {
      "model_module": "@jupyter-widgets/controls",
      "model_module_version": "2.0.0",
      "model_name": "SliderStyleModel",
      "state": {
       "description_width": ""
      }
     },
     "4012d4a1aba543f2b6372f348152da63": {
      "model_module": "@jupyter-widgets/base",
      "model_module_version": "2.0.0",
      "model_name": "LayoutModel",
      "state": {}
     },
     "422dd5b7f07846ee85ac10f9fd38ea68": {
      "model_module": "@jupyter-widgets/controls",
      "model_module_version": "2.0.0",
      "model_name": "TextareaModel",
      "state": {
       "description": "Host:",
       "layout": "IPY_MODEL_b92341c537304ae7859d25bbcdfd48b3",
       "placeholder": "Host",
       "style": "IPY_MODEL_f3227ee7940449d28770870ccf736205",
       "value": "umi-db.cobionix.com"
      }
     },
     "453dd86adc1f43fdaf48b0528e806b7a": {
      "model_module": "@jupyter-widgets/base",
      "model_module_version": "2.0.0",
      "model_name": "LayoutModel",
      "state": {}
     },
     "454071e296eb4a92938623df5a9f8d06": {
      "model_module": "@jupyter-widgets/controls",
      "model_module_version": "2.0.0",
      "model_name": "TextareaModel",
      "state": {
       "description": "Username:",
       "layout": "IPY_MODEL_7aad46c6d2a04d20a0309472d9cf5558",
       "placeholder": "Username",
       "style": "IPY_MODEL_d2614a3f746b47348a907ef9e7aeaee6",
       "value": "UMIstaff"
      }
     },
     "46793917676246439b661ab5daf275ee": {
      "model_module": "@jupyter-widgets/controls",
      "model_module_version": "2.0.0",
      "model_name": "SliderStyleModel",
      "state": {
       "description_width": ""
      }
     },
     "4d089cfa0ab141d18769cfbb46ab4f68": {
      "model_module": "@jupyter-widgets/controls",
      "model_module_version": "2.0.0",
      "model_name": "TextareaModel",
      "state": {
       "description": "Database:",
       "layout": "IPY_MODEL_e5c622b9b7324b4199df28d99e3ba41c",
       "placeholder": "Database",
       "style": "IPY_MODEL_3a30e01ef5d94574960472b1e2b9d674",
       "value": "Graphene"
      }
     },
     "529d52a62e3a4c159a003a77d0b287b4": {
      "model_module": "@jupyter-widgets/controls",
      "model_module_version": "2.0.0",
      "model_name": "IntSliderModel",
      "state": {
       "behavior": "drag-tap",
       "continuous_update": false,
       "description": "Max Cols:",
       "layout": "IPY_MODEL_ecd1623ffa3344e285f653d72880b806",
       "style": "IPY_MODEL_853b1348c977447783f2e870ae57827c",
       "value": 30
      }
     },
     "53d5f4896eb443738a7acda19e740489": {
      "model_module": "@jupyter-widgets/base",
      "model_module_version": "2.0.0",
      "model_name": "LayoutModel",
      "state": {}
     },
     "593168b3b53c46709a27688a46c64708": {
      "model_module": "@jupyter-widgets/base",
      "model_module_version": "2.0.0",
      "model_name": "LayoutModel",
      "state": {}
     },
     "5eb9bd97e4b445bc979be4d095d2bd1f": {
      "model_module": "@jupyter-widgets/controls",
      "model_module_version": "2.0.0",
      "model_name": "TextareaModel",
      "state": {
       "description": "Host:",
       "layout": "IPY_MODEL_152c0ce728b4435d9c49fe6a700fde5a",
       "placeholder": "Host",
       "style": "IPY_MODEL_eedd0db153e54eb08ba50931edf8ff5a",
       "value": "umi_db.cobionix.com"
      }
     },
     "618b7970fd704c9c93cc18c924a39bbc": {
      "model_module": "@jupyter-widgets/controls",
      "model_module_version": "2.0.0",
      "model_name": "TextStyleModel",
      "state": {
       "description_width": "",
       "font_size": null,
       "text_color": null
      }
     },
     "61de11293f7a4215911e5e079fadb3fc": {
      "model_module": "@jupyter-widgets/base",
      "model_module_version": "2.0.0",
      "model_name": "LayoutModel",
      "state": {}
     },
     "630704c489c84857ad89649fd5bd71af": {
      "model_module": "@jupyter-widgets/base",
      "model_module_version": "2.0.0",
      "model_name": "LayoutModel",
      "state": {}
     },
     "6a4ec793b40b405b96e069b6efe4ade6": {
      "model_module": "@jupyter-widgets/controls",
      "model_module_version": "2.0.0",
      "model_name": "IntSliderModel",
      "state": {
       "behavior": "drag-tap",
       "continuous_update": false,
       "description": "Max Rows:",
       "layout": "IPY_MODEL_630704c489c84857ad89649fd5bd71af",
       "max": 50,
       "style": "IPY_MODEL_3fae7106b6304346b51f79578daa6575",
       "value": 10
      }
     },
     "7671a289f38e4f798f6c19b5046f900f": {
      "model_module": "@jupyter-widgets/base",
      "model_module_version": "2.0.0",
      "model_name": "LayoutModel",
      "state": {}
     },
     "795c567730c84926b761efdff8a6af31": {
      "model_module": "@jupyter-widgets/controls",
      "model_module_version": "2.0.0",
      "model_name": "SliderStyleModel",
      "state": {
       "description_width": ""
      }
     },
     "7aad46c6d2a04d20a0309472d9cf5558": {
      "model_module": "@jupyter-widgets/base",
      "model_module_version": "2.0.0",
      "model_name": "LayoutModel",
      "state": {}
     },
     "7d4adc580ea84419aee3b6b421134a82": {
      "model_module": "@jupyter-widgets/controls",
      "model_module_version": "2.0.0",
      "model_name": "HTMLModel",
      "state": {
       "layout": "IPY_MODEL_c7463b40d2d44909a6db7f5afeb8ab40",
       "placeholder": "Some HTML",
       "style": "IPY_MODEL_da8e7c090a174c7ea9ef1655284e6514",
       "value": "C:/Users/AidanO'Gorman/OneDrive - Universal Matter/Shared Documents/Technology/Prod Dev - TG Processing/Milling/AttritionMillData.xlsx"
      }
     },
     "7d81bc58ad4d48f58557d5d783b52608": {
      "model_module": "@jupyter-widgets/controls",
      "model_module_version": "2.0.0",
      "model_name": "TextStyleModel",
      "state": {
       "description_width": "",
       "font_size": null,
       "text_color": null
      }
     },
     "7f3822b29e564bb196a0fb91f1d24039": {
      "model_module": "@jupyter-widgets/base",
      "model_module_version": "2.0.0",
      "model_name": "LayoutModel",
      "state": {}
     },
     "81f94557c4ba4ff7b777b7dc6e4ae623": {
      "model_module": "@jupyter-widgets/base",
      "model_module_version": "2.0.0",
      "model_name": "LayoutModel",
      "state": {}
     },
     "82260807c332408884efc0a28eafe0be": {
      "model_module": "@jupyter-widgets/controls",
      "model_module_version": "2.0.0",
      "model_name": "TextStyleModel",
      "state": {
       "description_width": "",
       "font_size": null,
       "text_color": null
      }
     },
     "8455089d82ca45db83a6e80342addedb": {
      "model_module": "@jupyter-widgets/controls",
      "model_module_version": "2.0.0",
      "model_name": "TextareaModel",
      "state": {
       "description": "Username:",
       "layout": "IPY_MODEL_ebb63b2ce7e14caf8358947dc5dd020e",
       "placeholder": "Username",
       "style": "IPY_MODEL_e8be5b34de294acf8ac1d5110f012a5c",
       "value": "UMIstaff"
      }
     },
     "84ce2b1dd896452984e245a106350a1d": {
      "model_module": "@jupyter-widgets/controls",
      "model_module_version": "2.0.0",
      "model_name": "TextareaModel",
      "state": {
       "description": "Password:",
       "layout": "IPY_MODEL_a994c2071a854853a6a0faed90254e9b",
       "placeholder": "Password",
       "style": "IPY_MODEL_c59a607f630f47aca1bd7f478c4fff03",
       "value": "GrapheneIsEverything!1"
      }
     },
     "853b1348c977447783f2e870ae57827c": {
      "model_module": "@jupyter-widgets/controls",
      "model_module_version": "2.0.0",
      "model_name": "SliderStyleModel",
      "state": {
       "description_width": ""
      }
     },
     "8608241ce80347cbb4e53b03bec922e7": {
      "model_module": "@jupyter-widgets/controls",
      "model_module_version": "2.0.0",
      "model_name": "HTMLModel",
      "state": {
       "layout": "IPY_MODEL_86b030d7da6947a88202d1d866a011e5",
       "style": "IPY_MODEL_fc5c2ee457154e1897db868486fb01a6",
       "value": "\n### Ability to use advanced search features\n\nmodify the statement in sql and cursor.execute based on what the desired filtrations are - in this case its related to identifying attrition mill materials\n"
      }
     },
     "86b030d7da6947a88202d1d866a011e5": {
      "model_module": "@jupyter-widgets/base",
      "model_module_version": "2.0.0",
      "model_name": "LayoutModel",
      "state": {}
     },
     "8af6b65606dd4956bf4b7f5e73fa6f1e": {
      "model_module": "@jupyter-widgets/controls",
      "model_module_version": "2.0.0",
      "model_name": "TextStyleModel",
      "state": {
       "description_width": "",
       "font_size": null,
       "text_color": null
      }
     },
     "8dc9b504773040759286a37ab0897fda": {
      "model_module": "@jupyter-widgets/controls",
      "model_module_version": "2.0.0",
      "model_name": "IntSliderModel",
      "state": {
       "behavior": "drag-tap",
       "continuous_update": false,
       "description": "Max Cols:",
       "layout": "IPY_MODEL_c65a003b137648c19c3521738dfbbdde",
       "style": "IPY_MODEL_46793917676246439b661ab5daf275ee",
       "value": 30
      }
     },
     "8f4f2c1e7da34148bd1f6fc682de81ba": {
      "model_module": "@jupyter-widgets/base",
      "model_module_version": "2.0.0",
      "model_name": "LayoutModel",
      "state": {}
     },
     "8fbb00d79b894374bc050eb5d491c2c8": {
      "model_module": "@jupyter-widgets/controls",
      "model_module_version": "2.0.0",
      "model_name": "SliderStyleModel",
      "state": {
       "description_width": ""
      }
     },
     "9030f70b8d1a4f7b9ea2107568b755bc": {
      "model_module": "@jupyter-widgets/controls",
      "model_module_version": "2.0.0",
      "model_name": "IntSliderModel",
      "state": {
       "behavior": "drag-tap",
       "continuous_update": false,
       "description": "Max Rows:",
       "layout": "IPY_MODEL_c5a6c9914f1448e2a0af842e621089c7",
       "max": 50,
       "style": "IPY_MODEL_f5a806e673bd41bdb2a71e2db2b049d7",
       "value": 10
      }
     },
     "9801002d277443548701730c7bfacf07": {
      "model_module": "@jupyter-widgets/controls",
      "model_module_version": "2.0.0",
      "model_name": "TextStyleModel",
      "state": {
       "description_width": "",
       "font_size": null,
       "text_color": null
      }
     },
     "9ac89a18736b45d19ff1d555b1171d75": {
      "model_module": "@jupyter-widgets/base",
      "model_module_version": "2.0.0",
      "model_name": "LayoutModel",
      "state": {}
     },
     "9e04ffa02e6a4d4baf31df21de55ab49": {
      "model_module": "@jupyter-widgets/base",
      "model_module_version": "2.0.0",
      "model_name": "LayoutModel",
      "state": {}
     },
     "a4660e4731f14fcea59abbd688ce89a2": {
      "model_module": "@jupyter-widgets/controls",
      "model_module_version": "2.0.0",
      "model_name": "HTMLStyleModel",
      "state": {
       "description_width": "",
       "font_size": null,
       "text_color": null
      }
     },
     "a994c2071a854853a6a0faed90254e9b": {
      "model_module": "@jupyter-widgets/base",
      "model_module_version": "2.0.0",
      "model_name": "LayoutModel",
      "state": {}
     },
     "abe2b8146ecc423994cdc963fc6ce908": {
      "model_module": "@jupyter-widgets/controls",
      "model_module_version": "2.0.0",
      "model_name": "TextStyleModel",
      "state": {
       "description_width": "",
       "font_size": null,
       "text_color": null
      }
     },
     "acaba03cd39548b69f25cbffb5dffbfb": {
      "model_module": "@jupyter-widgets/base",
      "model_module_version": "2.0.0",
      "model_name": "LayoutModel",
      "state": {}
     },
     "b0370b12d8704ae6937508f9a8862cac": {
      "model_module": "@jupyter-widgets/base",
      "model_module_version": "2.0.0",
      "model_name": "LayoutModel",
      "state": {}
     },
     "b46e87dc69364501b5e46bfa84c91112": {
      "model_module": "@jupyter-widgets/base",
      "model_module_version": "2.0.0",
      "model_name": "LayoutModel",
      "state": {}
     },
     "b92341c537304ae7859d25bbcdfd48b3": {
      "model_module": "@jupyter-widgets/base",
      "model_module_version": "2.0.0",
      "model_name": "LayoutModel",
      "state": {}
     },
     "bc408697a1fa41539956cd56c1e94aaa": {
      "model_module": "@jupyter-widgets/controls",
      "model_module_version": "2.0.0",
      "model_name": "TextStyleModel",
      "state": {
       "description_width": "",
       "font_size": null,
       "text_color": null
      }
     },
     "bce14c2de9334ad6ab644f8634940ddc": {
      "model_module": "@jupyter-widgets/controls",
      "model_module_version": "2.0.0",
      "model_name": "TextareaModel",
      "state": {
       "description": "Database:",
       "layout": "IPY_MODEL_acaba03cd39548b69f25cbffb5dffbfb",
       "placeholder": "Database",
       "style": "IPY_MODEL_c09363bfe5004ba4a02f43734d6d1445"
      }
     },
     "c09363bfe5004ba4a02f43734d6d1445": {
      "model_module": "@jupyter-widgets/controls",
      "model_module_version": "2.0.0",
      "model_name": "TextStyleModel",
      "state": {
       "description_width": "",
       "font_size": null,
       "text_color": null
      }
     },
     "c59a607f630f47aca1bd7f478c4fff03": {
      "model_module": "@jupyter-widgets/controls",
      "model_module_version": "2.0.0",
      "model_name": "TextStyleModel",
      "state": {
       "description_width": "",
       "font_size": null,
       "text_color": null
      }
     },
     "c5a6c9914f1448e2a0af842e621089c7": {
      "model_module": "@jupyter-widgets/base",
      "model_module_version": "2.0.0",
      "model_name": "LayoutModel",
      "state": {}
     },
     "c65a003b137648c19c3521738dfbbdde": {
      "model_module": "@jupyter-widgets/base",
      "model_module_version": "2.0.0",
      "model_name": "LayoutModel",
      "state": {}
     },
     "c7463b40d2d44909a6db7f5afeb8ab40": {
      "model_module": "@jupyter-widgets/base",
      "model_module_version": "2.0.0",
      "model_name": "LayoutModel",
      "state": {}
     },
     "cb677ea9c2a0427f919a44e783b4a8a0": {
      "model_module": "@jupyter-widgets/controls",
      "model_module_version": "2.0.0",
      "model_name": "SliderStyleModel",
      "state": {
       "description_width": ""
      }
     },
     "cb9c784d09cf480a9e8b62ccb86ea054": {
      "model_module": "@jupyter-widgets/controls",
      "model_module_version": "2.0.0",
      "model_name": "IntSliderModel",
      "state": {
       "behavior": "drag-tap",
       "continuous_update": false,
       "description": "Max Rows:",
       "layout": "IPY_MODEL_61de11293f7a4215911e5e079fadb3fc",
       "max": 50,
       "style": "IPY_MODEL_cb677ea9c2a0427f919a44e783b4a8a0",
       "value": 10
      }
     },
     "ce6435b6f51d48bfb523594c5932b646": {
      "model_module": "@jupyter-widgets/controls",
      "model_module_version": "2.0.0",
      "model_name": "TextStyleModel",
      "state": {
       "description_width": "",
       "font_size": null,
       "text_color": null
      }
     },
     "cfa5bcffb420462e87a880da944cb51e": {
      "model_module": "@jupyter-widgets/controls",
      "model_module_version": "2.0.0",
      "model_name": "HTMLModel",
      "state": {
       "layout": "IPY_MODEL_7f3822b29e564bb196a0fb91f1d24039",
       "style": "IPY_MODEL_a4660e4731f14fcea59abbd688ce89a2",
       "value": "\n### Ability to use advanced search features\n\nmodify the statement in sql and cursor.execute based on what the desired filtrations are - in this case its related to identifying attrition mill materials\n"
      }
     },
     "d2614a3f746b47348a907ef9e7aeaee6": {
      "model_module": "@jupyter-widgets/controls",
      "model_module_version": "2.0.0",
      "model_name": "TextStyleModel",
      "state": {
       "description_width": "",
       "font_size": null,
       "text_color": null
      }
     },
     "d80fdf6ac3d1449cb0052563337ccc6c": {
      "model_module": "@jupyter-widgets/controls",
      "model_module_version": "2.0.0",
      "model_name": "HTMLModel",
      "state": {
       "layout": "IPY_MODEL_3a951128a6c644a19173de21e9234db9",
       "style": "IPY_MODEL_d8bf0119a84d48c19820d6e18108b4ff",
       "value": "\n### Ability to use advanced search features\n\nmodify the statement in sql and cursor.execute based on what the desired filtrations are - in this case its related to identifying attrition mill materials\n"
      }
     },
     "d8bf0119a84d48c19820d6e18108b4ff": {
      "model_module": "@jupyter-widgets/controls",
      "model_module_version": "2.0.0",
      "model_name": "HTMLStyleModel",
      "state": {
       "description_width": "",
       "font_size": null,
       "text_color": null
      }
     },
     "da8e7c090a174c7ea9ef1655284e6514": {
      "model_module": "@jupyter-widgets/controls",
      "model_module_version": "2.0.0",
      "model_name": "HTMLStyleModel",
      "state": {
       "description_width": "",
       "font_size": null,
       "text_color": null
      }
     },
     "e5c07041dfc54d778b567159eeb7dec3": {
      "model_module": "@jupyter-widgets/controls",
      "model_module_version": "2.0.0",
      "model_name": "SliderStyleModel",
      "state": {
       "description_width": ""
      }
     },
     "e5c622b9b7324b4199df28d99e3ba41c": {
      "model_module": "@jupyter-widgets/base",
      "model_module_version": "2.0.0",
      "model_name": "LayoutModel",
      "state": {}
     },
     "e760f8c3708c46238c4a0ea60f05a01e": {
      "model_module": "@jupyter-widgets/base",
      "model_module_version": "2.0.0",
      "model_name": "LayoutModel",
      "state": {}
     },
     "e8be5b34de294acf8ac1d5110f012a5c": {
      "model_module": "@jupyter-widgets/controls",
      "model_module_version": "2.0.0",
      "model_name": "TextStyleModel",
      "state": {
       "description_width": "",
       "font_size": null,
       "text_color": null
      }
     },
     "ebb63b2ce7e14caf8358947dc5dd020e": {
      "model_module": "@jupyter-widgets/base",
      "model_module_version": "2.0.0",
      "model_name": "LayoutModel",
      "state": {}
     },
     "ecd1623ffa3344e285f653d72880b806": {
      "model_module": "@jupyter-widgets/base",
      "model_module_version": "2.0.0",
      "model_name": "LayoutModel",
      "state": {}
     },
     "ee9f1a1be73a4eddae6e35537668b50d": {
      "model_module": "@jupyter-widgets/controls",
      "model_module_version": "2.0.0",
      "model_name": "TextareaModel",
      "state": {
       "description": "Password:",
       "layout": "IPY_MODEL_7671a289f38e4f798f6c19b5046f900f",
       "placeholder": "Password",
       "style": "IPY_MODEL_3d9fd1ef48ae46b8a44bb87481940128",
       "value": "GrapheneIsEverything!1"
      }
     },
     "eedd0db153e54eb08ba50931edf8ff5a": {
      "model_module": "@jupyter-widgets/controls",
      "model_module_version": "2.0.0",
      "model_name": "TextStyleModel",
      "state": {
       "description_width": "",
       "font_size": null,
       "text_color": null
      }
     },
     "efe0acb2ce17402a92a81ff6bca3bb66": {
      "model_module": "@jupyter-widgets/controls",
      "model_module_version": "2.0.0",
      "model_name": "TextareaModel",
      "state": {
       "description": "Host:",
       "layout": "IPY_MODEL_327f8826242647f48305c32bc69bed49",
       "placeholder": "Host",
       "style": "IPY_MODEL_618b7970fd704c9c93cc18c924a39bbc",
       "value": "umi_db.cobionix.com"
      }
     },
     "f08da7ec29484e50a2b2d36e98402a09": {
      "model_module": "@jupyter-widgets/controls",
      "model_module_version": "2.0.0",
      "model_name": "TextareaModel",
      "state": {
       "description": "Password:",
       "layout": "IPY_MODEL_9e04ffa02e6a4d4baf31df21de55ab49",
       "placeholder": "Password",
       "style": "IPY_MODEL_7d81bc58ad4d48f58557d5d783b52608",
       "value": "GrapheneIsEverything!1"
      }
     },
     "f3227ee7940449d28770870ccf736205": {
      "model_module": "@jupyter-widgets/controls",
      "model_module_version": "2.0.0",
      "model_name": "TextStyleModel",
      "state": {
       "description_width": "",
       "font_size": null,
       "text_color": null
      }
     },
     "f3b9394a34f5457fa2fadc9daa766ee2": {
      "model_module": "@jupyter-widgets/controls",
      "model_module_version": "2.0.0",
      "model_name": "TextStyleModel",
      "state": {
       "description_width": "",
       "font_size": null,
       "text_color": null
      }
     },
     "f5a806e673bd41bdb2a71e2db2b049d7": {
      "model_module": "@jupyter-widgets/controls",
      "model_module_version": "2.0.0",
      "model_name": "SliderStyleModel",
      "state": {
       "description_width": ""
      }
     },
     "f664ef43beb24a8cae4faf2bc42fb0fa": {
      "model_module": "@jupyter-widgets/controls",
      "model_module_version": "2.0.0",
      "model_name": "HTMLStyleModel",
      "state": {
       "description_width": "",
       "font_size": null,
       "text_color": null
      }
     },
     "f83a3cb158324a1fa97c78986fa5ed0e": {
      "model_module": "@jupyter-widgets/controls",
      "model_module_version": "2.0.0",
      "model_name": "IntSliderModel",
      "state": {
       "behavior": "drag-tap",
       "continuous_update": false,
       "description": "Max Display Rows:",
       "layout": "IPY_MODEL_53d5f4896eb443738a7acda19e740489",
       "max": 50,
       "style": "IPY_MODEL_e5c07041dfc54d778b567159eeb7dec3",
       "value": 10
      }
     },
     "f8c7a730c3da4baabc36314d2ebef9c2": {
      "model_module": "@jupyter-widgets/base",
      "model_module_version": "2.0.0",
      "model_name": "LayoutModel",
      "state": {}
     },
     "f9f8d4fd6ff849578b86a06f423e49ea": {
      "model_module": "@jupyter-widgets/controls",
      "model_module_version": "2.0.0",
      "model_name": "TextareaModel",
      "state": {
       "description": "Database:",
       "layout": "IPY_MODEL_f8c7a730c3da4baabc36314d2ebef9c2",
       "placeholder": "C:/Users/AidanO'Gorman/OneDrive - Universal Matter/Shared Documents/Technology/Prod Dev - TG Processing/Milling/AttritionMillData.xlsx",
       "style": "IPY_MODEL_bc408697a1fa41539956cd56c1e94aaa"
      }
     },
     "fa3366a3d3ba49f9b21c9a84edbae39b": {
      "model_module": "@jupyter-widgets/controls",
      "model_module_version": "2.0.0",
      "model_name": "TextareaModel",
      "state": {
       "description": "Database:",
       "layout": "IPY_MODEL_b0370b12d8704ae6937508f9a8862cac",
       "placeholder": "Database",
       "style": "IPY_MODEL_8af6b65606dd4956bf4b7f5e73fa6f1e",
       "value": "Graphene"
      }
     },
     "fc5c2ee457154e1897db868486fb01a6": {
      "model_module": "@jupyter-widgets/controls",
      "model_module_version": "2.0.0",
      "model_name": "HTMLStyleModel",
      "state": {
       "description_width": "",
       "font_size": null,
       "text_color": null
      }
     }
    },
    "version_major": 2,
    "version_minor": 0
   }
  }
 },
 "nbformat": 4,
 "nbformat_minor": 5
}
