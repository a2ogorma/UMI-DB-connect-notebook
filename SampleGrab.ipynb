{
 "cells": [
  {
   "cell_type": "code",
   "execution_count": 1,
   "id": "72c6140a-8291-4baa-921a-585677972a2e",
   "metadata": {},
   "outputs": [],
   "source": [
    "import pymysql\n",
    "import ipywidgets as widgets\n",
    "import pandas as pd\n",
    "import glob\n",
    "import os\n",
    "# Import necessary libraries\n",
    "import ipywidgets as widgets\n",
    "from IPython.display import display, clear_output\n",
    "import pandas as pd\n",
    "import functools"
   ]
  },
  {
   "cell_type": "code",
   "execution_count": 2,
   "id": "94b75186-fd67-4b60-a5ed-675220189352",
   "metadata": {},
   "outputs": [
    {
     "data": {
      "application/vnd.jupyter.widget-view+json": {
       "model_id": "5795c73c2213474896b0594e0b993409",
       "version_major": 2,
       "version_minor": 0
      },
      "text/plain": [
       "Textarea(value='', description='Username:', placeholder='Username')"
      ]
     },
     "metadata": {},
     "output_type": "display_data"
    },
    {
     "data": {
      "application/vnd.jupyter.widget-view+json": {
       "model_id": "69c4081d48094cb88ea47a869d89094c",
       "version_major": 2,
       "version_minor": 0
      },
      "text/plain": [
       "Textarea(value='', description='Password:', placeholder='Password')"
      ]
     },
     "metadata": {},
     "output_type": "display_data"
    },
    {
     "data": {
      "application/vnd.jupyter.widget-view+json": {
       "model_id": "3409ab30cbe74c719073f7520b04c5d4",
       "version_major": 2,
       "version_minor": 0
      },
      "text/plain": [
       "Textarea(value='', description='Host:', placeholder='Host')"
      ]
     },
     "metadata": {},
     "output_type": "display_data"
    },
    {
     "data": {
      "application/vnd.jupyter.widget-view+json": {
       "model_id": "e0cfd5c3cc6a468ab55ff6e54c8874e7",
       "version_major": 2,
       "version_minor": 0
      },
      "text/plain": [
       "Textarea(value='', description='Database:', placeholder='Database')"
      ]
     },
     "metadata": {},
     "output_type": "display_data"
    }
   ],
   "source": [
    "\n",
    "user_input = widgets.Textarea(\n",
    "    placeholder='Username',\n",
    "    description='Username:',\n",
    "    disabled=False\n",
    ")\n",
    "password_input = widgets.Textarea(\n",
    "    placeholder='Password',\n",
    "    description='Password:',\n",
    "    disabled=False\n",
    ")\n",
    "host_input = widgets.Textarea(\n",
    "    placeholder='Host',\n",
    "    description='Host:',\n",
    "    disabled=False\n",
    ")\n",
    "database_input = widgets.Textarea(\n",
    "    placeholder='Database',\n",
    "    description='Database:',\n",
    "    disabled=False\n",
    ")\n",
    "display(user_input, password_input, host_input, database_input)"
   ]
  },
  {
   "cell_type": "code",
   "execution_count": 8,
   "id": "c34373c8-ab3b-4790-86cf-37ed8b4f669c",
   "metadata": {},
   "outputs": [
    {
     "data": {
      "application/vnd.jupyter.widget-view+json": {
       "model_id": "7865122dae944d8589af6a63cb8f26db",
       "version_major": 2,
       "version_minor": 0
      },
      "text/plain": [
       "Button(button_style='info', description='Test Connection', style=ButtonStyle())"
      ]
     },
     "metadata": {},
     "output_type": "display_data"
    },
    {
     "data": {
      "application/vnd.jupyter.widget-view+json": {
       "model_id": "f6d85432bd9d4807b3422d5a164988c9",
       "version_major": 2,
       "version_minor": 0
      },
      "text/plain": [
       "Output()"
      ]
     },
     "metadata": {},
     "output_type": "display_data"
    }
   ],
   "source": [
    "test_button = widgets.Button(\n",
    "    description='Test Connection', button_style='info'\n",
    ")\n",
    "testOutputBox = widgets.Output()\n",
    "def get_db():\n",
    "    username1 = user_input.value\n",
    "    passwordtxt = password_input.value\n",
    "    hosttxt = host_input.value\n",
    "    databasetxt = database_input.value\n",
    "    return pymysql.connect(host=hosttxt,\n",
    "                             user=username1,\n",
    "                             password=passwordtxt,\n",
    "                             database=databasetxt,\n",
    "                             cursorclass=pymysql.cursors.DictCursor)\n",
    "\n",
    "def testConnection(b):\n",
    "    with testOutputBox:\n",
    "        display(\"Trying....\")\n",
    "    try:    \n",
    "        connection = get_db()\n",
    "        with connection.cursor() as cursor:\n",
    "            sql = \"SELECT COUNT(*) FROM information_schema.tables WHERE table_schema = 'Graphene';\"\n",
    "            cursor.execute(sql)\n",
    "            result = cursor.fetchone()\n",
    "        with testOutputBox:\n",
    "            display(\"Successful connection to \"+host_input.value)\n",
    "    except:\n",
    "        with testOutputBox:\n",
    "            display(\"Connection unsuccessful. Try again with the correct information\")\n",
    "    return()\n",
    "display(test_button, testOutputBox)\n",
    "test_button.on_click(testConnection)"
   ]
  },
  {
   "cell_type": "code",
   "execution_count": 9,
   "id": "c18d1c3c-10f7-4bc5-93e6-56cf0d71777b",
   "metadata": {},
   "outputs": [
    {
     "data": {
      "application/vnd.jupyter.widget-view+json": {
       "model_id": "63a8908077d84b8795aab5bd4c5e511c",
       "version_major": 2,
       "version_minor": 0
      },
      "text/plain": [
       "HTML(value=\"C:/Users/AidanO'Gorman/OneDrive - Universal Matter/Shared Documents/Technology/Prod Dev - TG Proce…"
      ]
     },
     "metadata": {},
     "output_type": "display_data"
    },
    {
     "data": {
      "application/vnd.jupyter.widget-view+json": {
       "model_id": "ff943637c9e34c9b9440d26511eb7702",
       "version_major": 2,
       "version_minor": 0
      },
      "text/plain": [
       "Textarea(value='', description='File Path:', placeholder=\"C:/Users/AidanO'Gorman/OneDrive - Universal Matter/S…"
      ]
     },
     "metadata": {},
     "output_type": "display_data"
    },
    {
     "data": {
      "application/vnd.jupyter.widget-view+json": {
       "model_id": "6fb1664482964b69bd2efc7948595fb3",
       "version_major": 2,
       "version_minor": 0
      },
      "text/plain": [
       "IntSlider(value=10, continuous_update=False, description='Max Rows:', max=50)"
      ]
     },
     "metadata": {},
     "output_type": "display_data"
    },
    {
     "data": {
      "application/vnd.jupyter.widget-view+json": {
       "model_id": "fb57f572db904c21b16359396f35e3f9",
       "version_major": 2,
       "version_minor": 0
      },
      "text/plain": [
       "IntSlider(value=30, continuous_update=False, description='Max Cols:')"
      ]
     },
     "metadata": {},
     "output_type": "display_data"
    }
   ],
   "source": [
    "# Specify the file path for Excel export\n",
    "path_input = widgets.Textarea(\n",
    "    placeholder=\"C:/Users/AidanO'Gorman/OneDrive - Universal Matter/Shared Documents/Technology/Prod Dev - TG Processing/Milling/AttritionMillData.xlsx\",\n",
    "    description='File Path:',\n",
    "    disabled=False\n",
    ")\n",
    "htmldisplay = widgets.HTML(\n",
    "    value=\"C:/Users/AidanO'Gorman/OneDrive - Universal Matter/Shared Documents/Technology/Prod Dev - TG Processing/Milling/AttritionMillData.xlsx\",\n",
    "    placeholder='Some HTML',\n",
    ")\n",
    "maxrow_input = widgets.IntSlider(\n",
    "    value=10,\n",
    "    min=0,\n",
    "    max=50,\n",
    "    step=1,\n",
    "    description='Max Rows:',\n",
    "    disabled=False,\n",
    "    continuous_update=False,\n",
    "    orientation='horizontal',\n",
    "    readout=True,\n",
    "    readout_format='d'\n",
    ")\n",
    "maxcol_input = widgets.IntSlider(\n",
    "    value=30,\n",
    "    min=0,\n",
    "    max=100,\n",
    "    step=1,\n",
    "    description='Max Cols:',\n",
    "    disabled=False,\n",
    "    continuous_update=False,\n",
    "    orientation='horizontal',\n",
    "    readout=True,\n",
    "    readout_format='d'\n",
    ")\n",
    "display(htmldisplay, path_input, maxrow_input, maxcol_input)\n",
    "# Export to Excel\n",
    "#with pd.ExcelWriter(excel_file_path) as writer:\n",
    "#    sort_df.to_excel(writer, sheet_name='Tests', index=False)\n",
    "#    files_df.to_excel(writer, sheet_name='Files', index=False)"
   ]
  },
  {
   "cell_type": "code",
   "execution_count": 5,
   "id": "88f14406-d2fc-45d3-b544-5b03e27b4e9e",
   "metadata": {},
   "outputs": [
    {
     "data": {
      "application/vnd.jupyter.widget-view+json": {
       "model_id": "08e4e2b2d86846cbac0d20ac13558b59",
       "version_major": 2,
       "version_minor": 0
      },
      "text/plain": [
       "Button(button_style='info', description='Save Settings', style=ButtonStyle())"
      ]
     },
     "metadata": {},
     "output_type": "display_data"
    },
    {
     "data": {
      "application/vnd.jupyter.widget-view+json": {
       "model_id": "3ce37703fa7c4c56899878bb0803b534",
       "version_major": 2,
       "version_minor": 0
      },
      "text/plain": [
       "Output()"
      ]
     },
     "metadata": {},
     "output_type": "display_data"
    }
   ],
   "source": [
    "setting_button = widgets.Button(\n",
    "    description='Save Settings', button_style='info'\n",
    ")\n",
    "settingOutputBox = widgets.Output()\n",
    "def saveSettings(b):\n",
    "    excel_file_path = path_input.value\n",
    "    pd.set_option('display.max_rows', maxrow_input.value)\n",
    "    pd.set_option('display.max_columns', maxcol_input.value)\n",
    "    with settingOutputBox:\n",
    "        display(\"Settings saved\")\n",
    "    return\n",
    "display(setting_button, settingOutputBox)\n",
    "setting_button.on_click(saveSettings)"
   ]
  },
  {
   "cell_type": "code",
   "execution_count": 10,
   "id": "0dad4819-f993-4c03-a140-46be49d1c376",
   "metadata": {
    "tags": []
   },
   "outputs": [
    {
     "data": {
      "application/vnd.jupyter.widget-view+json": {
       "model_id": "a0a39fbcdcff4fef9204d4439621fe1f",
       "version_major": 2,
       "version_minor": 0
      },
      "text/plain": [
       "HTML(value='\\n### Interactive Batch Data Viewer\\n\\nThis notebook allows you to select a material IDs to retrie…"
      ]
     },
     "metadata": {},
     "output_type": "display_data"
    },
    {
     "data": {
      "application/vnd.jupyter.widget-view+json": {
       "model_id": "d209acaf02504ca692e76ce5bbbb377d",
       "version_major": 2,
       "version_minor": 0
      },
      "text/plain": [
       "Textarea(value='fp-1, f-1, gp-1, d-1', description='Batch IDs:', placeholder='Input multiple batches separated…"
      ]
     },
     "metadata": {},
     "output_type": "display_data"
    },
    {
     "data": {
      "application/vnd.jupyter.widget-view+json": {
       "model_id": "30ab98e9ebf54fa29699830cbf97b7db",
       "version_major": 2,
       "version_minor": 0
      },
      "text/plain": [
       "ToggleButton(value=False, description='Include related tree samples', icon='check', tooltip='Description')"
      ]
     },
     "metadata": {},
     "output_type": "display_data"
    },
    {
     "data": {
      "application/vnd.jupyter.widget-view+json": {
       "model_id": "5c2c1579c1ac47d38ad3506934088f35",
       "version_major": 2,
       "version_minor": 0
      },
      "text/plain": [
       "ToggleButton(value=False, description='Include all files', icon='check', tooltip='Description')"
      ]
     },
     "metadata": {},
     "output_type": "display_data"
    },
    {
     "data": {
      "application/vnd.jupyter.widget-view+json": {
       "model_id": "924978b1b7254508b6b007f999bc658a",
       "version_major": 2,
       "version_minor": 0
      },
      "text/plain": [
       "ToggleButton(value=False, description='Include all tests', icon='check', tooltip='Description')"
      ]
     },
     "metadata": {},
     "output_type": "display_data"
    },
    {
     "data": {
      "application/vnd.jupyter.widget-view+json": {
       "model_id": "dee608be4dd24f869efd6a5766079165",
       "version_major": 2,
       "version_minor": 0
      },
      "text/plain": [
       "ToggleButton(value=False, description='Export Data', icon='check', tooltip='Description')"
      ]
     },
     "metadata": {},
     "output_type": "display_data"
    },
    {
     "data": {
      "application/vnd.jupyter.widget-view+json": {
       "model_id": "aad5b972e7d040c38f083fa79edd16bb",
       "version_major": 2,
       "version_minor": 0
      },
      "text/plain": [
       "Button(button_style='info', description='Fetch Data', style=ButtonStyle())"
      ]
     },
     "metadata": {},
     "output_type": "display_data"
    },
    {
     "data": {
      "application/vnd.jupyter.widget-view+json": {
       "model_id": "27d0b885e31346fb9cae114cd63575ab",
       "version_major": 2,
       "version_minor": 0
      },
      "text/plain": [
       "Output()"
      ]
     },
     "metadata": {},
     "output_type": "display_data"
    }
   ],
   "source": [
    "\n",
    "# Define the available material types and their corresponding batch information\n",
    "\n",
    "# Create widgets\n",
    "batchMultiple_input = widgets.Textarea(\n",
    "    value='fp-1, f-1, gp-1, d-1',\n",
    "    placeholder='Input multiple batches separated by a comma',\n",
    "    description='Batch IDs:',\n",
    "    disabled=False\n",
    ")\n",
    "output_box = widgets.Output()\n",
    "\n",
    "\n",
    "\n",
    "# Create interactive elements\n",
    "\n",
    "fetch_button = widgets.Button(\n",
    "    description='Fetch Data', button_style='info'\n",
    ")\n",
    "TreeCheck = widgets.ToggleButton(\n",
    "    value=False,\n",
    "    description='Include related tree samples',\n",
    "    disabled=False,\n",
    "    button_style='', # 'success', 'info', 'warning', 'danger' or ''\n",
    "    tooltip='Description',\n",
    "    icon='check'\n",
    ")\n",
    "FileCheck = widgets.ToggleButton(\n",
    "    value=False,\n",
    "    description='Include all files',\n",
    "    disabled=False,\n",
    "    button_style='', # 'success', 'info', 'warning', 'danger' or ''\n",
    "    tooltip='Description',\n",
    "    icon='check'\n",
    ")\n",
    "TestCheck = widgets.ToggleButton(\n",
    "    value=False,\n",
    "    description='Include all tests',\n",
    "    disabled=False,\n",
    "    button_style='', # 'success', 'info', 'warning', 'danger' or ''\n",
    "    tooltip='Description',\n",
    "    icon='check'\n",
    ")\n",
    "ExportCheck = widgets.ToggleButton(\n",
    "    value=False,\n",
    "    description='Export Data',\n",
    "    disabled=False,\n",
    "    button_style='', # 'success', 'info', 'warning', 'danger' or ''\n",
    "    tooltip='Description',\n",
    "    icon='check'\n",
    ")\n",
    "# Define functions to handle interaction\n",
    "def fetch_data(material_type, batch_id):\n",
    "    connection = get_db()\n",
    "    with output_box:\n",
    "        clear_output()\n",
    "        ids = batch_id\n",
    "        with connection.cursor() as cursor:\n",
    "            match material_type:\n",
    "                case \"gp\":\n",
    "                    sql = \"SELECT * FROM Graphene.FullViewGrapheneBatch WHERE ID=%s\"\n",
    "                case \"fp\":\n",
    "                    sql = \"SELECT * FROM Graphene.FullViewFeedstockInternalBatch WHERE ID=%s\"\n",
    "                case \"f\":\n",
    "                    sql = \"SELECT * FROM Graphene.FullViewFlashProcess WHERE ID=%s\"\n",
    "                case \"d\":\n",
    "                    sql = \"SELECT * FROM Graphene.FullViewDispersionBatch WHERE ID=%s\"\n",
    "                case \"fv\":\n",
    "                    sql = \"SELECT * FROM Graphene.FullViewVendorBatch WHERE ID=%s\" #not made yet I dont think\n",
    "            cursor.execute(sql, ids)  # Use the loop variable 'ids' here\n",
    "            result = cursor.fetchall()\n",
    "        df = pd.DataFrame(result)\n",
    "        \n",
    "        # Display the combined DataFrame.\n",
    "        print(f\"Material Type: {material_type}\")\n",
    "        print(f\"Batch ID: {batch_id}\")\n",
    "        print(\"Batch Information:\")\n",
    "        display(df)\n",
    "    return(df)\n",
    "        \n",
    "def fetch_dataMultiple(sample_list):\n",
    "    connection = get_db()\n",
    "    with output_box:\n",
    "        dataframe_list = []\n",
    "        print(sample_list)\n",
    "        for samples in sample_list:\n",
    "            material_type = samples[0]\n",
    "            batch_id = samples[1]\n",
    "            ids = batch_id\n",
    "            with connection.cursor() as cursor:\n",
    "                match material_type:\n",
    "                    case \"gp\":\n",
    "                        sql = \"SELECT * FROM Graphene.FullViewGrapheneBatch WHERE ID=%s\"\n",
    "                    case \"fp\":\n",
    "                        sql = \"SELECT * FROM Graphene.FullViewFeedstockInternalBatch WHERE ID=%s\"\n",
    "                    case \"f\":\n",
    "                        sql = \"SELECT * FROM Graphene.FullViewFlashProcess WHERE ID=%s\"\n",
    "                    case \"d\":\n",
    "                        sql = \"SELECT * FROM Graphene.FullViewDispersionBatch WHERE ID=%s\"\n",
    "                    case \"fv\":\n",
    "                        sql = \"SELECT * FROM Graphene.FullViewFeedstockInternalBatch WHERE ID=%s\" #not made yet I dont think\n",
    "                cursor.execute(sql, ids)  # Use the loop variable 'ids' here\n",
    "                result = cursor.fetchall()\n",
    "            df = pd.DataFrame(result)\n",
    "            df['Material Type'] = material_type\n",
    "            dataframe_list.append(df)\n",
    "    # Display the combined DataFrame.\n",
    "    dataM_df = pd.concat(dataframe_list, ignore_index=True)\n",
    "    return dataM_df\n",
    "\n",
    "def fetch_button_clicked(b):\n",
    "    fetch_data(material_type_dropdown.value, batch_id_input.value)\n",
    "\n",
    "def fetchTree_button_clicked(batchID):\n",
    "    connection = get_db()\n",
    "    #lookup sample\n",
    "    material_type, idnumber = batchID.split(\"-\")\n",
    "    with connection.cursor() as cursor:\n",
    "        match material_type:\n",
    "            case \"gp\":\n",
    "                sql = \"SELECT trees FROM Graphene.FullViewGrapheneBatch WHERE ID=%s\"\n",
    "            case \"fp\":\n",
    "                sql = \"SELECT trees FROM Graphene.FullViewFeedstockInternalBatch WHERE ID=%s\"\n",
    "            case \"f\":\n",
    "                sql = \"SELECT trees FROM Graphene.FullViewFlashProcess WHERE ID=%s\"\n",
    "            case \"d\":\n",
    "                sql = \"SELECT trees FROM Graphene.FullViewDispersionBatch WHERE ID=%s\"\n",
    "            case \"fv\":\n",
    "                sql = \"SELECT trees FROM Graphene.FullViewVendorBatch WHERE ID=%s\" #not made yet I dont think\n",
    "        cursor.execute(sql, idnumber)  # Use the loop variable 'ids' here\n",
    "        result = cursor.fetchone()['trees']\n",
    "    print(result)\n",
    "    samples = generate_sample_list(result)\n",
    "    return(samples)\n",
    "    #data_df = fetch_dataMultiple(sample_list)\n",
    "    #display(data_df)\n",
    "    #return(data_df)\n",
    "    \n",
    "# Function to handle export button click\n",
    "def fetchData(b):\n",
    "    connection = get_db()\n",
    "    with output_box:\n",
    "        clear_output()\n",
    "        data_string = batchMultiple_input.value\n",
    "        sample_list = []\n",
    "        testframe_list = []\n",
    "        dataFile_list = []\n",
    "        samples = data_string.split(\", \")  # Split by comma and space\n",
    "        for sample in samples:\n",
    "            if TreeCheck.value:\n",
    "                sampleTree_list = fetchTree_button_clicked(sample)\n",
    "                sample_list.extend(sampleTree_list)\n",
    "            else:\n",
    "                material_type, batch_id = sample.split(\"-\")\n",
    "                sample_list.append((material_type, batch_id))\n",
    "        sample_list = set(sample_list)\n",
    "        for samplepair in sample_list:\n",
    "            material_type = samplepair[0]\n",
    "            batch_id = samplepair[1]\n",
    "            sample = str(material_type+\"-\"+str(batch_id))\n",
    "            if TestCheck.value:\n",
    "                with connection.cursor() as cursor:\n",
    "                    sql = \"SELECT * FROM Graphene.analysisView WHERE `sampleID`=CONVERT(%s USING utf8)\"\n",
    "                    cursor.execute(sql, (sample,) )  # Use the loop variable 'ids' here\n",
    "                    result = cursor.fetchall()\n",
    "                    df = pd.DataFrame(result)\n",
    "                    testframe_list.append(df)\n",
    "            if FileCheck.value:\n",
    "                techDir = \"C:/Users/AidanO'Gorman/OneDrive - Universal Matter/Shared Documents/Technology/Prod Dev - TG Characterization\"\n",
    "                searchstring = os.path.join(techDir,\"**\",f\"*{sample}**\")\n",
    "                print(searchstring)\n",
    "                fileList = glob.glob(searchstring,recursive=True)\n",
    "                for filePath in fileList:\n",
    "                # Split the path into directory and filename\n",
    "                    directory, filename = os.path.split(filePath)\n",
    "                    subfolder = directory.rsplit(\"Characterization\", 1)[1]\n",
    "                    fileData = [sample, subfolder, filename]\n",
    "                    dataFile_list.append(fileData)\n",
    "        data_df = fetch_dataMultiple(sample_list)\n",
    "        if FileCheck.value:\n",
    "            files_df = pd.DataFrame(dataFile_list, columns=['ID','subfolder','filename'])\n",
    "            display(files_df)\n",
    "        if TestCheck.value:\n",
    "            combined_df = pd.concat(testframe_list, ignore_index=True)\n",
    "            sort_df = combined_df.sort_values(by=['sampleID','testType'])\n",
    "            display(sort_df)\n",
    "        if len(data_df) > 0:\n",
    "            display(data_df)\n",
    "            if ExportCheck.value:\n",
    "                export_path = path_input.value\n",
    "                with pd.ExcelWriter(export_path) as writer:\n",
    "                    if TestCheck.value:\n",
    "                        sort_df.to_excel(writer, sheet_name='Tests', index=False)\n",
    "                    if FileCheck.value:\n",
    "                        files_df.to_excel(writer, sheet_name='Files', index=False)\n",
    "                    data_df.to_excel(writer, sheet_name='Batch results', index=False)\n",
    "                print(f\"Data exported to {export_path}\")\n",
    "        else:\n",
    "            print(\"No data to export.\")\n",
    "        \n",
    "def generate_sample_list(input_string):\n",
    "    sample_list = []\n",
    "    \n",
    "    segments = input_string.split(\" / \")\n",
    "    for segment in segments:\n",
    "        parts = segment.split(\"-\")\n",
    "        if len(parts) == 2:\n",
    "            material_type, batch_id = parts\n",
    "            sample_list.append((material_type, batch_id))\n",
    "    \n",
    "    return sample_list\n",
    "\n",
    "# Attach the export function to the button's click event\n",
    "fetch_button.on_click(fetchData)\n",
    "\n",
    "# Display widgets and instructions\n",
    "instructions = \"\"\"\n",
    "### Interactive Batch Data Viewer\n",
    "\n",
    "This notebook allows you to select a material IDs to retrieve relevant batch information. \n",
    "For each material, enter the type and ID number in the format \"gp-###\", and click the 'Fetch Data' button to view the details. For multiple materials, add a comma followed by a space \", \" to pull multiple from the table simultaneously.\n",
    "\"\"\"\n",
    "\n",
    "display(widgets.HTML(instructions))\n",
    "display(batchMultiple_input, TreeCheck, FileCheck, TestCheck, ExportCheck, fetch_button, output_box)\n",
    "\n",
    "# Create a DataFrame\n",
    "#df = pd.DataFrame(data)\n",
    "\n",
    "#pd.set_option('display.max_rows', None)\n",
    "#pd.set_option('display.max_columns', None)\n",
    "\n",
    "# Display the DataFrame"
   ]
  },
  {
   "cell_type": "code",
   "execution_count": null,
   "id": "ea1695f6-5077-47ca-bcca-690fb3c28602",
   "metadata": {},
   "outputs": [],
   "source": []
  },
  {
   "cell_type": "code",
   "execution_count": null,
   "id": "8be5f248-fabb-49d2-b576-bd7af24d75f1",
   "metadata": {},
   "outputs": [],
   "source": []
  },
  {
   "cell_type": "code",
   "execution_count": null,
   "id": "d175c2c4-b58c-4b2e-b89e-04ee719bbc56",
   "metadata": {},
   "outputs": [],
   "source": []
  }
 ],
 "metadata": {
  "kernelspec": {
   "display_name": "Python 3 (ipykernel)",
   "language": "python",
   "name": "python3"
  },
  "language_info": {
   "codemirror_mode": {
    "name": "ipython",
    "version": 3
   },
   "file_extension": ".py",
   "mimetype": "text/x-python",
   "name": "python",
   "nbconvert_exporter": "python",
   "pygments_lexer": "ipython3",
   "version": "3.10.10"
  },
  "widgets": {
   "application/vnd.jupyter.widget-state+json": {
    "state": {},
    "version_major": 2,
    "version_minor": 0
   }
  }
 },
 "nbformat": 4,
 "nbformat_minor": 5
}
